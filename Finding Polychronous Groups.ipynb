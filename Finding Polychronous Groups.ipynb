{
 "metadata": {
  "name": "",
  "signature": "sha256:19a23b818be895d931f373613733ee0ce56b8a655359bc7464cfd71a85942d85"
 },
 "nbformat": 3,
 "nbformat_minor": 0,
 "worksheets": [
  {
   "cells": [
    {
     "cell_type": "code",
     "collapsed": false,
     "input": [
      "import numpy as np"
     ],
     "language": "python",
     "metadata": {},
     "outputs": [],
     "prompt_number": 13
    },
    {
     "cell_type": "code",
     "collapsed": false,
     "input": [
      "class Neuron:\n",
      "    totalNeurons = 0\n",
      "    \n",
      "    def __init__(self):\n",
      "        self.index = totalNeurons\n",
      "        totalNeurons += 1\n",
      "        \n",
      "        self.afferent = {}\n",
      "        self.defferent = {}\n",
      "        \n",
      "    def addAfferent(self,index,delay):\n",
      "        self.afferent[index] = delay\n",
      "        \n",
      "    def totalAfferent(self):\n",
      "        return len(self.afferent.keys())\n",
      "        \n",
      "    def addDefferent(self,index,delay):\n",
      "        self.defferent[index] = delay\n",
      "        \n",
      "    def totalDefferent(self):\n",
      "        return len(self.defferent.keys())"
     ],
     "language": "python",
     "metadata": {},
     "outputs": [],
     "prompt_number": 28
    },
    {
     "cell_type": "code",
     "collapsed": false,
     "input": [
      "class Network:\n",
      "    \n",
      "    def __init__(self, N, m, r, d_min, d_max):\n",
      "        self.size = 0\n",
      "        self.maxSize = N\n",
      "        self.maxConnections = m\n",
      "        self.radius = r\n",
      "        self.dmin = d_min\n",
      "        self.dmax = d_max\n",
      "        self.__neurons = []\n",
      "        \n",
      "    def __getitem__(self,index):\n",
      "        return self.__neurons[index]\n",
      "        \n",
      "    def addNeuron(self):\n",
      "        self.neurons.append(Neuron())\n",
      "    \n",
      "    def size(self):\n",
      "        return len(self.neurons)"
     ],
     "language": "python",
     "metadata": {},
     "outputs": []
    },
    {
     "cell_type": "code",
     "collapsed": false,
     "input": [
      "N = np.arange(0,1500)\n",
      "m = 5\n",
      "r = 5\n",
      "dmin = 1\n",
      "dmax = 5\n",
      "t_total = 100\n",
      "\n",
      "spikingMat = np.zeros(N,t_total)\n",
      "connMat =  \n"
     ],
     "language": "python",
     "metadata": {},
     "outputs": []
    }
   ],
   "metadata": {}
  }
 ]
}