{
 "cells": [
  {
   "cell_type": "markdown",
   "metadata": {},
   "source": [
    "Take a 2-node neural network...\n",
    "\n",
    "$$N = \\begin{bmatrix} d_{11} & d_{12} \\\\ d_{21} & d_{22} \\end{bmatrix} \\quad \\quad \\vec{n}_1 = \\begin{bmatrix} d_{11} \\\\ d_{21} \\end{bmatrix} \\quad \\vec{n}_2 = \\begin{bmatrix} d_{21} \\\\ d_{22} \\end{bmatrix}$$\n",
    "\n",
    "To find the properties of the delays and activation times for a 2-node network that will result in network-scale oscillations we can represent it using the new time shift operator as follows\n",
    "\n",
    "$$N*\\vec{t} = N*(\\vec{t}+c)$$\n",
    "\n",
    "where $c$ is the period of the oscillations...\n",
    "\n",
    "We begin the analysis by activating the network with arbitrary stimulus $\\vec{t}=\\begin{bmatrix} t_1 \\\\ t_2 \\end{bmatrix}$.\n",
    "\n",
    "$$N*\\vec{t} = \\begin{bmatrix} d_{11} & d_{12} \\\\ d_{21} & d_{22} \\end{bmatrix}*\\begin{bmatrix} t_1 \\\\ t_2 \\end{bmatrix} = \\begin{bmatrix} d_{11} \\\\ d_{21} \\end{bmatrix}*t_1 + \\begin{bmatrix} d_{21} \\\\ d_{22} \\end{bmatrix}*t_2 = \\big\\{d_{11}+t_1, d_{12}+t_2\\big\\}_2*\\begin{bmatrix} d_{11} \\\\ d_{21} \\end{bmatrix} + \\big\\{d_{21}+t_1, d_{22}+t_2\\big\\}_2*\\begin{bmatrix} d_{21} \\\\ d_{22} \\end{bmatrix}$$\n",
    "\n",
    "For both $\\vec{n}_1$ and $\\vec{n}_2$ to be activated we require that the elements in the arrival set equal one another. However, as shown in the problem statement above we need more than that, we need them to both equal $\\vec{t}+c$. This yields the following system of equations.\n",
    "\n",
    "$$\\begin{align}\n",
    "& d_{11} + t_1 = t_1 + c & & \\hspace{20pt} d_{11} = c \\\\\n",
    "& d_{12} + t_2 = t_1 + c & \\Rightarrow & \\hspace{20pt} d_{12} = c - \\Delta t \\\\\n",
    "& d_{21} + t_1 = t_2 + c & & \\hspace{20pt} d_{21} = c + \\Delta t \\\\\n",
    "& d_{22} + t_2 = t_2 + c & & \\hspace{20pt} d_{22} = c \\\\\n",
    "\\end{align}$$\n",
    "\n",
    "where $\\Delta t = t_2 - t_1$. Here we see that given **any** oscillation period, $c$, and **any** temporal offset in activation, $\\Delta t$, we can always find appropriate delays to construct a 2-node network that will exhibit seizure like oscillations. What happens if we allow for inhibition?\n",
    "\n",
    "Inhibition is represented by a negative delay. This convention is convenient given the properites of the arrival set (not covered here). So let's look at the same problem above, but allow for inhibition. \n",
    "\n",
    "---\n",
    "\n",
    "We begin again by activating the network at an arbitrary time.\n",
    "\n",
    "$$N*\\vec{t} = \\begin{bmatrix} d_{11} & d_{12} \\\\ d_{21} & d_{22} \\end{bmatrix}*\\begin{bmatrix} t_1 \\\\ t_2 \\end{bmatrix} = \\begin{bmatrix} d_{11} \\\\ d_{21} \\end{bmatrix}*t_1 + \\begin{bmatrix} d_{21} \\\\ d_{22} \\end{bmatrix}*t_2$$ \n",
    "$$= \\big\\{d_{11}+\\text{sgn}(d_{11})t_1, d_{12}+\\text{sgn}(d_{12})t_2\\big\\}_2*\\begin{bmatrix} d_{11} \\\\ d_{21} \\end{bmatrix} + \\big\\{d_{21}+\\text{sgn}(d_{21})t_1, d_{22}+\\text{sgn}(d_{22})t_2\\big\\}_2*\\begin{bmatrix} d_{21} \\\\ d_{22} \\end{bmatrix}$$\n",
    "\n",
    "Everything is the same except now the arguments of the arrival set have changed. This will change the properties of the system of equations.\n",
    "\n",
    "$$\\begin{align}\n",
    "& d_{11} + \\text{sgn}(d_{11})t_1 = \\text{sgn}(d_{11})(t_1 + c) & & \\hspace{20pt} d_{11} = c + (1-\\text{sgn}(d_{11}))t_1 \\\\\n",
    "& d_{12} + \\text{sgn}(d_{12})t_2 = \\text{sgn}(d_{12})(t_1 + c) & \\Rightarrow & \\hspace{20pt} d_{12} = c + t_1 - \\text{sgn}(d_{12})t_2 \\\\\n",
    "& d_{21} + \\text{sgn}(d_{21})t_1 = \\text{sgn}(d_{21})(t_2 + c) & & \\hspace{20pt} d_{21} = c + t_2 - \\text{sgn}(d_{21})t_1 \\\\\n",
    "& d_{22} + \\text{sgn}(d_{22})t_2 = \\text{sgn}(d_{22})(t_2 + c) & & \\hspace{20pt} d_{22} = c + (1-\\text{sgn}(d_{22}))t_2 \\\\\n",
    "\\end{align}$$\n",
    "\n",
    "Conceptually, if any one connection is inhibitory then there should be no oscillations. This is because each node has only 2 inputs so they must both be excitatory for activation to occur. We can see this mathematically. Let us allow neuron 1's autapse to be inhibitory, i.e. $\\text{sgn}(d_{11}) = -1$, and the rest to be excitatory.\n",
    "\n",
    "$$\\begin{align}\n",
    "d_{11} &= c - 2t_1 \\\\\n",
    "d_{12} &= c - \\Delta t \\\\\n",
    "d_{21} &= c + \\Delta t \\\\\n",
    "d_{22} &= c \\\\\n",
    "\\end{align}$$\n",
    "\n",
    "\n",
    " This can easily be represented in matrix form\n",
    "\n",
    "$$\\begin{bmatrix} \n",
    "1 & 0 & 0 & 0 & 0 \\\\\n",
    "0 & 1 & 0 & 0 & 1 \\\\\n",
    "0 & 0 & 1 & 0 & -1 \\\\\n",
    "0 & 0 & 0 & 1 & 0 \\\\\n",
    "\\end{bmatrix} \\begin{bmatrix} d_{11} \\\\ d_{12} \\\\ d_{21} \\\\ d_{22} \\\\ \\Delta t \\end{bmatrix} =  \\begin{bmatrix} c \\\\ c \\\\ c \\\\ c \\end{bmatrix}$$\n",
    "\n",
    "We have an underdetermined system. We can examine a few of its properties"
   ]
  },
  {
   "cell_type": "code",
   "execution_count": 8,
   "metadata": {
    "collapsed": false,
    "jupyter": {
     "outputs_hidden": false
    }
   },
   "outputs": [
    {
     "name": "stdout",
     "output_type": "stream",
     "text": [
      "--- A ---\n",
      "[[ 1  0  0  0  0]\n",
      " [ 0  1  0  0  1]\n",
      " [ 0  0  1  0 -1]\n",
      " [ 0  0  0  1  0]]\n"
     ]
    }
   ],
   "source": [
    "import numpy as np\n",
    "\n",
    "A = np.array((1,0,0,0,0,0,1,0,0,1,0,0,1,0,-1,0,0,0,1,0)).reshape(4,5); print \"--- A ---\\n\", A"
   ]
  },
  {
   "cell_type": "code",
   "execution_count": 10,
   "metadata": {
    "collapsed": false,
    "jupyter": {
     "outputs_hidden": false
    }
   },
   "outputs": [
    {
     "data": {
      "text/plain": [
       "4"
      ]
     },
     "execution_count": 10,
     "metadata": {},
     "output_type": "execute_result"
    }
   ],
   "source": [
    "np.linalg.linalg.matrix_rank(A)"
   ]
  },
  {
   "cell_type": "code",
   "execution_count": null,
   "metadata": {
    "collapsed": true,
    "jupyter": {
     "outputs_hidden": true
    }
   },
   "outputs": [],
   "source": []
  }
 ],
 "metadata": {
  "kernelspec": {
   "display_name": "Python 3",
   "language": "python",
   "name": "python3"
  },
  "language_info": {
   "codemirror_mode": {
    "name": "ipython",
    "version": 3
   },
   "file_extension": ".py",
   "mimetype": "text/x-python",
   "name": "python",
   "nbconvert_exporter": "python",
   "pygments_lexer": "ipython3",
   "version": "3.7.4"
  }
 },
 "nbformat": 4,
 "nbformat_minor": 4
}
