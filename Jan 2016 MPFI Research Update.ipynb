{
 "cells": [
  {
   "cell_type": "markdown",
   "metadata": {},
   "source": [
    "A few weeks back, I implemented a successful prototype that determines the voronoi regions of 3D test data. What now remains is to apply it to the volume data obtained by James and Monica. However, as input to my algorithm, I need the centroids of the astrocytes in the dataset. Monica said these can be found manually, but the software package that she usually uses to accomplish this is not working at MPFI. Instead of waiting for that to be fixed, I decided to develop an automatic technique."
   ]
  },
  {
   "cell_type": "markdown",
   "metadata": {},
   "source": [
    "First, I explored the Matlab library called <a href=\"http://bmcneurosci.biomedcentral.com/articles/10.1186/1471-2202-9-68\">SpatialAnalysis</a>. The library is old and had bugs due to Matlab updates. I went through the code and updated it to be compatible with the new Matlab versions. This was an easy process and I documented it in case it needed to be reproduced on another machine. I skimmed through the user manual and it sounds like a great tool. Indeed SpatialAnalysis is an interesting tool, but it is primarily designed for uncorrelated 3D data. After spending a significant amount of time, I was unable to get the astrocyte volume data the SpatialAnalysis program. This is because, the astrocyte data is obtained in a grid like fashion, and the convex hull algorithm which is first applied to everything being loaded into SpatialAnalysis, crashes on the astrocyte data. I attempted many fixes, such as down sampling and only loading subsets of the data. I attempted adding noise to the data to decorrelate it. After fruitless efforts I decided to explore other options. "
   ]
  },
  {
   "cell_type": "markdown",
   "metadata": {
    "collapsed": true
   },
   "source": [
    "The next package I decided to explore is called, <a href=\"http://www.ncbi.nlm.nih.gov/pmc/articles/PMC3983515/\">Graph-based active learning of agglomeration</a>, or GALA. It is a Python library to segment 2D and 3D neuroimages. It was developed at Janelia Farms and was presented in 2014 in <a href=\"http://journal.frontiersin.org/journal/neuroinformatics\">Frotiers in Neuroinformatics</a>."
   ]
  },
  {
   "cell_type": "code",
   "execution_count": null,
   "metadata": {
    "collapsed": true
   },
   "outputs": [],
   "source": []
  }
 ],
 "metadata": {
  "kernelspec": {
   "display_name": "Python 2",
   "language": "python",
   "name": "python2"
  },
  "language_info": {
   "codemirror_mode": {
    "name": "ipython",
    "version": 2
   },
   "file_extension": ".py",
   "mimetype": "text/x-python",
   "name": "python",
   "nbconvert_exporter": "python",
   "pygments_lexer": "ipython2",
   "version": "2.7.11"
  }
 },
 "nbformat": 4,
 "nbformat_minor": 0
}
