{
 "cells": [
  {
   "cell_type": "markdown",
   "metadata": {},
   "source": [
    "###Problem Statement\n",
    "\n",
    "Here is the problem statement as I understand it so far. \n",
    "\n",
    "**\"Given the spatial coordinates of various astrocytes, determine a skeletonization of the morphology of a new astrocyte embeded within this population of astrocytes.\"**\n",
    "\n",
    "In layman's terms, if I had a dataset with 5 astrocytes, 4 in the corners and one in the middle, if I removed the one in the middle could I determine a skeletonization of its morphology based on the locations of its and its neighbor's centroids? I made a little graphic to visualize what I'm trying to say...\n",
    "\n",
    "![](media/sample_2d_problem.png)\n",
    "\n",
    "$A_0$ is the target astrocyte. Given the spatial coordinates of its neighbor's centroids, $\\vec{A}^{(i)}=<a_1^{(i)}, a_2^{(i)}> \\hspace{5pt} i \\in \\{1,2,3,4\\}$, can we determine a skeletonization of $A_0$'s processes? Or perhaps instead of thinking about it like processes we can look for curves along the astrocyte's principle directions, i.e. perhaps something like the pink curve?\n",
    "\n",
    "To help solve this problem, we have information from the dataset that can be extracted, as well as assumptions steming from the hypothesis being posed by Monica and James. \n",
    "\n",
    "###Available Information\n",
    "The dataset provided is a volumetric scan of neocortical tissue containing some 6-10 astrocytes. From this scan we can determine the centroid of each astrocyte's soma, the number of processes they contain and a rough outline of their morphology.\n",
    "\n",
    "###Hypothesis\n",
    "Astrocytes express some kind of chemicals or molecules which act as a *deterrent* to other astrocytes. In other words, astrocytes will try to align themselves maximally far away from one another.\n",
    "\n",
    "###The Approach\n",
    "After iterating over a few failed attempts at solving this, the method with most promise is essentially simulating the growth of the processes away from the soma. First, we draw a circle of radius $r$ around the target astrocyte, $A_0$. From this circle, choose $m$ points equally spaced along the circle. Each of these points are going to be a process and these processes are going to \"grow\" subject to some rules/constraints. Ideally, after the processes have fully *grown*, they will comprise the skeletonization of the astrocyte.\n",
    "\n",
    "###The Math\n",
    " I will first solve this problem in 2 dimensions and I will need some notional conventions to describe things. \n",
    "\n",
    "####Notation\n",
    "The centroid of an astrocyte will be denoted by a capital $\\vec{A}$ and we will distinguish different astrocytes with a superscript $(i)$. The $i^{th}$ astrocyte, $\\vec{A}^{(i)}$, will have components denoted by lowercase $a$'s and each component will be distinguished by a subscript. For $n$ asotryctes we have, $\\vec{A}^{(i)}=<a_1^{(i)}, a_2^{(i)}> \\hspace{4pt} i \\in \\{1,\\ldots,n\\}$.\n",
    "\n",
    "The target astrocyte, $A_0$, will have $m$ processes each denoted by a superscript $(j)$. Thus the $j^{th}$ process is denoted by $\\vec{P}^{(j)}$. The path or morphological extent of each process will be described by a sequence of points. The $k^{th}$ point on process $j$ will be denoted as $\\vec{P}^{(j)}_k$. Lastly, each point along the process will have its individual components which will be denoted using lowercase $p$'s and distinguished by a subsubscript. For $m$ processes we have $\\vec{P}^{(j)}_k = <p^{(j)}_{k_1}, p^{(j)}_{k_2}> \\hspace{4pt} j \\in \\{1,\\ldots,m\\}$.\n",
    "\n",
    "####Constraints\n",
    "Using our new notation we can describe the problem mathematically. Let us assume we are at point $k$ on process $j$. The question is, how do we determine the next point that the process should move/grow to? Or, given $\\vec{P}^{(j)}_k$ how do we determine $\\vec{P}^{(j)}_{k+1}$? Theoretically if we can derive this update rule, then we just allow each process to grow subject to its constraints and the result should be the skeletonization. \n",
    "\n",
    "So we want to find the displacement, $\\vec{d}$, as we move from $\\vec{P}^{(j)}_{k}$ to $\\vec{P}^{(j)}_{k+1}$. So we define the displacement as follows\n",
    "\n",
    "$$\\vec{d} = \\vec{P}^{(j)}_{k+1} - \\vec{P}^{(j)}_{k}$$\n",
    "\n",
    "For more convenient algebraic manipulations I will make one more definition.\n",
    "\n",
    "$$\\vec{\\alpha}^{(i)} = \\vec{A}^{(i)} - \\vec{P}^{(j)}_{k}$$\n",
    "\n",
    "We now impose the constraints presented by the aforementioned hypothesis. The point $\\vec{P}^{(j)}_{k+1}$ that the process moves to must be maximally far away from all astrocytes. This gives us our objective function which we wish to maximize.\n",
    "\n",
    "$$g(\\vec{d}) = \\frac{1}{2} \\sum_{i=1}^{n} \\left\\lVert \\vec{d}-\\vec{\\alpha}^{(i)} \\right\\rVert ^2$$\n",
    "\n",
    "We restrict the search space to be on a circle of radius $r$ around the previous point $\\vec{P}^{(j)}_{k}$. This constrains our objective function.\n",
    "\n",
    "$$ \\left\\lVert \\vec{d} \\right\\rVert = r $$\n",
    "\n",
    "We will now use the constraint to make the objective function univariate and optimize it using the standard calculus technique of setting the first derivative equal to zero. \n",
    "\n",
    "Let $\\vec{d} = <d_1,d_2>$. Our optimization problem can be rewritten as\n",
    "\n",
    "$$ g(\\vec{d}) = \\frac{1}{2}\\sum_{i=1}^{n} (d_1-\\alpha_1^{(i)})^2 + (d_2 - \\alpha_2^{(i)})^2$$\n",
    "\n",
    "$$ d_1^2 + d_2^2 = r^2$$\n",
    "\n",
    "Assuming $d_1$ is a function of $d_2$, we will differentiate the objective function with respect to $d_2$\n",
    "\n",
    "$$ \\frac{dg}{dd_2} = \\sum_{i=1}^{n} (d_1-\\alpha_1^{(i)})\\frac{dd_1}{dd_2} + (d_2 - \\alpha_2^{(i)})$$\n",
    "$$ \\frac{dg}{dd_2} = \\sum_{i=1}^{n} d_1 \\frac{dd_1}{dd_2} - \\alpha_1^{(i)} \\frac{dd_1}{dd_2} + d_2 - \\alpha_2^{(i)}$$\n",
    "$$ \\frac{dg}{dd_2} = d_1 \\frac{dd_1}{dd_2} \\sum_{i=1}^{n}1 -  \\frac{dd_1}{dd_2} \\sum_{i=1}^{n} \\alpha_1^{(i)} + d_2 \\sum_{i=1}^{n}1 - \\sum_{i=1}^{n} \\alpha_2^{(i)}$$\n",
    "\n",
    "To simplify notation let us define \n",
    "$$\\sum_{i=1}^{n} \\alpha_1^{(i)} = \\alpha_1$$\n",
    "$$\\sum_{i=1}^{n} \\alpha_2^{(i)} = \\alpha_2$$\n",
    "In addition we will use the following fact\n",
    "$$\\sum_{i=1}^{n} 1 = n$$\n",
    "\n",
    "Incorporating the above information the derivative of the objective function becomes\n",
    "\n",
    "$$ \\frac{dg}{dd_2} = n d_1 \\frac{dd_1}{dd_2} -  \\frac{dd_1}{dd_2} \\alpha_1 + n d_2 - \\alpha_2$$\n",
    "\n",
    "We now need to incorporate the constraint. This is where things could become pretty ugly. However if instead of explicitly solving for $d_1$ and differentiating, we differentiate implicitly we find a much more convenient substitution.\n",
    "\n",
    "$$ \\frac{d}{dd_2}\\bigg[ d_1^2 + d_2^2 = r^2 \\bigg] \\hspace{5pt} \\rightarrow \\hspace{5pt} 2d_1\\frac{dd_1}{dd_2} + 2d_2 = 0$$\n",
    "$$ \\frac{dd_1}{dd_2} = -\\frac{d_2}{d_1} $$\n",
    "\n",
    "We put this into the differentiated objective function above to get\n",
    "\n",
    "$$ \\frac{dg}{dd_2} = n d_1 (-\\frac{d_2}{d_1}) +  \\frac{d_2}{d_1} \\alpha_1 + n d_2 - \\alpha_2$$\n",
    "$$ \\frac{dg}{dd_2} = -n d_2 +  \\frac{d_2}{d_1} \\alpha_1 + n d_2 - \\alpha_2$$\n",
    "$$ \\frac{dg}{dd_2} = \\frac{d_2}{d_1} \\alpha_1 - \\alpha_2$$\n",
    "\n",
    "Now we set the derivative equal to zero and solve for $d_2$.\n",
    "$$ \\frac{d_2}{d_1} \\alpha_1 - \\alpha_2 = 0$$\n",
    "$$ d_2 = d_1 \\frac{\\alpha_2}{\\alpha_1}$$\n",
    "\n",
    "I will make another substitution here to further simplify the notation\n",
    "\n",
    "$$ \\alpha = \\frac{\\alpha_2}{\\alpha_1} $$\n",
    "\n",
    "So we have that\n",
    "\n",
    "$$ d_2 = d_1 \\alpha$$\n",
    "\n",
    "We are almost done. If we square both sides of this relation we get\n",
    "\n",
    "$$ d_2^2 = d_1^2 \\alpha^2$$\n",
    "\n",
    "but recall from our constraint that\n",
    "\n",
    "$$ d_1^2 + d_2^2 = r^2 \\hspace{5pt} \\rightarrow \\hspace{5pt} d_1^2 = r^2 - d_2^2$$\n",
    "\n",
    "Therefore\n",
    "\n",
    "$$ d_2^2 = (r^2 - d_2^2) \\alpha^2$$\n",
    "$$ d_2^2 = r^2 \\alpha^2 - d_2^2 \\alpha^2$$\n",
    "$$ d_2^2 + d_2^2 \\alpha^2 = r^2 \\alpha^2$$\n",
    "$$ d_2^2( 1 + \\alpha^2 ) = r^2 \\alpha^2$$\n",
    "\n",
    "We now have $d_2$\n",
    "\n",
    "$$ d_2 = r\\frac{\\alpha}{\\sqrt{1+\\alpha^2}}$$\n",
    "\n",
    "We use this to find $d_1$\n",
    "\n",
    "$$d_1^2 = r^2 - d_2^2 \\hspace{5pt} \\rightarrow \\hspace{5pt} d_1^2 = r^2 - \\frac{r^2\\alpha^2}{1+\\alpha^2}$$\n",
    "$$d_1^2 = r^2( 1 - \\frac{\\alpha^2}{1+\\alpha^2})$$\n",
    "$$d_1^2 = r^2( \\frac{1+\\alpha^2}{1+\\alpha^2} - \\frac{\\alpha^2}{1+\\alpha^2})$$\n",
    "$$d_1^2 = r^2\\frac{1+\\alpha^2-\\alpha^2}{1+\\alpha^2}$$\n",
    "$$d_1^2 = r^2\\frac{1}{1+\\alpha^2}$$\n",
    "\n",
    "After taking the square root of both sides we have found $d_1$.\n",
    "\n",
    "$$d_1 = r\\frac{1}{\\sqrt{1+\\alpha^2}}$$\n",
    "\n",
    "With $d_1$ and $d_2$ we have finally found our displacement vector!\n",
    "\n",
    "$$\\vec{d} = r<\\frac{1}{\\sqrt{1+\\alpha^2}}, \\frac{\\alpha}{\\sqrt{1+\\alpha^2}}>$$\n",
    "\n",
    "We can now define our update rule...\n",
    "\n",
    "$$\\vec{P}^{(j)}_{k+1} = \\vec{P}^{(j)}_{k} + r<\\frac{1}{\\sqrt{1+\\alpha^2}}, \\frac{\\alpha}{\\sqrt{1+\\alpha^2}}>$$\n",
    "\n",
    "Where we define $\\alpha$ as follows \n",
    "$$\\alpha = \\sum_{i=1}^n \\frac{a^{(i)}_2 - \\vec{p}^{(j)}_{k_2}}{a^{(i)}_1 - \\vec{p}^{(j)}_{k_1}}$$\n",
    "\n",
    "That should be it, for now. Last night I tried to show that this solution was in fact the maximzer of the objective function, I think I did it but I need to go through that math again before I write it up.\n",
    "\n",
    "###Discussion\n",
    "So the way I envision it, we look at a dataset and determine the centroids of all astrocytes. Then we find the target astrocyte and count the number of processes it has, call it $m$. We use the targest astrocyte's centroid as the seed location and then *grow* $m$ processes equally spaced on a circle around the target centroid. Then we see what happens!\n",
    "\n",
    "This is just a first attempt. I can imagine the objective function being too relaxed, i.e. currently at each step the process is allowed to move in any of 360 degrees of rotation. This is extremely unrealistic. I will test this idea outlined above first of course, but I can already imagine adding another term to the objective function that penalizes the new point for how large the angle of rotation is between the vector formed from the previous and current points as well as the vector formed from the current and next ponits. Here is a picture of what I mean.\n",
    "\n",
    "![](media/angle_cost.png)\n",
    "\n",
    "So the larger the angle the larger the penalty. \n",
    "\n",
    "Also, when this problem moves into 3 dimensions we will have an extra degree of freedom and will need another constraint. However, I suspect this won't be a huge problem as I've just pointed out how relaxed the current rules are. Depending on the rules and their formulation it may become infeasible to derive a nice analytic expression for the update rule, as was done in this case. It will likely need to be solved numerically.\n",
    "\n",
    "###Test Implementation"
   ]
  },
  {
   "cell_type": "code",
   "execution_count": 2,
   "metadata": {
    "collapsed": false
   },
   "outputs": [],
   "source": [
    "import numpy as np\n",
    "import matplotlib.pyplot as plt\n",
    "%matplotlib inline"
   ]
  },
  {
   "cell_type": "markdown",
   "metadata": {},
   "source": [
    "Let us create a simple test environment. We will use the cartesian coordinate system, $[-4,4]\\times[-4,4]$. We will place the target astrocyte, $A_0$, at the origin and 6 neighboring astrocytes along either side as shown in the following diagram."
   ]
  },
  {
   "cell_type": "code",
   "execution_count": 4,
   "metadata": {
    "collapsed": false
   },
   "outputs": [],
   "source": [
    "A = np.array([(0,0),(-3,3),(-3,0),(-3,-3),(3,3),(3,0),(3,-3)])"
   ]
  },
  {
   "cell_type": "code",
   "execution_count": 8,
   "metadata": {
    "collapsed": false
   },
   "outputs": [
    {
     "data": {
      "text/plain": [
       "<matplotlib.collections.PathCollection at 0x7efdd1953f50>"
      ]
     },
     "execution_count": 8,
     "metadata": {},
     "output_type": "execute_result"
    },
    {
     "data": {
      "image/png": "[encoded data removed]",
      "text/plain": [
       "<matplotlib.figure.Figure at 0x7efdd1a91a50>"
      ]
     },
     "metadata": {},
     "output_type": "display_data"
    }
   ],
   "source": [
    "plt.axes().set_aspect('equal')\n",
    "plt.scatter(A.T[0][1:], A.T[1][1:])\n",
    "plt.scatter(A[0,0],A[0,1], color='r')"
   ]
  },
  {
   "cell_type": "markdown",
   "metadata": {},
   "source": [
    "Now we create a circle of radius 1 around the target astrocyte, $A_0$."
   ]
  },
  {
   "cell_type": "code",
   "execution_count": 9,
   "metadata": {
    "collapsed": false
   },
   "outputs": [],
   "source": [
    "x = np.linspace(-1,1,50)\n",
    "r = 1.0"
   ]
  },
  {
   "cell_type": "code",
   "execution_count": 11,
   "metadata": {
    "collapsed": false
   },
   "outputs": [
    {
     "data": {
      "text/plain": [
       "[<matplotlib.lines.Line2D at 0x7efdd1877c10>]"
      ]
     },
     "execution_count": 11,
     "metadata": {},
     "output_type": "execute_result"
    },
    {
     "data": {
      "image/png": "[encoded data removed]",
      "text/plain": [
       "<matplotlib.figure.Figure at 0x7efdd1ad6cd0>"
      ]
     },
     "metadata": {},
     "output_type": "display_data"
    }
   ],
   "source": [
    "plt.axes().set_aspect('equal')\n",
    "plt.scatter(A.T[0][1:], A.T[1][1:])\n",
    "plt.scatter(A[0,0],A[0,1], color='r')\n",
    "plt.plot(x,np.sqrt(r*r-x*x),color='k')\n",
    "plt.plot(x,-np.sqrt(r*r-x*x),color='k')"
   ]
  },
  {
   "cell_type": "markdown",
   "metadata": {},
   "source": [
    "We now create the seed points on the circle for the processes to *grow* from. We will choose $m=4$ for now. I choose them randomly space for testing purposes"
   ]
  },
  {
   "cell_type": "code",
   "execution_count": 14,
   "metadata": {
    "collapsed": false
   },
   "outputs": [
    {
     "name": "stdout",
     "output_type": "stream",
     "text": [
      "theta =  [ 0.22167669  6.01455519  1.3516863   4.8751317 ]\n"
     ]
    }
   ],
   "source": [
    "m = 4\n",
    "theta = 2*np.pi*np.random.random(m)\n",
    "P = np.array((zip(np.cos(theta),np.sin(theta))))"
   ]
  },
  {
   "cell_type": "code",
   "execution_count": 15,
   "metadata": {
    "collapsed": false
   },
   "outputs": [
    {
     "data": {
      "text/plain": [
       "array([[ 0.97553017,  0.21986559],\n",
       "       [ 0.96413538, -0.26541093],\n",
       "       [ 0.21736101,  0.97609128],\n",
       "       [ 0.16202529, -0.98678661]])"
      ]
     },
     "execution_count": 15,
     "metadata": {},
     "output_type": "execute_result"
    }
   ],
   "source": [
    "P"
   ]
  },
  {
   "cell_type": "code",
   "execution_count": 17,
   "metadata": {
    "collapsed": false
   },
   "outputs": [
    {
     "data": {
      "text/plain": [
       "<matplotlib.collections.PathCollection at 0x7efdd1a017d0>"
      ]
     },
     "execution_count": 17,
     "metadata": {},
     "output_type": "execute_result"
    },
    {
     "data": {
      "image/png": "[encoded data removed]",
      "text/plain": [
       "<matplotlib.figure.Figure at 0x7efdd1a48550>"
      ]
     },
     "metadata": {},
     "output_type": "display_data"
    }
   ],
   "source": [
    "plt.axes().set_aspect('equal')\n",
    "plt.scatter(A.T[0][1:], A.T[1][1:])\n",
    "plt.scatter(A[0,0],A[0,1], color='r')\n",
    "plt.plot(x,np.sqrt(r*r-x*x),color='k')\n",
    "plt.plot(x,-np.sqrt(r*r-x*x),color='k')\n",
    "plt.scatter(P.T[0],P.T[1],color='g')"
   ]
  },
  {
   "cell_type": "code",
   "execution_count": 49,
   "metadata": {
    "collapsed": true
   },
   "outputs": [],
   "source": [
    "def grow(A,p1,step):\n",
    "    alpha = 0\n",
    "    for a in A:\n",
    "        tmp = a-p1\n",
    "        if tmp[0] == 0:\n",
    "            alpha += tmp[1]\n",
    "        else:\n",
    "            alpha += tmp[1]/float(tmp[0])\n",
    "    den = np.sqrt(1+alpha*alpha)\n",
    "    p2 = p1 + (step/den)*np.array((1, alpha))\n",
    "    \n",
    "    return p2"
   ]
  },
  {
   "cell_type": "code",
   "execution_count": null,
   "metadata": {
    "collapsed": true
   },
   "outputs": [],
   "source": [
    "processes = []\n",
    "for p in P:\n",
    "    processes.append([p])"
   ]
  },
  {
   "cell_type": "code",
   "execution_count": 56,
   "metadata": {
    "collapsed": false
   },
   "outputs": [],
   "source": [
    "def update_processes(processes,step):\n",
    "    for p in processes: \n",
    "        p.append(grow(A,p[-1],step))\n",
    "        \n",
    "    return processes"
   ]
  },
  {
   "cell_type": "code",
   "execution_count": null,
   "metadata": {
    "collapsed": true
   },
   "outputs": [],
   "source": [
    "def update_plot(processes):"
   ]
  },
  {
   "cell_type": "code",
   "execution_count": 61,
   "metadata": {
    "collapsed": false
   },
   "outputs": [
    {
     "name": "stdout",
     "output_type": "stream",
     "text": [
      "Hello!\n"
     ]
    }
   ],
   "source": [
    "step = 0.25\n",
    "plt.show()\n",
    "print \"Hello!\""
   ]
  },
  {
   "cell_type": "code",
   "execution_count": null,
   "metadata": {
    "collapsed": true
   },
   "outputs": [],
   "source": []
  }
 ],
 "metadata": {
  "kernelspec": {
   "display_name": "Python 2",
   "language": "python",
   "name": "python2"
  },
  "language_info": {
   "codemirror_mode": {
    "name": "ipython",
    "version": 2
   },
   "file_extension": ".py",
   "mimetype": "text/x-python",
   "name": "python",
   "nbconvert_exporter": "python",
   "pygments_lexer": "ipython2",
   "version": "2.7.10"
  }
 },
 "nbformat": 4,
 "nbformat_minor": 0
}
