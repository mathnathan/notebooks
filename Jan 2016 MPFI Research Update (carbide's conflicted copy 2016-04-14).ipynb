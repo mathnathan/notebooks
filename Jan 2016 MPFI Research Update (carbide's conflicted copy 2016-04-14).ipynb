{
 "cells": [
  {
   "cell_type": "markdown",
   "metadata": {},
   "source": [
    "<h3>Astrocyte Voronoi Project with Monica</h3>"
   ]
  },
  {
   "cell_type": "markdown",
   "metadata": {},
   "source": [
    "I implemented a successful prototype that determines the voronoi regions of 3D test data. What now remains is to apply it to the volume data obtained by you and Monica. However, as input to my algorithm, I need the centroids of the astrocytes in the dataset. Monica said these can be found manually, but the software package that she usually uses to accomplish this (IMARIS) is not working at MPFI. While waiting for that to be fixed, I decided to develop an automatic technique."
   ]
  },
  {
   "cell_type": "markdown",
   "metadata": {},
   "source": [
    "First, I explored the Matlab library called <a href=\"http://bmcneurosci.biomedcentral.com/articles/10.1186/1471-2202-9-68\">SpatialAnalysis</a>. The library is old and had bugs due to Matlab updates. I went through the code and updated it to be compatible with the new Matlab versions. This was an easy process and I documented it in case it needed to be reproduced on another machine. I skimmed through the user manual and it sounds like a great tool. Indeed SpatialAnalysis is an interesting tool, but it is primarily designed for uncorrelated 3D data. After spending a significant amount of time, I was unable to get the astrocyte volume data into the SpatialAnalysis program. This is because, the astrocyte data is obtained in a grid like fashion, and the convex hull algorithm which is first applied to everything being loaded into SpatialAnalysis, crashes on the astrocyte data. I attempted many fixes, such as down sampling and only loading subsets of the data. I attempted adding noise to the data to decorrelate it. After fruitless efforts I decided to explore other options. "
   ]
  },
  {
   "cell_type": "markdown",
   "metadata": {
    "collapsed": true
   },
   "source": [
    "The next package I decided to explore is called, <a href=\"http://www.ncbi.nlm.nih.gov/pmc/articles/PMC3983515/\">Graph-based active learning of agglomeration</a>, or GALA. It is a Python library to segment 2D and 3D neuroimages. It was developed at Janelia Farms and was presented in 2014 in <a href=\"http://journal.frontiersin.org/journal/neuroinformatics\">Frotiers in Neuroinformatics</a>. While of course people will only present their best results, the segmentations in the paper were quite impressive. The approach is essentially a robust agglomeration segmentation algorithm. The biggest downside of GALA is the requirement of a \"groundtruth segmentation\". This means, if one had many 3D volume scans of the same type that needed to be segmented, they would need to fully segment one of them manually a priori. This initial ground truth segmentation is used as a template for the machine learning algorithm to automatically segment the remaining 3D scans. So I have asked Monica if it is possible to obtain a fully segmented 3D scan of similar data for me to use in the algorithm. We are still working on this.\n",
    "\n",
    "Once the astrocytes are segmented I can easily determine their centroids and these can be used to calculate the voronoi regions. We are getting closer!"
   ]
  },
  {
   "cell_type": "markdown",
   "metadata": {
    "collapsed": true
   },
   "source": [
    "<h3>Astrocyte Calcium Dynamics Project</h3>"
   ]
  },
  {
   "cell_type": "markdown",
   "metadata": {},
   "source": [
    "I implemented a virtual Windows 7 emulator and have successfully compiled python programs into windows executable files. The program I wrote over the Summer can be run as a simple Windows executable now! Monica is able to run them on her machine. This is great because with Monica running and testomg the program I wrote over Summer I can get her input. We can finish some last tweaks on the program and get some results for the results section of the paper! Then after she helps write the methods section, it should be ready for review.\n",
    "\n",
    "In addition, the GALA algorithm mentioned above can be applied to 2D data! So it will allow us to automate the path drawing of the astrocytes. I attempted to create my own groundtruth segementation of the astrocyte intensity. However upon presenting it to Monica for approval, she kindly pointed out that it was absolutely terrible... So, she agreed to provide one of those for me.\n",
    "\n",
    "This segmentation algorithm should allow us to perform some very interesting analysis and answer more questions. Monica was impressed with the paper and is excited to see how it works on the astrocyte data."
   ]
  },
  {
   "cell_type": "markdown",
   "metadata": {},
   "source": [
    "<h3>Conclusions</h3>\n",
    "\n",
    "In conclusion, things are going very well! Currently, we have two projects in the works and this GALA algorithm should really speed up both of them. Monica and I have been meeting weekly and we made it our goal to finish both of these projects and publish on each of them. \n",
    "\n",
    "I asked Monica how you are doing. She said you were going through some tough times right now. She wouldn't tell me anymore so I don't know if there is anything I can do to help, but I want you to know that I appreciate you teaching me so much over the Summer and for this opportunity to work on your data with Monica. If I can be helpful to you in any way please let me know! I hope knowing that Monica and I will take care of these projects might relieve a little stress or help in some way. \n",
    "\n",
    "Strength and Honor! =)"
   ]
  },
  {
   "cell_type": "code",
   "execution_count": null,
   "metadata": {
    "collapsed": true
   },
   "outputs": [],
   "source": []
  }
 ],
 "metadata": {
  "kernelspec": {
   "display_name": "Python 2",
   "language": "python",
   "name": "python2"
  },
  "language_info": {
   "codemirror_mode": {
    "name": "ipython",
    "version": 2
   },
   "file_extension": ".py",
   "mimetype": "text/x-python",
   "name": "python",
   "nbconvert_exporter": "python",
   "pygments_lexer": "ipython2",
   "version": "2.7.11"
  }
 },
 "nbformat": 4,
 "nbformat_minor": 0
}
