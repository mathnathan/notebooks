{
 "cells": [
  {
   "cell_type": "code",
   "execution_count": 101,
   "metadata": {},
   "outputs": [],
   "source": [
    "import numpy as np\n",
    "\n",
    "class LN():\n",
    "    \n",
    "    def __init__(self, mu, cov):\n",
    "        self.mu = mu\n",
    "        self.cov = cov\n",
    "        self.C = np.power(2*np.pi,mu.size/2)\n",
    "        \n",
    "    def __call__(self, x):\n",
    "        coeff1 = 1/(self.C * np.sqrt(self.cov.prod()))\n",
    "        coeff2 = 1/(x*(1-x)).prod()\n",
    "        logit = np.log(x/(1-x))\n",
    "        e = np.exp(-0.5*(np.power(logit-self.mu,2)/self.cov).sum())\n",
    "        return coeff1*coeff2*e\n",
    "    \n",
    "    def max_loc(self):\n",
    "        return np.exp(self.mu)/(1+np.exp(self.mu))\n",
    "    \n",
    "    def maximum(self):\n",
    "        m = self.max_loc()\n",
    "        coeff1 = 1/(self.C * np.sqrt(self.cov.prod()))\n",
    "        coeff2 = 1/(m*(1-m)).prod()\n",
    "        return coeff1*coeff2\n",
    "    \n",
    "    def sample(self, num_samps=1):\n",
    "        samples = []\n",
    "        m = self.maximum()\n",
    "        #print(\"m = \", m)\n",
    "        while len(samples) < num_samps:\n",
    "            x = np.random.uniform(size=self.mu.size)\n",
    "            #print(\"x = \", x)\n",
    "            r = np.random.uniform(m)\n",
    "            #print(\"r = \", r)\n",
    "            #print(\"call({}) = {}\".format(x,self.__call__(x)))\n",
    "            if r < self.__call__(x):\n",
    "                samples.append(x)\n",
    "        return np.array(samples)"
   ]
  },
  {
   "cell_type": "code",
   "execution_count": 215,
   "metadata": {},
   "outputs": [],
   "source": [
    "logit_norm = LN(np.array(-1.0),np.array(0.1))"
   ]
  },
  {
   "cell_type": "code",
   "execution_count": 216,
   "metadata": {},
   "outputs": [
    {
     "data": {
      "image/png": "[encoded data removed]",
      "text/plain": [
       "<Figure size 432x288 with 1 Axes>"
      ]
     },
     "metadata": {
      "needs_background": "light"
     },
     "output_type": "display_data"
    }
   ],
   "source": [
    "import matplotlib.pyplot as plt\n",
    "xpts = np.linspace(0.01,0.99,1000)\n",
    "plt.plot(xpts, [logit_norm(x) for x in xpts]); plt.show()"
   ]
  },
  {
   "cell_type": "code",
   "execution_count": 187,
   "metadata": {},
   "outputs": [],
   "source": [
    "ypts= np.array([logit_norm(x) for x in xpts])"
   ]
  },
  {
   "cell_type": "code",
   "execution_count": 188,
   "metadata": {},
   "outputs": [
    {
     "data": {
      "text/plain": [
       "0.4995095095095095"
      ]
     },
     "execution_count": 188,
     "metadata": {},
     "output_type": "execute_result"
    }
   ],
   "source": [
    "xpts[ypts.argmax()]"
   ]
  },
  {
   "cell_type": "code",
   "execution_count": 150,
   "metadata": {},
   "outputs": [],
   "source": [
    "ln_2d = LN(np.array([-1.75,0.75]),np.array([0.76,0.16]))"
   ]
  },
  {
   "cell_type": "code",
   "execution_count": 151,
   "metadata": {},
   "outputs": [],
   "source": [
    "samples = ln_2d.sample(1000)"
   ]
  },
  {
   "cell_type": "code",
   "execution_count": 152,
   "metadata": {},
   "outputs": [
    {
     "data": {
      "image/png": "[encoded data removed]",
      "text/plain": [
       "<Figure size 432x288 with 1 Axes>"
      ]
     },
     "metadata": {
      "needs_background": "light"
     },
     "output_type": "display_data"
    }
   ],
   "source": [
    "plt.scatter(samples[:,0], samples[:,1])\n",
    "plt.xlim(0,1)\n",
    "plt.ylim(0,1)\n",
    "plt.show()"
   ]
  },
  {
   "cell_type": "code",
   "execution_count": 112,
   "metadata": {},
   "outputs": [
    {
     "data": {
      "text/plain": [
       "(10000, 1)"
      ]
     },
     "execution_count": 112,
     "metadata": {},
     "output_type": "execute_result"
    }
   ],
   "source": [
    "samples.shape"
   ]
  },
  {
   "cell_type": "code",
   "execution_count": 16,
   "metadata": {},
   "outputs": [
    {
     "data": {
      "text/plain": [
       "2.4858328248168147"
      ]
     },
     "execution_count": 16,
     "metadata": {},
     "output_type": "execute_result"
    }
   ],
   "source": [
    "m1 = logit_norm(np.array([xpts]))[0].max(); m1"
   ]
  },
  {
   "cell_type": "code",
   "execution_count": 17,
   "metadata": {},
   "outputs": [
    {
     "data": {
      "text/plain": [
       "0.7005671424739729"
      ]
     },
     "execution_count": 17,
     "metadata": {},
     "output_type": "execute_result"
    }
   ],
   "source": [
    "logit_norm.max_loc()"
   ]
  },
  {
   "cell_type": "code",
   "execution_count": 18,
   "metadata": {},
   "outputs": [
    {
     "data": {
      "text/plain": [
       "2.3062500352372193"
      ]
     },
     "execution_count": 18,
     "metadata": {},
     "output_type": "execute_result"
    }
   ],
   "source": [
    "m2 = logit_norm.maximum(); m2"
   ]
  },
  {
   "cell_type": "code",
   "execution_count": 19,
   "metadata": {},
   "outputs": [
    {
     "data": {
      "text/plain": [
       "0.1795827895795954"
      ]
     },
     "execution_count": 19,
     "metadata": {},
     "output_type": "execute_result"
    }
   ],
   "source": [
    "m1-m2"
   ]
  },
  {
   "cell_type": "code",
   "execution_count": 20,
   "metadata": {},
   "outputs": [
    {
     "data": {
      "text/plain": [
       "0.4624000000000001"
      ]
     },
     "execution_count": 20,
     "metadata": {},
     "output_type": "execute_result"
    }
   ],
   "source": [
    "0.68*0.68"
   ]
  },
  {
   "cell_type": "code",
   "execution_count": null,
   "metadata": {},
   "outputs": [],
   "source": []
  }
 ],
 "metadata": {
  "kernelspec": {
   "display_name": "Python 3",
   "language": "python",
   "name": "python3"
  },
  "language_info": {
   "codemirror_mode": {
    "name": "ipython",
    "version": 3
   },
   "file_extension": ".py",
   "mimetype": "text/x-python",
   "name": "python",
   "nbconvert_exporter": "python",
   "pygments_lexer": "ipython3",
   "version": "3.7.4"
  }
 },
 "nbformat": 4,
 "nbformat_minor": 4
}
