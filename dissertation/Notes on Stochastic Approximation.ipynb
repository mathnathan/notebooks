{
 "cells": [
  {
   "cell_type": "markdown",
   "metadata": {},
   "source": [
    "## Robbins-Monroe Algorithm\n",
    "\n",
    "Assume we wish to find the root of an unknown function $g(x)$. If $g(x)$ were known and continuously differentiable we could apply Newton's method\n",
    "\n",
    "$$x_{n+1} = x_n - \\frac{g(x_n)}{g_x(x_n)}$$\n",
    "\n",
    "where $g_x(\\cdot)$ is the derivative of $g(\\cdot)$ with respect to $x$. An alternative approach would be to use the following iterative updates\n",
    "\n",
    "$$x_{n+1} = x_n + \\epsilon g(x_n)$$\n",
    "\n",
    "where we no longer need the derivative of $g(x)$ and convergence is guaranteed if $x_0-x^*$ is sufficiently small, where $x^*$ is a root $g(x^*)=0$."
   ]
  },
  {
   "cell_type": "code",
   "execution_count": 2,
   "metadata": {},
   "outputs": [
    {
     "data": {
      "image/png": "[encoded data removed]",
      "text/plain": [
       "<Figure size 720x504 with 1 Axes>"
      ]
     },
     "metadata": {
      "needs_background": "light"
     },
     "output_type": "display_data"
    }
   ],
   "source": [
    "import matplotlib.pyplot as plt\n",
    "%matplotlib inline\n",
    "from ipywidgets import interactive\n",
    "import numpy as np\n",
    "\n",
    "np.random.seed(12)\n",
    "\n",
    "\n",
    "def f(x):\n",
    "    return np.sin(x)\n",
    "\n",
    "true_root = np.pi\n",
    "approx_root = np.pi/2 -1\n",
    "x_vals = np.linspace(-np.pi/4, 2*np.pi+np.pi/4, 200)\n",
    "f_vals = f(x_vals)\n",
    "\n",
    "def draw(i=0):\n",
    "    global approx_root\n",
    "\n",
    "    fig, ax = plt.subplots(figsize=(10,7))\n",
    "    ax.plot(x_vals, f_vals, c='r', lw=3, label='$f(x)$')\n",
    "    ax.scatter([approx_root],[0],lw=3,c='k')\n",
    "    ax.plot([approx_root,approx_root],[0,1],label=\"$\\tilde{x}$\", lw=3)\n",
    "    ax.plot([-np.pi/4,2*np.pi+np.pi/4],[0,0],c='grey')\n",
    "    ax.set_xlim(-np.pi/4,2*np.pi+np.pi/4)\n",
    "    plt.show()\n",
    "    approx_root += 0.5*(f(approx_root)+np.random.normal(0,0.1))\n",
    "    \n",
    "\n",
    "interactive_plot = interactive(draw, i=(0, 9999))\n",
    "output = interactive_plot.children[-1]\n",
    "output.layout.height = '500px'\n",
    "interactive_plot"
   ]
  },
  {
   "cell_type": "markdown",
   "metadata": {},
   "source": [
    "More insight as to why the above scheme works is to look at the recursive formulation of the linear least squares estimator of the mean.\n",
    "\n",
    "$$\\mu^* = \\min_{\\mu} \\frac{1}{2}\\sum_n^N (x_n-\\mu)^2 = \\sum_n^N \\frac{x_n}{N}$$\n",
    "\n",
    "If we rewrite the far RHS recursively we arrive at an expression similar to our above iterative scheme\n",
    "\n",
    "$$\\mu_{n+1} = \\mu_n + \\epsilon_n (x_n-\\mu_n)$$\n",
    "\n",
    "where $\\epsilon_n = \\frac{1}{1+n}$ and shows how the step size decreases naturally and leads to an implicit averaging of the observations."
   ]
  },
  {
   "cell_type": "markdown",
   "metadata": {},
   "source": [
    "### Example\n",
    "\n",
    "Let $F(x,\\theta)$ be an unknown distribution function of a real-valued random variable $x$. Let's define $f(\\theta) = \\int x F(\\text{dx},\\theta)$, to be the mean value under a particular $\\theta$. The goal is to find a value $\\theta^*$ such that $f(\\theta^*)=0$."
   ]
  },
  {
   "cell_type": "code",
   "execution_count": null,
   "metadata": {},
   "outputs": [],
   "source": []
  },
  {
   "cell_type": "markdown",
   "metadata": {},
   "source": [
    "### On Convergence\n",
    "\n",
    "We explore convergence theorems because as stated by Kushner and Yin (pg 216)\n",
    "\"Convergence theorems are a guide to behavior.\"\n",
    "\n",
    "According to Kushner and Yin (pg 215) convergence with probability one can be misleading...\n",
    "\"In the context of the actual way in which stochastic approximation algorithms\n",
    "are used in applications, an assertion of probability one convergence can be\n",
    "misleading. For example, there is usually some sort of stopping rule that\n",
    "tells us when to stop the iteration and to accept as the final value either\n",
    "the most recent iterate or some function of the iterates that were taken\n",
    "“shortly” before stopping. The stopping rule might simply be a limit on\n",
    "the number of iterations allowed, or it might be a more sophisticated rule\n",
    "based on an estimate of the improvement of the mean performance over\n",
    "the recent past, or perhaps on the “randomness” of the behavior of the\n",
    "recent iterations (the more “random,” the more likely that the iterate is\n",
    "in a neighborhood of a stationary point).\"\n",
    "\n",
    "Indeed, even more convergence with probability one may not even be what we desire for online algorithms as pointed out by Kushner and Yin (pg 215)\n",
    "\n",
    "\"If the application of stochastic approximation is done via a simulation,\n",
    "then one can control the model so that it does not change over time (but\n",
    "even then there is a stopping rule). Nevertheless, the situation is different\n",
    "when the stochastic approximation is used to optimize a system on-line,\n",
    "since convergence with probability one implies that we can iterate essen-\n",
    "tially forever, and the system will remain unchanged however long the\n",
    "procedure is. In practical on-line applications, the step size \u0002 n is often not\n",
    "allowed to decrease to zero, due to considerations concerning robustness\n",
    "and to allow some tracking of the desired parameter as the system changes\n",
    "slowly over time. Then probability one convergence does not apply.\""
   ]
  },
  {
   "cell_type": "code",
   "execution_count": 3,
   "metadata": {},
   "outputs": [],
   "source": [
    "import numpy as np\n",
    "def f(x):\n",
    "    return np.log(x)/(1-x) + 1"
   ]
  },
  {
   "cell_type": "code",
   "execution_count": 57,
   "metadata": {},
   "outputs": [],
   "source": [
    "def rm(f,x0):\n",
    "    x = x0\n",
    "    for itr in range(int(1e6)):\n",
    "        step = 1/(1+itr)\n",
    "        #step = 1\n",
    "        eps = np.random.normal(scale=step)\n",
    "        x = x - step*f(x)\n",
    "        if np.abs(f(x)) < 1e-3:\n",
    "            return (x, itr)\n",
    "    return (x, itr)"
   ]
  },
  {
   "cell_type": "code",
   "execution_count": 60,
   "metadata": {},
   "outputs": [
    {
     "data": {
      "text/plain": [
       "(1.003487691138619, 999999)"
      ]
     },
     "execution_count": 60,
     "metadata": {},
     "output_type": "execute_result"
    }
   ],
   "source": [
    "rm(f,2.7)"
   ]
  },
  {
   "cell_type": "code",
   "execution_count": 15,
   "metadata": {},
   "outputs": [],
   "source": [
    "import matplotlib.pyplot as plt"
   ]
  },
  {
   "cell_type": "code",
   "execution_count": 16,
   "metadata": {},
   "outputs": [
    {
     "data": {
      "image/png": "[encoded data removed]",
      "text/plain": [
       "<Figure size 432x288 with 1 Axes>"
      ]
     },
     "metadata": {
      "needs_background": "light"
     },
     "output_type": "display_data"
    }
   ],
   "source": [
    "rng = np.linspace(0.0001,2,1000)\n",
    "plt.plot(rng, f(rng))\n",
    "plt.show()"
   ]
  },
  {
   "cell_type": "markdown",
   "metadata": {},
   "source": [
    "It is important to note that the sign involved in the stochastic update equation\n",
    "\n",
    "$$ x_{n+1} = x_n \\pm \\epsilon_n g(x_n) $$\n",
    "\n",
    "will determine whether the algorithm is moving towards a stable equilibrium (for the $+$ sign) or an unstable equilibrium (the $-$ sign)."
   ]
  },
  {
   "cell_type": "code",
   "execution_count": null,
   "metadata": {},
   "outputs": [],
   "source": []
  }
 ],
 "metadata": {
  "kernelspec": {
   "display_name": "Python 3",
   "language": "python",
   "name": "python3"
  },
  "language_info": {
   "codemirror_mode": {
    "name": "ipython",
    "version": 3
   },
   "file_extension": ".py",
   "mimetype": "text/x-python",
   "name": "python",
   "nbconvert_exporter": "python",
   "pygments_lexer": "ipython3",
   "version": "3.7.4"
  }
 },
 "nbformat": 4,
 "nbformat_minor": 4
}
