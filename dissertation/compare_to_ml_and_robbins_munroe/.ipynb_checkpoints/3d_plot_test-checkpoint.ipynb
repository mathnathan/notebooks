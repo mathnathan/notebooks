{
 "cells": [
  {
   "cell_type": "code",
   "execution_count": null,
   "metadata": {
    "collapsed": true
   },
   "outputs": [],
   "source": [
    "import numpy as np\n",
    "from mpl_toolkits.mplot3d import axes3d\n",
    "import matplotlib.pyplot as plt\n",
    "%matplotlib inline\n",
    "from matplotlib import cm\n",
    "\n",
    "def f(mu,lamda,x=1):\n",
    "    c = np.sqrt(lamda/(2*np.pi))\n",
    "    return  c*np.exp(-0.5*(x-mu)**2*lamda)\n",
    "\n",
    "mu,lamda = np.mgrid[-2:2:100,0.5:5:100]\n",
    "z = f(mu,lamda)\n",
    "fig = plt.figure()\n",
    "ax = fig.gca(projection='3d')\n",
    "#X, Y, Z = axes3d.get_test_data(0.05)\n",
    "ax.plot_surface(mu, lamda, z, rstride=8, cstride=8, alpha=0.3)\n",
    "cset = ax.contour(mu, lamda, z, zdir='z', offset=-100, cmap=cm.coolwarm)\n",
    "cset = ax.contour(mu, lamda, z, zdir='x', offset=-40, cmap=cm.coolwarm)\n",
    "cset = ax.contour(mu, lamda, z, zdir='y', offset=40, cmap=cm.coolwarm)\n",
    "\n",
    "ax.set_xlabel('$\\mu$')\n",
    "ax.set_xlim(-40, 40)\n",
    "ax.set_ylabel('$\\lambda$')\n",
    "ax.set_ylim(-40, 40)\n",
    "ax.set_zlabel('z')\n",
    "ax.set_zlim(-100, 100)\n",
    "\n",
    "plt.show()"
   ]
  },
  {
   "cell_type": "code",
   "execution_count": null,
   "metadata": {
    "collapsed": true
   },
   "outputs": [],
   "source": []
  }
 ],
 "metadata": {
  "kernelspec": {
   "display_name": "Python 3",
   "language": "python",
   "name": "python3"
  },
  "language_info": {
   "codemirror_mode": {
    "name": "ipython",
    "version": 3
   },
   "file_extension": ".py",
   "mimetype": "text/x-python",
   "name": "python",
   "nbconvert_exporter": "python",
   "pygments_lexer": "ipython3",
   "version": "3.6.8"
  }
 },
 "nbformat": 4,
 "nbformat_minor": 2
}
