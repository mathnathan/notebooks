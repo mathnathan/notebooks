{
 "cells": [
  {
   "cell_type": "code",
   "execution_count": 1,
   "metadata": {},
   "outputs": [],
   "source": [
    "import matplotlib.pyplot as plt\n",
    "%matplotlib inline\n",
    "from ipywidgets import interactive\n",
    "from scipy.stats import norm\n",
    "import numpy as np\n",
    "import matplotlib.patches as patches\n",
    "from OldBrain import Net\n",
    "from Brain import Neuron, GMM\n",
    "import matplotlib\n",
    "matplotlib.rcParams.update({'font.size': 22})"
   ]
  },
  {
   "cell_type": "markdown",
   "metadata": {},
   "source": [
    "This entire theory is built on the idea that everything is normalized as input into the brain. i.e. all values are between 0 and 1. This is necessary because the learning rule has an adaptive learning rate that is $\\sigma^4$. If everything is normalized, the probability of $\\sigma^2$ being greater than 1 is very low"
   ]
  },
  {
   "cell_type": "code",
   "execution_count": 2,
   "metadata": {},
   "outputs": [],
   "source": [
    "p = GMM([1.0], np.array([[0.5,0.05]]))"
   ]
  },
  {
   "cell_type": "code",
   "execution_count": 3,
   "metadata": {},
   "outputs": [],
   "source": [
    "num_samples = 1000\n",
    "beg = 0.0\n",
    "end = 1.0\n",
    "t = np.linspace(beg,end,num_samples)\n",
    "num_neurons = len(p.pis)\n",
    "colors = [np.random.rand(num_neurons,) for i in range(num_neurons)]\n",
    "p_y = p(t)\n",
    "p_max = p_y.max()"
   ]
  },
  {
   "cell_type": "code",
   "execution_count": 5,
   "metadata": {
    "scrolled": true
   },
   "outputs": [
    {
     "data": {
      "application/vnd.jupyter.widget-view+json": {
       "model_id": "b0951e4a1a3440fb9c218e5041cc6253",
       "version_major": 2,
       "version_minor": 0
      },
      "text/plain": [
       "interactive(children=(IntSlider(value=0, description='i', max=9999), Output(layout=Layout(height='450px'))), _…"
      ]
     },
     "metadata": {},
     "output_type": "display_data"
    }
   ],
   "source": [
    "np.random.seed(110)\n",
    "\n",
    "num_neurons = 1\n",
    "network = Net(1,1,num_neurons, bias=0.0006, decay=[0.05], kernels=[[1,1]], locs=[[0,0]], sleep_cycle=2000)\n",
    "\n",
    "samples, labels = p.sample(10000)\n",
    "ys = []\n",
    "lbls = []\n",
    "colors = [np.random.rand(3,) for i in range(num_neurons)]\n",
    "def f(i=0):\n",
    "    x = np.array(samples[i])\n",
    "    l = labels[i]\n",
    "    y = network(x.reshape(1,1,1))\n",
    "\n",
    "    ys.append(y)\n",
    "    c = 'b' if l else 'g'\n",
    "    lbls.append(c)\n",
    "\n",
    "    fig, ax = plt.subplots(figsize=(15,5))\n",
    "    ax.plot(t, p_y/p_max, c='r', lw=3, label='$p(x)$')\n",
    "    ax.plot([x,x],[0,p_max],label=\"$x\\sim p(x)$\", lw=4)\n",
    "   \n",
    "    y = network(t.reshape(num_samples,1,1),update=0)\n",
    "   \n",
    "    for j,yi in enumerate(y):\n",
    "        yj_max = y[j].max()\n",
    "        ax.plot(t, y[j]/yj_max, c=colors[j], lw=3, label=\"$q(x)$\")\n",
    "\n",
    "    \n",
    "    ax.set_ylim(0.,1.5)\n",
    "    ax.set_xlim(beg,end)\n",
    "\n",
    "    plt.savefig('for_colloquium/fig%03i.png'%(i))\n",
    "    plt.show()\n",
    "    \n",
    "\n",
    "interactive_plot = interactive(f, i=(0, 9999))\n",
    "output = interactive_plot.children[-1]\n",
    "output.layout.height = '450px'\n",
    "interactive_plot"
   ]
  },
  {
   "cell_type": "code",
   "execution_count": 8,
   "metadata": {},
   "outputs": [
    {
     "data": {
      "text/plain": [
       "[array([[0.65845538]])]"
      ]
     },
     "execution_count": 8,
     "metadata": {},
     "output_type": "execute_result"
    }
   ],
   "source": [
    "[n.weights for n in list(network.neurons.items())[0][1]]"
   ]
  },
  {
   "cell_type": "code",
   "execution_count": 9,
   "metadata": {},
   "outputs": [
    {
     "data": {
      "text/plain": [
       "[array([0.02291288])]"
      ]
     },
     "execution_count": 9,
     "metadata": {},
     "output_type": "execute_result"
    }
   ],
   "source": [
    "[np.sqrt(n.bias) for n in list(network.neurons.items())[0][1]]"
   ]
  },
  {
   "cell_type": "code",
   "execution_count": 10,
   "metadata": {},
   "outputs": [
    {
     "data": {
      "text/plain": [
       "[1.0]"
      ]
     },
     "execution_count": 10,
     "metadata": {},
     "output_type": "execute_result"
    }
   ],
   "source": [
    "[n.pi for n in list(network.neurons.items())[0][1]]"
   ]
  },
  {
   "cell_type": "markdown",
   "metadata": {},
   "source": [
    "I can assume $q(x)$ has two forms\n",
    "\n",
    "$$q(x) = \\frac{1}{\\sqrt{2 \\pi \\sigma^2}}exp\\{-\\frac{(x-\\mu)^2}{2\\sigma^2}\\}$$\n",
    "\n",
    "or \n",
    "\n",
    "$$q(x) = exp\\{-\\frac{(x-\\mu)^2}{\\sigma^2}\\}$$\n",
    "\n",
    "When I assume the second form and remove the extra $\\sigma$ term from the learning equations it no longer converges smoothly. However, if I add an 'astrocyte' to normalize all of them periodically by averaging over the output it works again. Perhaps astrocytes 'normalizing' the neurons is the biological mechanism for keeping the output roughly normal."
   ]
  },
  {
   "cell_type": "code",
   "execution_count": 11,
   "metadata": {},
   "outputs": [
    {
     "data": {
      "image/png": "[encoded data removed]",
      "text/plain": [
       "<Figure size 432x288 with 1 Axes>"
      ]
     },
     "metadata": {
      "needs_background": "light"
     },
     "output_type": "display_data"
    }
   ],
   "source": [
    "def s(x):\n",
    "    return (1/(1+np.exp(-10*(x-0.25))))\n",
    "\n",
    "x = np.linspace(0,1,100)\n",
    "plt.plot(x,s(x))\n",
    "plt.show()"
   ]
  },
  {
   "cell_type": "code",
   "execution_count": null,
   "metadata": {},
   "outputs": [],
   "source": []
  }
 ],
 "metadata": {
  "kernelspec": {
   "display_name": "Python 3",
   "language": "python",
   "name": "python3"
  },
  "language_info": {
   "codemirror_mode": {
    "name": "ipython",
    "version": 3
   },
   "file_extension": ".py",
   "mimetype": "text/x-python",
   "name": "python",
   "nbconvert_exporter": "python",
   "pygments_lexer": "ipython3",
   "version": "3.7.4"
  },
  "widgets": {
   "state": {
    "33a7f536f2d145ffb0bd9dc87c724394": {
     "views": [
      {
       "cell_index": 3
      }
     ]
    }
   },
   "version": "1.2.0"
  }
 },
 "nbformat": 4,
 "nbformat_minor": 4
}
