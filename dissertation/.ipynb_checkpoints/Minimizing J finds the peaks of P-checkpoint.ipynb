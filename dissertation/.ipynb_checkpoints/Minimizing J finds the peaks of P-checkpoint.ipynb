{
 "cells": [
  {
   "cell_type": "markdown",
   "metadata": {},
   "source": [
    "Take the following two equations...\n",
    "\n",
    "\\begin{align}\n",
    "J_\\alpha(p||q) = \\frac{1}{\\alpha(1-\\alpha)} \\int_x \\alpha p(x) +(1-\\alpha)q(x)-p(x)q(x)^{1-\\alpha}dx\n",
    " && \\text{KL}(q || p) = \\int_x q(x) \\log \\frac{q(x)}{p(x)} dx\n",
    "\\end{align}\n",
    "\n",
    "Let $q(x)$ be the pdf for a Gaussian,\n",
    "$\\mathcal{N}(\\mu, \\Sigma)$, and $p(x)$ be unknown. I have demonstrated numerically that both equations have the same extrema for $\\mu$, for $-1 \\lt \\alpha \\lt 0$. (If you would like to see the notebook for that, I can send it too. For now just assume it is true)\n",
    "\n",
    "I would now like to show it analytically. I thought it would be relatiely straight forward to take the partials and show that the same $\\mu^*$ minimizes both. \n",
    "\n",
    "\\begin{align}\n",
    "\\frac{\\partial J_\\alpha}{\\partial \\mu} &= \\frac{1}{\\alpha} \\int_x q_{\\mu}(x)\\bigg(1-\\frac{p(x)}{q(x)^{\\alpha}}\\bigg)dx\n",
    " && \\frac{\\partial \\text{KL}}{\\partial \\mu} = & \\int_x q_{\\mu}(x) \\bigg(\\log \\frac{q(x)}{p(x)}+1 \\bigg) dx \\\\\n",
    " \\frac{\\partial J_\\alpha}{\\partial \\mu} &= \\frac{1}{\\alpha} \\int_x q(x)\\Sigma^{-1}(x-\\mu)\\bigg(1-\\frac{p(x)}{q(x)^{\\alpha}}\\bigg)dx\n",
    " && \\frac{\\partial \\text{KL}}{\\partial \\mu} = & \\int_x q(x) \\Sigma^{-1}(x-\\mu) \\bigg(\\log \\frac{q(x)}{p(x)}+1 \\bigg) dx\n",
    "\\end{align}\n",
    "\n",
    "\n",
    "After observing that $\\int_x q_{\\mu}(x) dx = 0$, via...\n",
    "\n",
    "\n",
    "\\begin{align}\n",
    "\\int_x q_{\\mu}(x) dx &= \\int_x q(x) \\Sigma^{-1} (x-\\mu)dx \\\\\n",
    "&= \\Sigma^{-1} \\bigg(\\int_x q(x) x dx - \\mu \\int_x q(x) dx \\bigg)\\\\\n",
    "&= \\Sigma^{-1} \\big(\\mu - \\mu \\big) \\\\\n",
    "&= 0\\\\\n",
    "\\end{align}\n",
    "\n",
    "\n",
    "Both equations reduce to...\n",
    "\n",
    "\n",
    "\\begin{align}\n",
    "\\frac{\\partial J_\\alpha}{\\partial \\mu} = -\\Sigma^{-1} \\mathbb{E}_{q} \\bigg[ \\frac{p(x)}{\\alpha q(x)^{\\alpha}}(x-\\mu) \\bigg]\n",
    " && \\frac{\\partial \\text{KL}}{\\partial \\mu} = -\\Sigma^{-1} \\mathbb{E}_{q} \\bigg[ \\log \\frac{p(x)}{q(x)}(x-\\mu) \\bigg]\n",
    "\\end{align}\n",
    "\n",
    "\n",
    "And from here, setting them both equal to zero, we can derive closed form solutions...\n",
    "\n",
    "\\begin{align}\n",
    "\\mu_J = \\frac{ \\mathbb{E}_{q} \\bigg[ \\frac{p(x)}{q(x)^{\\alpha}}x \\bigg]}{\\mathbb{E}_{q} \\bigg[ \\frac{p(x)}{q(x)^{\\alpha}} \\bigg]}\n",
    "&& \\mu_{KL} = \\frac{ \\mathbb{E}_{q} \\bigg[ \\log\\big(\\frac{p(x)}{q(x)}\\big)x \\bigg]}{\\mathbb{E}_{q} \\bigg[ \\log\\big(\\frac{p(x)}{q(x)}\\big) \\bigg]}\n",
    "\\end{align}"
   ]
  },
  {
   "cell_type": "code",
   "execution_count": null,
   "metadata": {},
   "outputs": [],
   "source": []
  }
 ],
 "metadata": {
  "kernelspec": {
   "display_name": "Python 3",
   "language": "python",
   "name": "python3"
  },
  "language_info": {
   "codemirror_mode": {
    "name": "ipython",
    "version": 3
   },
   "file_extension": ".py",
   "mimetype": "text/x-python",
   "name": "python",
   "nbconvert_exporter": "python",
   "pygments_lexer": "ipython3",
   "version": "3.7.1"
  }
 },
 "nbformat": 4,
 "nbformat_minor": 4
}
