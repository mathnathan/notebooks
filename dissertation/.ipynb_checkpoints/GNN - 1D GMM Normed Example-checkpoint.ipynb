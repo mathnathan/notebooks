{
 "cells": [
  {
   "cell_type": "code",
   "execution_count": null,
   "metadata": {},
   "outputs": [],
   "source": [
    "import matplotlib.pyplot as plt\n",
    "%matplotlib inline\n",
    "from ipywidgets import interactive\n",
    "import numpy as np\n",
    "import matplotlib.patches as patches\n",
    "from Brain import Neuron, GMM\n",
    "from collections import defaultdict\n",
    "\n",
    "#p = GMM([0.2,0.8], np.array([[0.24,0.01],[0.78,0.01]]))"
   ]
  },
  {
   "cell_type": "code",
   "execution_count": null,
   "metadata": {},
   "outputs": [],
   "source": [
    "with open('words.txt','r') as fh:\n",
    "    words = fh.readlines()\n",
    "    \n",
    "longest_word = max([len(word) for word in words])\n",
    "\n",
    "chars = defaultdict(int)\n",
    "for w in words:\n",
    "    chars[w[0]] += 1\n",
    "        \n",
    "items = list(chars.items())\n",
    "letters, values = zip(*items)\n",
    "probs = np.asarray(values)/sum(values)\n",
    "\n",
    "letter_mappings = {}\n",
    "step = 1.0/(2*len(letters))\n",
    "\n",
    "for i,letter in enumerate(letters):\n",
    "    letter_mappings[letter] = float(i)/len(letters) + step\n",
    "mappings = list(letter_mappings.values())\n",
    "def draw_letter():\n",
    "    return np.random.choice(letters,replace=True,p=probs)"
   ]
  },
  {
   "cell_type": "code",
   "execution_count": null,
   "metadata": {},
   "outputs": [],
   "source": [
    "num_neurons = 20\n",
    "qs = [Neuron([i],[0.001],1./num_neurons,0.01) for i in np.linspace(0,1,num_neurons)] # Neuron(mean, std, pi, decay)\n",
    "\n",
    "def f(i=0,plot=True):\n",
    "    if (i+1)%30 == 0: #renorm\n",
    "        tot_output = sum([q.tot_output for q in qs])\n",
    "        for q in qs:\n",
    "            q.pi = q.tot_output/tot_output\n",
    "            q.tot_output = 0\n",
    "    ind = np.arange(len(values))\n",
    "    p1 = plt.bar(mappings,probs,width=0.008,color='b')\n",
    "    plt.xticks(mappings,letters)\n",
    "    plt.gcf().set_size_inches(17, plt.gcf().get_size_inches()[1])\n",
    "    letter = draw_letter()\n",
    "    val = letter_mappings[letter] + np.random.normal(0,step/2.)\n",
    "    for q in qs:\n",
    "        q(val)\n",
    "        if plot:\n",
    "            plt.plot([val,val],[0,.1], c='r')\n",
    "            t = np.linspace(0.01,1.1,1000)\n",
    "            plt.plot(t, q(t,update=False), c='g', lw=2)\n",
    "            #plt.ylim(0.0,1.0)\n",
    "            plt.xlim(0.0,1.01)\n",
    "    plt.show()\n",
    "    \n",
    "interactive_plot = interactive(f, i=(0, 999))\n",
    "output = interactive_plot.children[-1]\n",
    "output.layout.height = '250px'\n",
    "interactive_plot"
   ]
  },
  {
   "cell_type": "code",
   "execution_count": null,
   "metadata": {},
   "outputs": [],
   "source": [
    "for i in range(1000):\n",
    "    f(i,Fal)"
   ]
  },
  {
   "cell_type": "code",
   "execution_count": null,
   "metadata": {},
   "outputs": [],
   "source": []
  }
 ],
 "metadata": {
  "kernelspec": {
   "display_name": "Python 3",
   "language": "python",
   "name": "python3"
  },
  "language_info": {
   "codemirror_mode": {
    "name": "ipython",
    "version": 3
   },
   "file_extension": ".py",
   "mimetype": "text/x-python",
   "name": "python",
   "nbconvert_exporter": "python",
   "pygments_lexer": "ipython3",
   "version": "3.6.5"
  }
 },
 "nbformat": 4,
 "nbformat_minor": 2
}
