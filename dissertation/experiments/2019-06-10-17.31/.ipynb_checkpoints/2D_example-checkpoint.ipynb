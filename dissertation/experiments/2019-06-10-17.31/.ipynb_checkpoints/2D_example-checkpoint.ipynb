{
 "cells": [
  {
   "cell_type": "code",
   "execution_count": 1,
   "metadata": {},
   "outputs": [],
   "source": [
    "import matplotlib\n",
    "matplotlib.use('nbagg')\n",
    "import numpy as np\n",
    "import matplotlib.pyplot as plt\n",
    "import seaborn as sns\n",
    "from Brain import Neuron, Net, GMM\n",
    "from scipy.stats import multivariate_normal\n",
    "from matplotlib.lines import Line2D\n",
    "matplotlib.rcParams.update({'font.size': 10})\n",
    "from mpl_toolkits.mplot3d import Axes3D"
   ]
  },
  {
   "cell_type": "code",
   "execution_count": 2,
   "metadata": {},
   "outputs": [],
   "source": [
    "p = GMM([0.4,0.6], np.array([[[0.25,0.5],.08],[[0.75,0.5],0.07]]))\n",
    "q1 = Neuron([1,1], np.array([[0.3]]), 0.0007, 0.025, 1)\n",
    "q2 = Neuron([1,1], np.array([[0.15]]), np.power(0.035,2), 0.001, 1)\n",
    "q3 = Neuron([1,1], np.array([[0.55]]), np.power(0.07,2), 0.015, 1)\n",
    "#q4 = Neuron([1,2], np.array([[0.21,0.3997]]), 0.0001, 0.02, 1)\n",
    "#q5 = Neuron([1,2], np.array([[0.69,0.399]]), 0.00025, 0.02, 1)"
   ]
  },
  {
   "cell_type": "code",
   "execution_count": 3,
   "metadata": {},
   "outputs": [],
   "source": [
    "samples, labels = p.sample(1000)\n",
    "t1 = np.linspace(0,1.0,1000)\n",
    "t2 = np.linspace(0,1.0,1000)\n",
    "q1_hist, q2_hist, q3_hist = ([], [], [])\n",
    "fig2 = plt.figure(2)\n",
    "ax = fig2.add_subplot(111, projection='3d')\n",
    "colors = ['orange','black']"
   ]
  },
  {
   "cell_type": "code",
   "execution_count": 4,
   "metadata": {},
   "outputs": [
    {
     "name": "stderr",
     "output_type": "stream",
     "text": [
      "/home/ndc08/anaconda3/lib/python3.7/site-packages/matplotlib/pyplot.py:514: RuntimeWarning: More than 20 figures have been opened. Figures created through the pyplot interface (`matplotlib.pyplot.figure`) are retained until explicitly closed and may consume too much memory. (To control this warning, see the rcParam `figure.max_open_warning`).\n",
      "  max_open_warning, RuntimeWarning)\n"
     ]
    }
   ],
   "source": [
    "for i in range(1000):\n",
    "    x = np.array(samples[i])\n",
    "    l = labels[i]\n",
    "    # Expose the neurons to the stimulus\n",
    "    q1_hist.append(q1(x[1].reshape(1,1,1)))\n",
    "    q2_hist.append(q2(x[0].reshape(1,1,1)))\n",
    "    q3_hist.append(q3(x[0].reshape(1,1,1)))\n",
    "    \n",
    "    sb_plt = sns.JointGrid(x=samples[:,0], y=samples[:,1], xlim=(0,1), ylim=(0,1))\n",
    "    x_hist = sb_plt.ax_marg_x.hist(samples[:,0],density=True,bins=100,color='blue')\n",
    "    y_hist = sb_plt.ax_marg_y.hist(samples[:,1],density=True,bins=100,color='blue',orientation='horizontal')\n",
    "    c1 = sb_plt.ax_joint.scatter(samples[:,0], samples[:,1])\n",
    "    sb_plt.ax_joint.scatter(x[0], x[1],c='magenta')\n",
    "    sb_plt.ax_joint.plot([x[0],x[0]],[0,1],c='magenta',ls='dashed')\n",
    "    sb_plt.ax_joint.plot([0,1],[x[1],x[1]],c='magenta',ls='dashed')\n",
    "\n",
    "\n",
    "    sb_plt.ax_joint.set_xlabel(\"$x_2$\")\n",
    "    sb_plt.ax_joint.set_xticklabels([])\n",
    "    sb_plt.ax_joint.set_ylabel(\"$x_1$\")\n",
    "    sb_plt.ax_joint.set_yticklabels([])\n",
    "\n",
    "    q1_vals = q1(t1.reshape(1000,1,1), update=False)\n",
    "    q2_vals = q2(t2.reshape(1000,1,1), update=False)\n",
    "    q3_vals = q3(t2.reshape(1000,1,1), update=False)\n",
    "    sb_plt.ax_marg_y.plot((q1_vals/q1_vals.max())*y_hist[0].max(),t1,c='y',label='$q_1$')\n",
    "    sb_plt.ax_marg_y.plot([0,y_hist[0].max()],[x[1],x[1]],c='magenta',lw=3)\n",
    "    sb_plt.ax_marg_x.plot(t2, (q2_vals/q2_vals.max())*x_hist[0].max(),c='g',label='$q_2$')\n",
    "    sb_plt.ax_marg_x.plot([x[0],x[0]],[0,x_hist[0].max()],c='magenta',lw=3)\n",
    "    sb_plt.ax_marg_x.plot(t2, (q3_vals/q3_vals.max())*x_hist[0].max(),c='r',label='$q_3$')\n",
    "    sb_plt.ax_marg_x.legend()\n",
    "    sb_plt.ax_marg_y.legend()\n",
    "    #sb_plt.fig.savefig(f\"figs/2d/fig{str(i).zfill(4)}.jpg\")\n",
    "    \n",
    "    # Make 3D plot\n",
    "    \n",
    "    ax.scatter(q2_hist, q3_hist, q1_hist, c=[colors[li] for li in labels[:i+1]])\n",
    "    ax.set_xlabel('$q_2(x)$')\n",
    "    ax.set_ylabel('$q_3(x)$')\n",
    "    ax.set_zlabel('$q_1(x)$')\n",
    "    ax.set_xlim3d([0,1])\n",
    "    ax.set_ylim3d([0,1])\n",
    "    ax.set_zlim3d([0,1])\n",
    "    ax.view_init(azim=45)\n",
    "    fig2.savefig(f\"figs/3d/fig{str(i).zfill(4)}.jpg\")\n",
    "    ax.cla()"
   ]
  },
  {
   "cell_type": "code",
   "execution_count": null,
   "metadata": {},
   "outputs": [],
   "source": []
  }
 ],
 "metadata": {
  "kernelspec": {
   "display_name": "Python 3",
   "language": "python",
   "name": "python3"
  },
  "language_info": {
   "codemirror_mode": {
    "name": "ipython",
    "version": 3
   },
   "file_extension": ".py",
   "mimetype": "text/x-python",
   "name": "python",
   "nbconvert_exporter": "python",
   "pygments_lexer": "ipython3",
   "version": "3.7.1"
  }
 },
 "nbformat": 4,
 "nbformat_minor": 2
}
