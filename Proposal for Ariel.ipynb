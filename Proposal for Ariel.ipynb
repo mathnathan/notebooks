{
 "cells": [
  {
   "cell_type": "markdown",
   "metadata": {
    "collapsed": false
   },
   "source": [
    "# Proposal for Research on Medical AI Chatbot (*Rough First Draft*)\n",
    "\n",
    "---\n",
    "\n",
    "### Intro\n",
    "\n",
    "\n",
    "I'm going to propose the full scale project. I have no idea how long something of this magnitude would take, or how to do it, but I want to put some of the smaller projects (that I do know how to do) into context and demonstrate how they might be used. From our discussion, I imagine many people having access to a medical AI of sorts. Perhaps it is on everyone's phone? Or they can access it via a browser? Something like Siri for medical applications. The difference though is that this AI has access to a database of medical information about this individual and many others. The purpose would be for the individual to be able to ask medical questions and the AI would give helpful feedback. I imagine various applications, such as recommending doctors, services, or perscriptions. Perhaps the AI could give advice on the patient's diet and exercise, or even send updates when certain aspects of their health become concerning. \n",
    "\n",
    "**DISCLAIMER**: *I have no idea what medical knowledge is available, or how up to date the information is. So for the sake of these examples I am going to assume it has pretty much any knowledge I want it to have. When actual medical knowledge is supplied the examples may change, but the underlying concepts should remain the similar.*"
   ]
  },
  {
   "cell_type": "markdown",
   "metadata": {},
   "source": [
    "##### Example Colloquy 1:\n",
    "\n",
    "<font color=\"green\">**Patient**</font>: My back hurts and I don't feel good. What is wrong with me?\n",
    "<font color=\"blue\">**Medical AI**</font>: I see you haven't been sleeping well the past few days \\[<font color=\"green\">**Patient Name**</font>\\]. Your cortisol levels and blood pressure are higher than usual. Are you feeling stressed?\n",
    "<font color=\"green\">**Patient**</font>: Ugh, yes. Very much so. My boyfriend broke up with me. Life sucks right now...\n",
    "<font color=\"blue\">**Medical AI**</font>: Oh \\[<font color=\"green\">**Patient Name**</font>\\], I am sorry for your loss. I am sure it must be difficult. If you would like to talk about it, there are experts in your area that I can contact for you. Would you like to me to set up an appointment?"
   ]
  },
  {
   "cell_type": "markdown",
   "metadata": {},
   "source": [
    "##### Example Colloquy 2:\n",
    "\n",
    "<font color=\"green\">**Patient**</font>: I have this red rash on me and it really itches. What is it?\n",
    "<font color=\"blue\">**Medical AI**</font>: Where is it located?\n",
    "<font color=\"green\">**Patient**</font>: On my arm.\n",
    "<font color=\"blue\">**Medical AI**</font>: Is it spherical in shape?\n",
    "<font color=\"green\">**Patient**</font>: Yes it is.\n",
    "<font color=\"blue\">**Medical AI**</font>: Well \\[<font color=\"green\">**Patient Name**</font>\\], I see you don't have a fever and your health is excellent otherwise. You may have a case of ringworm. Don't worry, this is a common affliction for athletes such as yourself. A simple antifungal medication such as clotrimazole should do the trick. Would you like me to set up an appointment with the dermatologist Dr. \\[**Doctor Name**\\] located at \\[**Location**\\]?"
   ]
  },
  {
   "cell_type": "markdown",
   "metadata": {},
   "source": [
    "The examples coulg go on and on. A patient could ask about what type of exercises they should do. The Medical AI could analyze their vitals from previous exercises along with their current physical state and provide a recommendation. The same can be said about food. The patient might ask what they should eat for a certain meal. The AI, being aware of allergies and other issues, could analyze their most recent metabolic panel and recommend foods that are high in the particular nutrients that they are currently lacking.\n",
    "\n",
    "---"
   ]
  },
  {
   "cell_type": "markdown",
   "metadata": {},
   "source": [
    "-"
   ]
  },
  {
   "cell_type": "markdown",
   "metadata": {},
   "source": [
    "### Conclusions\n",
    "\n",
    "This is a very rough first core dump on ideas I have. This is intended only for you both, Ariel and Gordon, to read. From this, I hope to get feedback from you both. Gordon, on research ideas and what we can do with this; and Ariel, about which directions may me most interesting to Nokia. After a few more iterations I will perform some preliminary experiments and put together a more thorough proposal. "
   ]
  }
 ],
 "metadata": {
  "kernelspec": {
   "display_name": "Python 2",
   "language": "python",
   "name": "python2"
  },
  "language_info": {
   "codemirror_mode": {
    "name": "ipython",
    "version": 2
   },
   "file_extension": ".py",
   "mimetype": "text/x-python",
   "name": "python",
   "nbconvert_exporter": "python",
   "pygments_lexer": "ipython2",
   "version": "2.7.11"
  }
 },
 "nbformat": 4,
 "nbformat_minor": 0
}
