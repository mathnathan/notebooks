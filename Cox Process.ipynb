{
 "cells": [
  {
   "cell_type": "code",
   "execution_count": 32,
   "metadata": {},
   "outputs": [],
   "source": [
    "import math\n",
    "import torch\n",
    "#import gpytorch\n",
    "import pyro\n",
    "import tqdm\n",
    "import matplotlib.pyplot as plt\n",
    "%matplotlib inline"
   ]
  },
  {
   "cell_type": "code",
   "execution_count": 33,
   "metadata": {},
   "outputs": [],
   "source": [
    "intensity_max = 50\n",
    "true_intensity_function = lambda times: torch.cos(times * 2 * math.pi).add(1).mul(intensity_max / 2.)"
   ]
  },
  {
   "cell_type": "code",
   "execution_count": 34,
   "metadata": {},
   "outputs": [
    {
     "name": "stdout",
     "output_type": "stream",
     "text": [
      "Number of sampled arrivals: 50\n"
     ]
    }
   ],
   "source": [
    "max_time = 2\n",
    "\n",
    "times = torch.linspace(0, max_time, 128)\n",
    "num_samples = int(pyro.distributions.Poisson(true_intensity_function(times).mean() * max_time).sample().item())\n",
    "print(f\"Number of sampled arrivals: {num_samples}\")"
   ]
  },
  {
   "cell_type": "code",
   "execution_count": 35,
   "metadata": {},
   "outputs": [],
   "source": [
    "def log_prob_accept(val):\n",
    "    intensities = true_intensity_function(val)\n",
    "    res = torch.log(intensities / (true_intensity_function(times).mean() * max_time))\n",
    "    return res\n",
    "\n",
    "arrival_times = pyro.distributions.Rejector(\n",
    "    propose=pyro.distributions.Uniform(times.min(), times.max()),\n",
    "    log_prob_accept=log_prob_accept,\n",
    "    log_scale=0.\n",
    ")(torch.Size([num_samples]))"
   ]
  },
  {
   "cell_type": "code",
   "execution_count": 36,
   "metadata": {},
   "outputs": [],
   "source": [
    "def f(b,t):\n",
    "    T = t.max()\n",
    "    n = len(t)\n",
    "    p2 = math.pi/2\n",
    "    arg = b*t+p2\n",
    "    C1 = (b*torch.cos(arg)/torch.sin(arg)).sum()\n",
    "    C2 = (n/b)*((1-b*torch.sin(b*T+p2)-torch.cos(b*T+p2))/(1+b*T-torch.cos(b*T+p2)))\n",
    "    return C1+C2"
   ]
  },
  {
   "cell_type": "code",
   "execution_count": 37,
   "metadata": {},
   "outputs": [
    {
     "ename": "SyntaxError",
     "evalue": "invalid syntax (<ipython-input-37-ee0c5aaf4e23>, line 1)",
     "output_type": "error",
     "traceback": [
      "\u001b[0;36m  File \u001b[0;32m\"<ipython-input-37-ee0c5aaf4e23>\"\u001b[0;36m, line \u001b[0;32m1\u001b[0m\n\u001b[0;31m    B = torch.linspace(0,,1000)\u001b[0m\n\u001b[0m                         ^\u001b[0m\n\u001b[0;31mSyntaxError\u001b[0m\u001b[0;31m:\u001b[0m invalid syntax\n"
     ]
    }
   ],
   "source": [
    "B = torch.linspace(0,,1000)\n",
    "fs = [f(b,arrival_times) for b in B]"
   ]
  },
  {
   "cell_type": "code",
   "execution_count": 38,
   "metadata": {},
   "outputs": [
    {
     "data": {
      "text/plain": [
       "(-10, 10)"
      ]
     },
     "execution_count": 38,
     "metadata": {},
     "output_type": "execute_result"
    },
    {
     "data": {
      "image/png": "[encoded data removed]",
      "text/plain": [
       "<Figure size 432x288 with 1 Axes>"
      ]
     },
     "metadata": {
      "needs_background": "light"
     },
     "output_type": "display_data"
    }
   ],
   "source": [
    "plt.plot(B,fs)\n",
    "plt.ylim(-10,10)"
   ]
  }
 ],
 "metadata": {
  "kernelspec": {
   "display_name": "Python 3",
   "language": "python",
   "name": "python3"
  },
  "language_info": {
   "codemirror_mode": {
    "name": "ipython",
    "version": 3
   },
   "file_extension": ".py",
   "mimetype": "text/x-python",
   "name": "python",
   "nbconvert_exporter": "python",
   "pygments_lexer": "ipython3",
   "version": "3.7.6"
  }
 },
 "nbformat": 4,
 "nbformat_minor": 4
}
