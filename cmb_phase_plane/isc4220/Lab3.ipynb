{
 "metadata": {
  "signature": "sha256:88e9a8e3d1a8c33332a5f3ba5226b618c9262358bb37d943e452d8387f9ad575"
 },
 "nbformat": 3,
 "nbformat_minor": 0,
 "worksheets": [
  {
   "cells": [
    {
     "cell_type": "heading",
     "level": 3,
     "metadata": {},
     "source": [
      "Problem 1"
     ]
    },
    {
     "cell_type": "markdown",
     "metadata": {},
     "source": [
      "- Write the complete set of balance equations\n",
      "\n",
      "$$\\begin{align*}\n",
      "-67C_S=&-180 \\\\\n",
      "67C_S-161C_H+36C_M=&-740 \\\\\n",
      "-36C_M=&-710 \\\\\n",
      "161C_H-182C_E=&-3850 \\\\\n",
      "182C_E-212C_O=&-4720 \n",
      "\\end{align*}$$"
     ]
    },
    {
     "cell_type": "markdown",
     "metadata": {},
     "source": [
      "- Rewrite the balance equations in matrix form $Ac = b$, where, $c = [c_S, c_H, c_M, c_E, c_O]^T$"
     ]
    },
    {
     "cell_type": "code",
     "collapsed": true,
     "input": [
      "import numpy as np\n",
      "data = (-67,0,0,0,0,67,-161,36,0,0,0,0,-36,0,0,0,161,0,-182,0,0,0,0,182,-212)\n",
      "A = np.array(data).reshape(5,5); A"
     ],
     "language": "python",
     "metadata": {},
     "outputs": [
      {
       "metadata": {},
       "output_type": "pyout",
       "prompt_number": 1,
       "text": [
        "array([[ -67,    0,    0,    0,    0],\n",
        "       [  67, -161,   36,    0,    0],\n",
        "       [   0,    0,  -36,    0,    0],\n",
        "       [   0,  161,    0, -182,    0],\n",
        "       [   0,    0,    0,  182, -212]])"
       ]
      }
     ],
     "prompt_number": 1
    },
    {
     "cell_type": "code",
     "collapsed": true,
     "input": [
      "b = np.array((-180,-740,-710,-3850,-4720)); b"
     ],
     "language": "python",
     "metadata": {},
     "outputs": [
      {
       "metadata": {},
       "output_type": "pyout",
       "prompt_number": 2,
       "text": [
        "array([ -180,  -740,  -710, -3850, -4720])"
       ]
      }
     ],
     "prompt_number": 2
    },
    {
     "cell_type": "markdown",
     "metadata": {},
     "source": [
      "- What is the condition number of the resulting matrix? You may use Matlab\u2019s intrinsic function for this part."
     ]
    },
    {
     "cell_type": "code",
     "collapsed": true,
     "input": [
      "np.linalg.cond(A)"
     ],
     "language": "python",
     "metadata": {},
     "outputs": [
      {
       "metadata": {},
       "output_type": "pyout",
       "prompt_number": 3,
       "text": [
        "9.7796289474008606"
       ]
      }
     ],
     "prompt_number": 3
    },
    {
     "cell_type": "markdown",
     "metadata": {},
     "source": [
      "- Write a Gaussian elimination routine with partial pivoting to solve for c."
     ]
    },
    {
     "cell_type": "code",
     "collapsed": true,
     "input": [
      "def gauss(A,b=None):\n",
      "\n",
      "    m,n = A.shape\n",
      "    if b.size != m:\n",
      "        print \"ERROR: The size of b must match the number of rows in A\"\n",
      "        return\n",
      "    if b is None:\n",
      "        b = np.zeros(m)\n",
      "    minDim = np.min((m,n))\n",
      "    i = 0\n",
      "    for j in range(minDim):\n",
      "        indx = np.argmax(np.abs(A[j-i:,j])) + j-i  # Add j to get index of A because argmax operates on a slice of A\n",
      "        if j-i != indx:\n",
      "            A[[j-i,indx]] = A[[indx,j-i]] # Swap row j and row indx\n",
      "            b[[j-i,indx]] = b[[indx,j-i]] # Swap element j and element indx\n",
      "        if A[j-i,j] == 0:\n",
      "            i += 1\n",
      "            continue\n",
      "        for k in range(j-i+1,m):\n",
      "            d = -A[k,j]/A[j,j] # d*A[j,j] zeros out A[k,j] when added to it\n",
      "            if d != 0:\n",
      "                A[k] += d*A[j]\n",
      "                b[k] += d*b[j]"
     ],
     "language": "python",
     "metadata": {},
     "outputs": [],
     "prompt_number": 4
    },
    {
     "cell_type": "code",
     "collapsed": true,
     "input": [
      "def backSolve(A,b):\n",
      "\n",
      "    m,n = A.shape\n",
      "    sol = np.ndarray(n)\n",
      "    for i in range(n-1,-1,-1):\n",
      "        sol[i] = b[i]\n",
      "        for j in range(n-1,i,-1):\n",
      "            sol[i] -= A[i,j]*sol[j]\n",
      "        sol[i] /= A[i,i]\n",
      "        \n",
      "    return sol"
     ],
     "language": "python",
     "metadata": {},
     "outputs": [],
     "prompt_number": 5
    },
    {
     "cell_type": "code",
     "collapsed": true,
     "input": [
      "def solve(A,b,inplace=False):\n",
      "\n",
      "    if inplace:\n",
      "        cpy = False\n",
      "    else:\n",
      "        cpy = True\n",
      "    Afloat = A.astype(float, copy=cpy)\n",
      "    bfloat = b.astype(float, copy=cpy)\n",
      "    gauss(Afloat, bfloat)\n",
      "    sol = backSolve(Afloat, bfloat)\n",
      "\n",
      "    return sol"
     ],
     "language": "python",
     "metadata": {},
     "outputs": [],
     "prompt_number": 6
    },
    {
     "cell_type": "code",
     "collapsed": true,
     "input": [
      "c1 = solve(A,b); c1"
     ],
     "language": "python",
     "metadata": {},
     "outputs": [
      {
       "metadata": {},
       "output_type": "pyout",
       "prompt_number": 7,
       "text": [
        "array([  2.68656716,  10.1242236 ,  19.72222222,  30.10989011,  48.11320755])"
       ]
      }
     ],
     "prompt_number": 7
    },
    {
     "cell_type": "code",
     "collapsed": true,
     "input": [
      "np.dot(A,c1)"
     ],
     "language": "python",
     "metadata": {},
     "outputs": [
      {
       "metadata": {},
       "output_type": "pyout",
       "prompt_number": 8,
       "text": [
        "array([ -180.,  -740.,  -710., -3850., -4720.])"
       ]
      }
     ],
     "prompt_number": 8
    },
    {
     "cell_type": "markdown",
     "metadata": {},
     "source": [
      "\u2022 If the direct input into Lake Michigan increases from 710 to 1000, due to the increasing\n",
      "population of Chicago, how would it affect the other lakes?"
     ]
    },
    {
     "cell_type": "code",
     "collapsed": true,
     "input": [
      "b = np.array((-180,-740,-1000,-3850,-4720))\n",
      "c2 = solve(A,b); c2"
     ],
     "language": "python",
     "metadata": {},
     "outputs": [
      {
       "metadata": {},
       "output_type": "pyout",
       "prompt_number": 9,
       "text": [
        "array([  2.68656716,  11.92546584,  27.77777778,  31.7032967 ,  49.48113208])"
       ]
      }
     ],
     "prompt_number": 9
    },
    {
     "cell_type": "code",
     "collapsed": false,
     "input": [
      "np.dot(A,c2)"
     ],
     "language": "python",
     "metadata": {},
     "outputs": [
      {
       "metadata": {},
       "output_type": "pyout",
       "prompt_number": 10,
       "text": [
        "array([ -180.,  -740., -1000., -3850., -4720.])"
       ]
      }
     ],
     "prompt_number": 10
    },
    {
     "cell_type": "code",
     "collapsed": false,
     "input": [
      "np.abs(c1-c2)"
     ],
     "language": "python",
     "metadata": {},
     "outputs": [
      {
       "metadata": {},
       "output_type": "pyout",
       "prompt_number": 11,
       "text": [
        "array([ 0.        ,  1.80124224,  8.05555556,  1.59340659,  1.36792453])"
       ]
      }
     ],
     "prompt_number": 11
    },
    {
     "cell_type": "markdown",
     "metadata": {},
     "source": [
      "We see the most significant concentration spike in Lake Michigan of 8.06. This increased concentration dissipates as it moves sequentially through the remaining lakes."
     ]
    },
    {
     "cell_type": "markdown",
     "metadata": {},
     "source": [
      "##Question 2"
     ]
    },
    {
     "cell_type": "code",
     "collapsed": true,
     "input": [
      "def init(eps):\n",
      "    mat = np.array(((1.0,1.0+eps),(1.0-eps,1.0))).reshape(2,2)\n",
      "    b = np.array((1.0+(1.0+eps)*eps,1.0))\n",
      "    sol = np.array((1,eps))\n",
      "    return (mat,b,sol)"
     ],
     "language": "python",
     "metadata": {},
     "outputs": [],
     "prompt_number": 14
    },
    {
     "cell_type": "markdown",
     "metadata": {},
     "source": [
      "- Using intrinsic Matlab functions to solve the linear system, experiment with various values of $\\epsilon$ especially those near $\\sqrt{\\epsilon_{mach}}$."
     ]
    },
    {
     "cell_type": "code",
     "collapsed": true,
     "input": [
      "for i in range(9):\n",
      "    e = 10**(-i)\n",
      "    A,b,sol = init(e)\n",
      "    print \"\\n----eps = 10e-%d = %0.12f----\" % (i,e)\n",
      "    print np.linalg.solve(A,b), \"\\n\""
     ],
     "language": "python",
     "metadata": {},
     "outputs": [
      {
       "output_type": "stream",
       "stream": "stdout",
       "text": [
        "\n",
        "----eps = 10e-0 = 1.000000000000----\n",
        "[ 1.  1.] \n",
        "\n",
        "\n",
        "----eps = 10e-1 = 0.100000000000----\n",
        "[ 1.   0.1] \n",
        "\n",
        "\n",
        "----eps = 10e-2 = 0.010000000000----\n",
        "[ 1.    0.01] \n",
        "\n",
        "\n",
        "----eps = 10e-3 = 0.001000000000----\n",
        "[  1.00000000e+00   9.99999972e-04] \n",
        "\n",
        "\n",
        "----eps = 10e-4 = 0.000100000000----\n",
        "[  9.99999991e-01   1.00008890e-04] \n",
        "\n",
        "\n",
        "----eps = 10e-5 = 0.000010000000----\n",
        "[  1.00000112e+00   8.88179332e-06] \n",
        "\n",
        "\n",
        "----eps = 10e-6 = 0.000001000000----\n",
        "[ 1.000001  0.      ] \n",
        "\n",
        "\n",
        "----eps = 10e-7 = 0.000000100000----\n",
        "[ 1.0000001  0.       ] \n",
        "\n",
        "\n",
        "----eps = 10e-8 = 0.000000010000----\n",
        "[ 1.00000001  0.        ] \n",
        "\n"
       ]
      }
     ],
     "prompt_number": 15
    },
    {
     "cell_type": "markdown",
     "metadata": {},
     "source": [
      "- For each value you try estimate the condition number of the matrix (again use Matlab to estimate it), and the relative error in each component of the solution."
     ]
    },
    {
     "cell_type": "code",
     "collapsed": true,
     "input": [
      "for i in range(9):\n",
      "    e = 10**(-i)\n",
      "    A,b,sol = init(e)\n",
      "    x = np.linalg.solve(A,b)\n",
      "    print \"\\n----eps = 10e-%d = %0.12f----\" % (i,e)\n",
      "    print \"cond(A) = %f\" % (np.linalg.cond(A))\n",
      "    print \"Rel Err in x[0] = \", np.abs((sol[0]-x[0])/sol[0])\n",
      "    print \"Rel Err in x[1] = \", np.abs((sol[1]-x[1])/sol[1])"
     ],
     "language": "python",
     "metadata": {},
     "outputs": [
      {
       "output_type": "stream",
       "stream": "stdout",
       "text": [
        "\n",
        "----eps = 10e-0 = 1.000000000000----\n",
        "cond(A) = 5.828427\n",
        "Rel Err in x[0] =  0.0\n",
        "Rel Err in x[1] =  0.0\n",
        "\n",
        "----eps = 10e-1 = 0.100000000000----\n",
        "cond(A) = 401.997512\n",
        "Rel Err in x[0] =  1.11022302463e-14\n",
        "Rel Err in x[1] =  9.99200722163e-14\n",
        "\n",
        "----eps = 10e-2 = 0.010000000000----\n",
        "cond(A) = 40001.999975\n",
        "Rel Err in x[0] =  2.91544566267e-13\n",
        "Rel Err in x[1] =  2.88656251679e-11\n",
        "\n",
        "----eps = 10e-3 = 0.001000000000----\n",
        "cond(A) = 4000002.000059\n",
        "Rel Err in x[0] =  2.84501311398e-11\n",
        "Rel Err in x[1] =  2.84217094304e-08\n",
        "\n",
        "----eps = 10e-4 = 0.000100000000----\n",
        "cond(A) = 399999991.516723\n",
        "Rel Err in x[0] =  8.89044471375e-09\n",
        "Rel Err in x[1] =  8.88955571349e-05\n",
        "\n",
        "----eps = 10e-5 = 0.000010000000----\n",
        "cond(A) = 40000084898.939415\n",
        "Rel Err in x[0] =  1.1182178592e-06\n",
        "Rel Err in x[1] =  0.111820667711\n",
        "\n",
        "----eps = 10e-6 = 0.000001000000----\n",
        "cond(A) = 4000034452539.232422\n",
        "Rel Err in x[0] =  1.00000100001e-06\n",
        "Rel Err in x[1] =  1.0\n",
        "\n",
        "----eps = 10e-7 = 0.000000100000----\n",
        "cond(A) = 391941660983285.875000\n",
        "Rel Err in x[0] =  1.0000001005e-07\n",
        "Rel Err in x[1] =  1.0\n",
        "\n",
        "----eps = 10e-8 = 0.000000010000----\n",
        "cond(A) = 12738103408742068.000000\n",
        "Rel Err in x[0] =  1.00000001613e-08\n",
        "Rel Err in x[1] =  1.0\n"
       ]
      }
     ],
     "prompt_number": 16
    },
    {
     "cell_type": "code",
     "collapsed": false,
     "input": [],
     "language": "python",
     "metadata": {},
     "outputs": []
    },
    {
     "cell_type": "markdown",
     "metadata": {},
     "source": [
      "- How does the accuracy attained for each component compare with expectations based on the condition number of the matrix and the error bounds? \n",
      "\n",
      "As epsilon decreases the matrix becomes symmetric thus \n",
      "$$K_2(A) \\approx \\frac{|\\lambda_{max}|}{|\\lambda_{min}|}$$ \n",
      "becomes a good approximation to the condition number of A. Using the above expression it can be shown that the condition number is approximately equal to \n",
      "$$\\frac{2\\lambda_{max}+\\epsilon^2}{\\epsilon^2}$$\n",
      "Here we see that as epsilon decreases by one order of magnitude, the condition number increases by 2 orders of magnitude. Also, with epsilon in the denominator we can see that for epsilon near zero the condition number approaches infinity."
     ]
    },
    {
     "cell_type": "code",
     "collapsed": false,
     "input": [],
     "language": "python",
     "metadata": {},
     "outputs": []
    }
   ],
   "metadata": {}
  }
 ]
}