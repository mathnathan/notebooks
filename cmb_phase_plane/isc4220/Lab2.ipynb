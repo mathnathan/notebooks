{
 "metadata": {
  "name": "",
  "signature": "sha256:16b4e8eeb48ee46de243de720d57c11b98c27392584224dd61168a24e2dbe2b2"
 },
 "nbformat": 3,
 "nbformat_minor": 0,
 "worksheets": [
  {
   "cells": [
    {
     "cell_type": "code",
     "collapsed": false,
     "input": [
      "import numpy as np\n",
      "import sys"
     ],
     "language": "python",
     "metadata": {},
     "outputs": [],
     "prompt_number": 116
    },
    {
     "cell_type": "code",
     "collapsed": false,
     "input": [
      "def newton(f, x0, tol, df=None):\n",
      "    if df is None:\n",
      "        dx = 1e-5\n",
      "        df = lambda x: (f(x+dx)-f(x))/dx\n",
      "    err = sys.maxint\n",
      "    xprev = x0\n",
      "    itr = 0\n",
      "    while err > tol:\n",
      "        xst = xprev - f(xprev)/df(xprev)\n",
      "        itr += 1\n",
      "        err = np.abs((xst-xprev)/xst)\n",
      "        xprev = xst\n",
      "        \n",
      "    return (xst,err,itr)"
     ],
     "language": "python",
     "metadata": {},
     "outputs": [],
     "prompt_number": 117
    },
    {
     "cell_type": "markdown",
     "metadata": {},
     "source": [
      "Now we implement a function whose zero is any root of any number, in particular both $\\sqrt2$ and $\\sqrt[5]5$"
     ]
    },
    {
     "cell_type": "code",
     "collapsed": false,
     "input": [
      "def f(x,n,a):\n",
      "    \"\"\"The x that zeros this function is the nth root of a\"\"\"\n",
      "    return np.power(x,float(n))-a"
     ],
     "language": "python",
     "metadata": {},
     "outputs": [],
     "prompt_number": 118
    },
    {
     "cell_type": "code",
     "collapsed": false,
     "input": [
      "def df(x,n):\n",
      "    return n*np.power(x,n-1.0)"
     ],
     "language": "python",
     "metadata": {},
     "outputs": [],
     "prompt_number": 119
    },
    {
     "cell_type": "code",
     "collapsed": false,
     "input": [
      "x0 = 1.0\n",
      "tol = 1e-4"
     ],
     "language": "python",
     "metadata": {},
     "outputs": [],
     "prompt_number": 120
    },
    {
     "cell_type": "code",
     "collapsed": false,
     "input": [
      "newton(lambda x: f(x,n=2,a=2), x0, tol)"
     ],
     "language": "python",
     "metadata": {},
     "outputs": [
      {
       "metadata": {},
       "output_type": "pyout",
       "prompt_number": 121,
       "text": [
        "(1.4142135623822438, 1.5081057036123449e-06, 4)"
       ]
      }
     ],
     "prompt_number": 121
    },
    {
     "cell_type": "code",
     "collapsed": false,
     "input": [
      "newton(lambda x: f(x,n=2,a=2), x0, tol, lambda x: df(x,2))"
     ],
     "language": "python",
     "metadata": {},
     "outputs": [
      {
       "metadata": {},
       "output_type": "pyout",
       "prompt_number": 122,
       "text": [
        "(1.4142135623746899, 1.5018239652930854e-06, 4)"
       ]
      }
     ],
     "prompt_number": 122
    },
    {
     "cell_type": "code",
     "collapsed": false,
     "input": [
      "newton(lambda x: f(x,n=5,a=5), x0, tol)"
     ],
     "language": "python",
     "metadata": {},
     "outputs": [
      {
       "metadata": {},
       "output_type": "pyout",
       "prompt_number": 123,
       "text": [
        "(1.3797296614932184, 1.3490602223032188e-06, 6)"
       ]
      }
     ],
     "prompt_number": 123
    },
    {
     "cell_type": "code",
     "collapsed": false,
     "input": [
      "newton(lambda x: f(x,n=5,a=5), x0, tol, lambda x: df(x,5))"
     ],
     "language": "python",
     "metadata": {},
     "outputs": [
      {
       "metadata": {},
       "output_type": "pyout",
       "prompt_number": 124,
       "text": [
        "(1.3797296614661432, 1.3364167239372712e-06, 6)"
       ]
      }
     ],
     "prompt_number": 124
    },
    {
     "cell_type": "code",
     "collapsed": false,
     "input": [
      "def arctan(x,order):\n",
      "    atan_sum = 0\n",
      "    N = int(order) - int(order)/2\n",
      "    #print \"N = \", N\n",
      "    for n in range(N):\n",
      "        term = np.power(-1,n)*(np.power(float(x),2*n+1)/(2*n+1))\n",
      "        #print \"term = \", term\n",
      "        atan_sum += term\n",
      "    return atan_sum"
     ],
     "language": "python",
     "metadata": {},
     "outputs": [],
     "prompt_number": 125
    },
    {
     "cell_type": "code",
     "collapsed": false,
     "input": [
      "for i in [1,3,5,7,9]:\n",
      "    apprxPI = 16.0*arctan(1.0/5,i)-4.0*arctan(1.0/239,i)\n",
      "    print \"%d:\\tPI = %.15f \\tERR=%.15f\" % (i,apprxPI,np.abs((np.pi-apprxPI)/np.pi))"
     ],
     "language": "python",
     "metadata": {},
     "outputs": [
      {
       "output_type": "stream",
       "stream": "stdout",
       "text": [
        "1:\tPI = 3.183263598326360 \tERR=0.013264273676268\n",
        "3:\tPI = 3.140597029326060 \tERR=0.000316917046071\n",
        "5:\tPI = 3.141621029325035 \tERR=0.000009032277055\n",
        "7:\tPI = 3.141591772182177 \tERR=0.000000280560758\n",
        "9:\tPI = 3.141592682404399 \tERR=0.000000009171974\n"
       ]
      }
     ],
     "prompt_number": 130
    },
    {
     "cell_type": "code",
     "collapsed": false,
     "input": [
      "def ln(x,order):\n",
      "    ln_sum = 0\n",
      "    for i in range(1,order+1):\n",
      "        n = float(i) \n",
      "        term = np.power(-1,n+1)*np.power(x-1,n)/n\n",
      "        ln_sum += term\n",
      "    return ln_sum"
     ],
     "language": "python",
     "metadata": {},
     "outputs": [],
     "prompt_number": 131
    },
    {
     "cell_type": "code",
     "collapsed": false,
     "input": [
      "def g(x,order=None):\n",
      "    if order == 0:\n",
      "        return -62\n",
      "    elif order == 1:\n",
      "        return -62 + 70*(x-1)\n",
      "    elif order == 2:\n",
      "        return -62 + 70*(x-1) + 138*(x-1)**2/2.0\n",
      "    elif order == 3:\n",
      "        return -62 + 70*(x-1) + 138*(x-1)**2/2.0 + 150.0*(x-1)**3/6.0\n",
      "    else:\n",
      "        return 25.0*x*x*x-6*x*x+7*x-88.0"
     ],
     "language": "python",
     "metadata": {},
     "outputs": [],
     "prompt_number": 132
    },
    {
     "cell_type": "code",
     "collapsed": false,
     "input": [
      "for n in range(4):\n",
      "    print \"%dth taylor ln(3.0) = %.04f\" % (n,ln(3.0,n))\n",
      "    print \"relative error = %.04f\" % (np.abs(np.log(3.0)-ln(3.0,n))/np.abs(np.log(3.0)))\n",
      "    print \"%dth taylor g(2.5) = %.04f\" % (n,g(2.5,n))\n",
      "    print \"relative error = %.04f\" % (np.abs(g(2.5)-g(2.5,n))/np.abs(g(2.5)))"
     ],
     "language": "python",
     "metadata": {},
     "outputs": [
      {
       "output_type": "stream",
       "stream": "stdout",
       "text": [
        "0th taylor ln(3.0) = 0.0000\n",
        "relative error = 1.0000\n",
        "0th taylor g(2.5) = -62.0000\n",
        "relative error = 1.2194\n",
        "1th taylor ln(3.0) = 2.0000\n",
        "relative error = 0.8205\n",
        "1th taylor g(2.5) = 43.0000\n",
        "relative error = 0.8479\n",
        "2th taylor ln(3.0) = 0.0000\n",
        "relative error = 1.0000\n",
        "2th taylor g(2.5) = 198.2500\n",
        "relative error = 0.2985\n",
        "3th taylor ln(3.0) = 2.6667\n",
        "relative error = 1.4273\n",
        "3th taylor g(2.5) = 282.6250\n",
        "relative error = 0.0000\n"
       ]
      }
     ],
     "prompt_number": 133
    },
    {
     "cell_type": "code",
     "collapsed": false,
     "input": [],
     "language": "python",
     "metadata": {},
     "outputs": []
    }
   ],
   "metadata": {}
  }
 ]
}