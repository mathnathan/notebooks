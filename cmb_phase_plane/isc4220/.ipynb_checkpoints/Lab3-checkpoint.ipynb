{
  "nbformat" : 3,
  "nbformat_minor" : 0,
  "metadata" : {

  },
  "worksheets" : [
    {
      "cells" : [
        {
          "collapsed" : "false",
          "cell_type" : "code",
          "input" : [
            "import numpy as np"
          ],
          "prompt_number" : 1,
          "outputs" : [

          ],
          "metadata" : {

          },
          "language" : "python"
        },
        {
          "collapsed" : "false",
          "cell_type" : "code",
          "input" : [
            "data = (67,0,0,0,0,0,0,36,0,0,-67,161,-36,0,0,0,-161,0,182,0,0,0,0,-182,212)\n",
            "A = np.array(data).reshape(5,5); A"
          ],
          "prompt_number" : 2,
          "outputs" : [
            {
              "text" : [
                "array([[  67,    0,    0,    0,    0],\n",
                "       [   0,    0,   36,    0,    0],\n",
                "       [ -67,  161,  -36,    0,    0],\n",
                "       [   0, -161,    0,  182,    0],\n",
                "       [   0,    0,    0, -182,  212]])"
              ],
              "prompt_number" : 2,
              "output_type" : "pyout"
            }
          ],
          "metadata" : {

          },
          "language" : "python"
        },
        {
          "collapsed" : "false",
          "cell_type" : "code",
          "input" : [
            "b = np.array((180,710,740,3850,4720)); b"
          ],
          "prompt_number" : 3,
          "outputs" : [
            {
              "text" : [
                "array([ 180,  710,  740, 3850, 4720])"
              ],
              "prompt_number" : 3,
              "output_type" : "pyout"
            }
          ],
          "metadata" : {

          },
          "language" : "python"
        },
        {
          "collapsed" : "false",
          "cell_type" : "code",
          "input" : [
            "np.linalg.cond(A)"
          ],
          "prompt_number" : 4,
          "outputs" : [
            {
              "text" : [
                "9.7796289474008677"
              ],
              "prompt_number" : 4,
              "output_type" : "pyout"
            }
          ],
          "metadata" : {

          },
          "language" : "python"
        },
        {
          "collapsed" : "false",
          "cell_type" : "code",
          "input" : [
            "def gauss(A,b=None):\n",
            "\n",
            "\tm,n = A.shape\n",
            "\tif b.size != m:\n",
            "\t\tprint \"ERROR: The size of b must match the number of rows in A\"\n",
            "\t\treturn\n",
            "\tif b is None:\n",
            "\t\tb = np.zeros(m)\n",
            "\tminDim = np.min((m,n))\n",
            "\ti = 0\n",
            "\tfor j in range(minDim):\n",
            "\t\tindx = np.argmax(np.abs(A[j-i:,j])) + j-i  # Add j to get index of A because argmax operates on a slice of A\n",
            "\t\tif j-i != indx:\n",
            "\t\t\tA[[j-i,indx]] = A[[indx,j-i]] # Swap row j and row indx\n",
            "\t\t\tb[[j-i,indx]] = b[[indx,j-i]] # Swap element j and element indx\n",
            "\t\tif A[j-i,j] == 0:\n",
            "\t\t\ti += 1\n",
            "\t\t\tcontinue\n",
            "\t\tfor k in range(j-i+1,m):\n",
            "\t\t\td = -A[k,j]\/A[j,j] # d*A[j,j] zeros out A[k,j] when added to it\n",
            "\t\t\tif d != 0:\n",
            "\t\t\t\tA[k] += d*A[j]\n",
            "\t\t\t\tb[k] += d*b[j]"
          ],
          "prompt_number" : 5,
          "outputs" : [

          ],
          "metadata" : {

          },
          "language" : "python"
        },
        {
          "collapsed" : "false",
          "cell_type" : "code",
          "input" : [
            "def backSolve(A,b):\n",
            "\n",
            "\tm,n = A.shape\n",
            "\tsol = np.ndarray(n)\n",
            "\tfor i in range(n-1,-1,-1):\n",
            "\t\tsol[i] = b[i]\n",
            "\t\tfor j in range(n-1,i,-1):\n",
            "\t\t\tsol[i] -= A[i,j]*sol[j]\n",
            "\t\tsol[i] \/= A[i,i]\n",
            "\t\t\t\n",
            "\treturn sol"
          ],
          "prompt_number" : 6,
          "outputs" : [

          ],
          "metadata" : {

          },
          "language" : "python"
        },
        {
          "collapsed" : "false",
          "cell_type" : "code",
          "input" : [
            "def solve(A,b,inplace=False):\n",
            "\n",
            "\tif inplace:\n",
            "\t\tcpy = False\n",
            "\telse:\n",
            "\t\tcpy = True\n",
            "\tAfloat = A.astype(float, copy=cpy)\n",
            "\tbfloat = b.astype(float, copy=cpy)\n",
            "\tgauss(Afloat, bfloat)\n",
            "\tsol = backSolve(Afloat, bfloat)\n",
            "\n",
            "\treturn sol"
          ],
          "prompt_number" : 7,
          "outputs" : [

          ],
          "metadata" : {

          },
          "language" : "python"
        },
        {
          "collapsed" : "false",
          "cell_type" : "code",
          "input" : [
            "c = solve(A,b); c"
          ],
          "prompt_number" : 8,
          "outputs" : [
            {
              "text" : [
                "array([  2.68656716,  10.1242236 ,  19.72222222,  30.10989011,  48.11320755])"
              ],
              "prompt_number" : 8,
              "output_type" : "pyout"
            }
          ],
          "metadata" : {

          },
          "language" : "python"
        },
        {
          "collapsed" : "false",
          "cell_type" : "code",
          "input" : [
            "np.dot(A,c)"
          ],
          "prompt_number" : 9,
          "outputs" : [
            {
              "text" : [
                "array([  180.,   710.,   740.,  3850.,  4720.])"
              ],
              "prompt_number" : 9,
              "output_type" : "pyout"
            }
          ],
          "metadata" : {

          },
          "language" : "python"
        },
        {
          "collapsed" : "false",
          "cell_type" : "code",
          "input" : [
            "b = np.array((180,1000,740,3850,4720))\n",
            "c = solve(A,b); c"
          ],
          "prompt_number" : 10,
          "outputs" : [
            {
              "text" : [
                "array([  2.68656716,  11.92546584,  27.77777778,  31.7032967 ,  49.48113208])"
              ],
              "prompt_number" : 10,
              "output_type" : "pyout"
            }
          ],
          "metadata" : {

          },
          "language" : "python"
        },
        {
          "collapsed" : "false",
          "cell_type" : "code",
          "input" : [
            "np.linalg.solve(A,b)"
          ],
          "prompt_number" : 11,
          "outputs" : [
            {
              "text" : [
                "array([  2.68656716,  11.92546584,  27.77777778,  31.7032967 ,  49.48113208])"
              ],
              "prompt_number" : 11,
              "output_type" : "pyout"
            }
          ],
          "metadata" : {

          },
          "language" : "python"
        },
        {
          "collapsed" : "false",
          "cell_type" : "code",
          "input" : [
            "d = (1,4,2,2,5,7,6,1,0,-2,3,1)\n",
            "B = np.array(d,float).reshape(3,4); B"
          ],
          "prompt_number" : 12,
          "outputs" : [
            {
              "text" : [
                "array([[ 1.,  4.,  2.,  2.],\n",
                "       [ 5.,  7.,  6.,  1.],\n",
                "       [ 0., -2.,  3.,  1.]])"
              ],
              "prompt_number" : 12,
              "output_type" : "pyout"
            }
          ],
          "metadata" : {

          },
          "language" : "python"
        },
        {
          "collapsed" : "false",
          "cell_type" : "code",
          "input" : [
            "b = np.array((7,13,-1),float); b"
          ],
          "prompt_number" : 13,
          "outputs" : [
            {
              "text" : [
                "array([  7.,  13.,  -1.])"
              ],
              "prompt_number" : 13,
              "output_type" : "pyout"
            }
          ],
          "metadata" : {

          },
          "language" : "python"
        },
        {
          "collapsed" : "false",
          "cell_type" : "code",
          "input" : [
            "gauss(B,b); (B,b)"
          ],
          "prompt_number" : 14,
          "outputs" : [
            {
              "text" : [
                "(array([[ 5.        ,  7.        ,  6.        ,  1.        ],\n",
                "       [ 0.        ,  2.6       ,  0.8       ,  1.8       ],\n",
                "       [ 0.        ,  0.        ,  3.61538462,  2.38461538]]),\n",
                " array([ 13.        ,   4.4       ,   2.38461538]))"
              ],
              "prompt_number" : 14,
              "output_type" : "pyout"
            }
          ],
          "metadata" : {

          },
          "language" : "python"
        },
        {
          "metadata" : {

          },
          "source" : [
            "##Question 2"
          ],
          "cell_type" : "markdown"
        },
        {
          "collapsed" : "false",
          "cell_type" : "code",
          "input" : [
            "def init(eps):\n",
            "\tmat = np.array(((1.0,1.0+eps),(1.0-eps,1.0))).reshape(2,2)\n",
            "\tb = np.array((1.0+(1.0+eps)*eps,1.0))\n",
            "\tsol = np.array((1,eps))\n",
            "\treturn (mat,b,sol)"
          ],
          "prompt_number" : 15,
          "outputs" : [

          ],
          "metadata" : {

          },
          "language" : "python"
        },
        {
          "metadata" : {

          },
          "source" : [
            "####part1"
          ],
          "cell_type" : "markdown"
        },
        {
          "collapsed" : "false",
          "cell_type" : "code",
          "input" : [
            "for i in range(9):\n",
            "\te = 10**(-i)\n",
            "\tA,b,sol = init(e)\n",
            "\tprint \"\\n----eps = 10e-%d = %0.12f----\" % (i,e)\n",
            "\tprint np.linalg.solve(A,b), \"\\n\""
          ],
          "prompt_number" : 16,
          "outputs" : [
            {
              "stream" : "stdout",
              "text" : [
                "10e-0 - solution to is\n",
                "\n",
                "[ 1.  1.] \n",
                "\n",
                "10e-1 - solution to is\n",
                "\n",
                "[ 1.   0.1] \n",
                "\n",
                "10e-2 - solution to is\n",
                "\n",
                "[ 1.    0.01] \n",
                "\n",
                "10e-3 - solution to is\n",
                "\n",
                "[  1.00000000e+00   9.99999972e-04] \n",
                "\n",
                "10e-4 - solution to is\n",
                "\n",
                "[  9.99999991e-01   1.00008890e-04] \n",
                "\n",
                "10e-5 - solution to is\n",
                "\n",
                "[  1.00000112e+00   8.88179332e-06] \n",
                "\n",
                "10e-6 - solution to is\n",
                "\n",
                "[ 1.000001  0.      ] \n",
                "\n",
                "10e-7 - solution to is\n",
                "\n",
                "[ 1.0000001  0.       ] \n",
                "\n",
                "10e-8 - solution to is\n",
                "\n",
                "[ 1.00000001  0.        ] \n",
                "\n",
                "\n",
                "\n",
                "\n",
                "\n"
              ],
              "output_type" : "stream"
            }
          ],
          "metadata" : {

          },
          "language" : "python"
        },
        {
          "collapsed" : "false",
          "cell_type" : "code",
          "input" : [
            "for i in range(9):\n",
            "\te = 10**(-i)\n",
            "\tA,b,sol = init(e)\n",
            "\tx = np.linalg.solve(A,b)\n",
            "\tprint \"\\n----eps = 10e-%d = %0.12f----\" % (i,e)\n",
            "\tprint \"cond(A) = %f\" % (np.linalg.cond(A))\n",
            "\tprint \"Rel Err in x[0] = \", np.abs((sol[0]-x[0])\/sol[0])\n",
            "\tprint \"Rel Err in x[1] = \", np.abs((sol[1]-x[1])\/sol[1])"
          ],
          "prompt_number" : 23,
          "outputs" : [
            {
              "stream" : "stdout",
              "text" : [
                "----eps = 10e-0 = 1.000000000000----\n",
                "cond(A) = 5.828427\n",
                "Rel Err in x[0] =  0.0\n",
                "Rel Err in x[1] =  0.0\n",
                "----eps = 10e-1 = 0.100000000000----\n",
                "cond(A) = 401.997512\n",
                "Rel Err in x[0] =  1.11022302463e-14\n",
                "Rel Err in x[1] =  9.99200722163e-14\n",
                "----eps = 10e-2 = 0.010000000000----\n",
                "cond(A) = 40001.999975\n",
                "Rel Err in x[0] =  2.91544566267e-13\n",
                "Rel Err in x[1] =  2.88657986403e-11\n",
                "----eps = 10e-3 = 0.001000000000----\n",
                "cond(A) = 4000002.000059\n",
                "Rel Err in x[0] =  2.84501311398e-11\n",
                "Rel Err in x[1] =  2.84217094304e-08\n",
                "----eps = 10e-4 = 0.000100000000----\n",
                "cond(A) = 399999997.796778\n",
                "Rel Err in x[0] =  8.89044471375e-09\n",
                "Rel Err in x[1] =  8.8895557135e-05\n",
                "----eps = 10e-5 = 0.000010000000----\n",
                "cond(A) = 40000084898.939415\n",
                "Rel Err in x[0] =  1.1182178592e-06\n",
                "Rel Err in x[1] =  0.111820667711\n",
                "----eps = 10e-6 = 0.000001000000----\n",
                "cond(A) = 4000662598653.009277\n",
                "Rel Err in x[0] =  1.00000100001e-06\n",
                "Rel Err in x[1] =  1.0\n",
                "----eps = 10e-7 = 0.000000100000----\n",
                "cond(A) = 398065749436149.750000\n",
                "Rel Err in x[0] =  1.0000001005e-07\n",
                "Rel Err in x[1] =  1.0\n",
                "----eps = 10e-8 = 0.000000010000----\n",
                "cond(A) = inf\n",
                "Rel Err in x[0] =  1.00000001613e-08\n",
                "Rel Err in x[1] =  1.0\n"
              ],
              "output_type" : "stream"
            }
          ],
          "metadata" : {

          },
          "language" : "python"
        },
        {
          "metadata" : {

          },
          "source" : [
            "####part 3\n",
            "As epsilon decreases the matrix becomes symmetric thus \n",
            "$$K_2(A) \\approx \\frac{|\\lambda_{max}|}{|\\lambda_{min}|}$$ \n",
            "becomes a good approximation to the condition number of A. Using the above expression it can be shown that the condition number is approximately equal to \n",
            "$$\\frac{2\\lambda_{max}+\\epsilon^2}{\\epsilon^2}$$\n",
            "Here we see that as epsilon decreases by one order of magnitude, the condition number increases by 2 orders of magnitude. Also, with epsilon in the denominator we can see that for epsilon near zero the condition number approaches infinity."
          ],
          "cell_type" : "markdown"
        },
        {
          "collapsed" : "false",
          "cell_type" : "code",
          "input" : [
            "import matplotlib"
          ],
          "prompt_number" : 0,
          "outputs" : [

          ],
          "metadata" : {

          },
          "language" : "python"
        }
      ],
      "metadata" : {

      }
    }
  ]
}