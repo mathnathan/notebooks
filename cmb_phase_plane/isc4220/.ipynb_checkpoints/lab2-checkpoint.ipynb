{
 "metadata": {
  "name": "",
  "signature": "sha256:9512d4c8e9e4d1aa7d71d7499bde3197a5398f60d08cd917664e94e14de67724"
 },
 "nbformat": 3,
 "nbformat_minor": 0,
 "worksheets": [
  {
   "cells": [
    {
     "cell_type": "code",
     "collapsed": false,
     "input": [
      "import numpy as np\n",
      "import sys"
     ],
     "language": "python",
     "metadata": {},
     "outputs": [],
     "prompt_number": 27
    },
    {
     "cell_type": "code",
     "collapsed": false,
     "input": [
      "def newton(f, x0, tol, df=None):\n",
      "    if df is None:\n",
      "        dx = 1e-5\n",
      "        df = lambda x: (f(x+dx)-f(x))/dx\n",
      "    err = sys.maxint\n",
      "    xprev = x0\n",
      "    itr = 0\n",
      "    while err > tol:\n",
      "        xst = xprev - f(xprev)/df(xprev)\n",
      "        itr += 1\n",
      "        err = np.abs((xst-xprev)/xst)\n",
      "        xprev = xst\n",
      "        \n",
      "    return (xst,err,itr)"
     ],
     "language": "python",
     "metadata": {},
     "outputs": [],
     "prompt_number": 28
    },
    {
     "cell_type": "markdown",
     "metadata": {},
     "source": [
      "Now we implement a function whose zero is any root of any number, in particular both $\\sqrt2$ and $\\sqrt[5]5$"
     ]
    },
    {
     "cell_type": "code",
     "collapsed": false,
     "input": [
      "def f(x,n,a):\n",
      "    \"\"\"The x that zeros this function is the nth root of a\"\"\"\n",
      "    return np.power(x,float(n))-a"
     ],
     "language": "python",
     "metadata": {},
     "outputs": [],
     "prompt_number": 29
    },
    {
     "cell_type": "code",
     "collapsed": false,
     "input": [
      "def df(x,n):\n",
      "    return n*np.power(x,n-1.0)"
     ],
     "language": "python",
     "metadata": {},
     "outputs": [],
     "prompt_number": 30
    },
    {
     "cell_type": "code",
     "collapsed": false,
     "input": [
      "x0 = 100.0\n",
      "tol = 1e-4"
     ],
     "language": "python",
     "metadata": {},
     "outputs": [],
     "prompt_number": 31
    },
    {
     "cell_type": "code",
     "collapsed": false,
     "input": [
      "newton(lambda x: f(x,n=2,a=2), x0, tol)"
     ],
     "language": "python",
     "metadata": {},
     "outputs": [
      {
       "metadata": {},
       "output_type": "pyout",
       "prompt_number": 32,
       "text": [
        "(1.4142135623790075, 1.0319135918340169e-06, 10)"
       ]
      }
     ],
     "prompt_number": 32
    },
    {
     "cell_type": "code",
     "collapsed": false,
     "input": [
      "newton(lambda x: f(x,n=2,a=2), x0, tol, lambda x: df(x,2))"
     ],
     "language": "python",
     "metadata": {},
     "outputs": [
      {
       "metadata": {},
       "output_type": "pyout",
       "prompt_number": 33,
       "text": [
        "(1.4142135623738401, 1.0264900943100491e-06, 10)"
       ]
      }
     ],
     "prompt_number": 33
    },
    {
     "cell_type": "code",
     "collapsed": false,
     "input": [
      "newton(lambda x: f(x,n=5,a=5), x0, tol)"
     ],
     "language": "python",
     "metadata": {},
     "outputs": [
      {
       "metadata": {},
       "output_type": "pyout",
       "prompt_number": 34,
       "text": [
        "(1.3797296616543862, 5.4939237118321321e-06, 23)"
       ]
      }
     ],
     "prompt_number": 34
    },
    {
     "cell_type": "code",
     "collapsed": false,
     "input": [
      "newton(lambda x: f(x,n=5,a=5), x0, tol, lambda x: df(x,5))"
     ],
     "language": "python",
     "metadata": {},
     "outputs": [
      {
       "metadata": {},
       "output_type": "pyout",
       "prompt_number": 35,
       "text": [
        "(1.3797296615435934, 5.4637758900542581e-06, 23)"
       ]
      }
     ],
     "prompt_number": 35
    },
    {
     "cell_type": "code",
     "collapsed": false,
     "input": [
      "def arctan(x,order):\n",
      "    atan_sum = 0\n",
      "    N = int(order) - int(order)/2\n",
      "    #print \"N = \", N\n",
      "    for n in range(N):\n",
      "        term = np.power(-1,n)*(np.power(float(x),2*n+1)/(2*n+1))\n",
      "        #print \"term = \", term\n",
      "        atan_sum += term\n",
      "    return atan_sum"
     ],
     "language": "python",
     "metadata": {},
     "outputs": [],
     "prompt_number": 53
    },
    {
     "cell_type": "code",
     "collapsed": false,
     "input": [
      "for i in [1,3,5,7,9,11,13]:\n",
      "    apprxPI = 16.0*arctan(1.0/5,i)-4.0*arctan(1.0/239,i)\n",
      "    print \"%d:\\tPI = %.15f \\tERR=%.15f\" % (i,apprxPI,np.abs((np.pi-apprxPI)/np.pi))"
     ],
     "language": "python",
     "metadata": {},
     "outputs": [
      {
       "output_type": "stream",
       "stream": "stdout",
       "text": [
        "1:\tPI = 3.183263598326360 \tERR=0.013264273676268\n",
        "3:\tPI = 3.140597029326060 \tERR=0.000316917046071\n",
        "5:\tPI = 3.141621029325035 \tERR=0.000009032277055\n",
        "7:\tPI = 3.141591772182177 \tERR=0.000000280560758\n",
        "9:\tPI = 3.141592682404399 \tERR=0.000000009171974\n",
        "11:\tPI = 3.141592652615309 \tERR=0.000000000310188\n",
        "13:\tPI = 3.141592653623555 \tERR=0.000000000010747\n"
       ]
      }
     ],
     "prompt_number": 74
    },
    {
     "cell_type": "code",
     "collapsed": false,
     "input": [
      "np.pi"
     ],
     "language": "python",
     "metadata": {},
     "outputs": [
      {
       "metadata": {},
       "output_type": "pyout",
       "prompt_number": 63,
       "text": [
        "3.141592653589793"
       ]
      }
     ],
     "prompt_number": 63
    },
    {
     "cell_type": "code",
     "collapsed": false,
     "input": [],
     "language": "python",
     "metadata": {},
     "outputs": []
    }
   ],
   "metadata": {}
  }
 ]
}