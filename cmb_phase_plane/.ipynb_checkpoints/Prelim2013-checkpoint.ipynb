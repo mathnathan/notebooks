{
 "metadata": {
  "name": "Prelim2013"
 }, 
 "nbformat": 2, 
 "worksheets": [
  {
   "cells": [
    {
     "cell_type": "markdown", 
     "source": [
      "$$\\textbf{Q1. Optimization}$$", 
      "", 
      "Use the Augmented Lagrangian method to solve the equality constrained problem"
     ]
    }, 
    {
     "cell_type": "code", 
     "collapsed": true, 
     "input": [
      "import numpy as np", 
      "import matplotlib.pyplot as plt", 
      "from scipy.optimize import fmin"
     ], 
     "language": "python", 
     "outputs": [], 
     "prompt_number": 104
    }, 
    {
     "cell_type": "code", 
     "collapsed": true, 
     "input": [
      "def f(x):", 
      "    return 6*x[0]*x[0]+4*x[0]*x[1]+3*x[1]*x[1]", 
      "", 
      "def h(x):", 
      "    return x[0]+x[1]-5", 
      "", 
      "def L(x,lamda,rk):", 
      "    return f(x)-lamda*h(x)+rk*h(x)**2", 
      "", 
      "def update(x,lamda,rk):", 
      "    return (lamda-2*rk*h(x), 2*rk)", 
      "", 
      "lamda = 0", 
      "rk = 1", 
      "x0 = [1,1]"
     ], 
     "language": "python", 
     "outputs": [], 
     "prompt_number": 105
    }, 
    {
     "cell_type": "code", 
     "collapsed": false, 
     "input": [
      "x = x0", 
      "while np.abs(h(x)) > 0.01:", 
      "    x = fmin(lambda x: L(x,lamda,rk), x0)", 
      "    (lamda,rk) = update(x,lamda,rk)", 
      "    #print \"x = \", x", 
      "    #print \"lamda = \", lamda", 
      "    #print \"h(x) = \", h(x)", 
      "    "
     ], 
     "language": "python", 
     "outputs": [
      {
       "output_type": "stream", 
       "stream": "stdout", 
       "text": [
        "Optimization terminated successfully.", 
        "         Current function value: 18.421053", 
        "         Iterations: 31", 
        "         Function evaluations: 62", 
        "Optimization terminated successfully.", 
        "         Current function value: 47.829828", 
        "         Iterations: 38", 
        "         Function evaluations: 72", 
        "Optimization terminated successfully.", 
        "         Current function value: 64.674717", 
        "         Iterations: 43", 
        "         Function evaluations: 84", 
        "Optimization terminated successfully.", 
        "         Current function value: 69.431560", 
        "         Iterations: 46", 
        "         Function evaluations: 90", 
        "Optimization terminated successfully.", 
        "         Current function value: 69.978025", 
        "         Iterations: 46", 
        "         Function evaluations: 90", 
        "Optimization terminated successfully.", 
        "         Current function value: 69.999738", 
        "         Iterations: 57", 
        "         Function evaluations: 110"
       ]
      }
     ], 
     "prompt_number": 106
    }, 
    {
     "cell_type": "markdown", 
     "source": [
      "$\\textbf{Q2. Fourier Analysis}$"
     ]
    }, 
    {
     "cell_type": "code", 
     "collapsed": true, 
     "input": [], 
     "language": "python", 
     "outputs": []
    }
   ]
  }
 ]
}