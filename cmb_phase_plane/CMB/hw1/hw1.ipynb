{
 "metadata": {
  "name": ""
 },
 "nbformat": 3,
 "nbformat_minor": 0,
 "worksheets": [
  {
   "cells": [
    {
     "cell_type": "markdown",
     "metadata": {},
     "source": [
      "#Computational Methods in Biology - Assignment 1\n",
      "\n",
      "## Probelm 1.\n",
      "\n",
      "###(a) \n",
      "The Nernst Potential is given by: \n",
      " \n",
      " $$V_S = \\frac{RT}{zF}\\ln\\bigg(\\frac{[S]_o}{[S]_i}\\bigg)$$\n",
      " \n",
      " Where $R=8.314$ is the gas constant, $T$ is the temperature in Kelvin, $z$ is the valence charge of the ion, and $F=9.648\\times10^4$ is Faraday's constant. For simplicity, I will write a *nernst* function to calculate the potentials for an ion based on its intracellular and extracellular concentrations, its valence charge z, and the temperature of their solution in Celcius. "
     ]
    },
    {
     "cell_type": "code",
     "collapsed": false,
     "input": [
      "import numpy as np  # Use the numerics library for math\n",
      "\n",
      "def nernst(intra, extra, C, z):\n",
      "    R = 8.314462  # Gas Constant\n",
      "    F = 9.64853399e4  # Faraday's Constant\n",
      "    T = 273.15 + C  # Kelvin = 273.15 + Celcius\n",
      "    \n",
      "    return (R*T)/(z*F)*(np.log(float(extra)/intra))"
     ],
     "language": "python",
     "metadata": {},
     "outputs": [],
     "prompt_number": 6
    },
    {
     "cell_type": "markdown",
     "metadata": {},
     "source": [
      "For Potassium we are given $[K]_i=430$ and $[K]_o=20$. The temperature is $20^o$ Celcius and Potassium has a valence charge of $+1$. Therefore..."
     ]
    },
    {
     "cell_type": "code",
     "collapsed": false,
     "input": [
      "intra = 430\n",
      "extra = 20\n",
      "C = 20\n",
      "z = 1\n",
      "\n",
      "Vk = nernst(intra,extra,C,z); Vk"
     ],
     "language": "python",
     "metadata": {},
     "outputs": [
      {
       "metadata": {},
       "output_type": "pyout",
       "prompt_number": 7,
       "text": [
        "-0.077504259044191351"
       ]
      }
     ],
     "prompt_number": 7
    },
    {
     "cell_type": "markdown",
     "metadata": {},
     "source": [
      "Which is approximately $-77.5$ mV"
     ]
    },
    {
     "cell_type": "markdown",
     "metadata": {},
     "source": [
      "For Sodium we are given $[Na]_i=50$ and $[Na]_o=440$. The temperature is $20^o$ Celcius and Sodium has a valence charge of $+1$. Therefore..."
     ]
    },
    {
     "cell_type": "code",
     "collapsed": false,
     "input": [
      "intra = 50\n",
      "extra = 440\n",
      "C = 20\n",
      "z = 1\n",
      "\n",
      "Vna = nernst(intra,extra,C,z); Vna"
     ],
     "language": "python",
     "metadata": {},
     "outputs": [
      {
       "metadata": {},
       "output_type": "pyout",
       "prompt_number": 8,
       "text": [
        "0.054937944143186326"
       ]
      }
     ],
     "prompt_number": 8
    },
    {
     "cell_type": "markdown",
     "metadata": {},
     "source": [
      "Which is approximately $54.9$ mV"
     ]
    },
    {
     "cell_type": "markdown",
     "metadata": {},
     "source": [
      "For Chloride we are given $[Cl]_i=65$ and $[Cl]_o=560$. The temperature is $20^o$ Celcius and Chloride has a valence charge of $-1$. Therefore..."
     ]
    },
    {
     "cell_type": "code",
     "collapsed": false,
     "input": [
      "intra = 65\n",
      "extra = 560\n",
      "C = 20\n",
      "z = -1\n",
      "\n",
      "Vcl = nernst(intra,extra,C,z); Vcl"
     ],
     "language": "python",
     "metadata": {},
     "outputs": [
      {
       "metadata": {},
       "output_type": "pyout",
       "prompt_number": 9,
       "text": [
        "-0.054402340153032386"
       ]
      }
     ],
     "prompt_number": 9
    },
    {
     "cell_type": "markdown",
     "metadata": {},
     "source": [
      "Which is approximately $-54.4$ mV"
     ]
    },
    {
     "cell_type": "markdown",
     "metadata": {},
     "source": [
      "###(b) \n",
      "\n",
      "The resting membrane potential is given by the weighted average of Nernst Potentials\n",
      "\n",
      "$$ V_{rest} = \\frac{g_KV_K + g_{Na}V_{Na} + g_{Cl}V_{Cl}}{g_K + g_{Na} + g_{Cl}} $$\n",
      "\n",
      "Given $g_{Na} = 1$, $g_K = 10$, $g_{Cl} = 3$, and the Nernst Potentials found above we can calculate the resting potential..."
     ]
    },
    {
     "cell_type": "code",
     "collapsed": false,
     "input": [
      "gna = 1\n",
      "gk = 10\n",
      "gcl = 3\n",
      "\n",
      "Vrest = (gk*Vk + gna*Vna + gcl*Vcl) / (gk + gna + gcl); Vrest"
     ],
     "language": "python",
     "metadata": {},
     "outputs": [
      {
       "metadata": {},
       "output_type": "pyout",
       "prompt_number": 10,
       "text": [
        "-0.063093690482701734"
       ]
      }
     ],
     "prompt_number": 10
    },
    {
     "cell_type": "markdown",
     "metadata": {},
     "source": [
      "Which is approximately -63.1 mV"
     ]
    },
    {
     "cell_type": "markdown",
     "metadata": {},
     "source": [
      "## Problem 2\n",
      "\n",
      "###(a)\n",
      "\n",
      "We will solve the passive membrane equation \n",
      "\n",
      "$$C\\frac{dV}{dt}=-g(V-V_{rev})+I_{app}$$\n",
      "\n",
      "using the integrating factor technique. First let us divide the equation through by C and rewrite it as follows...\n",
      "\n",
      "$$\\frac{dV}{dt}+\\frac{1}{\\tau}V=Q$$\n",
      "\n",
      "where we used the fact that the conductance $g=\\frac{1}{R}$ and the membrane time constant $\\tau=RC$ and to simplify algebra we let\n",
      "\n",
      "$$\\frac{1}{\\tau}V_{rev}+\\frac{1}{C}I_{app}=Q$$\n",
      "\n",
      "We now have the linear ODE in standard form and by letting $\\frac{dV}{dt}=0$ we can easily see the steady state of the system $V_{\\infty}= \\tau Q$. Now we apply the integrating factor technique. Multiply both sides through by exp($\\int_0^t\\frac{1}{\\tau}dt$) = $e^{\\frac{t}{\\tau}}$.\n",
      "\n",
      "$$e^{\\frac{t}{\\tau}}\\Big(\\frac{dV}{dt}+\\frac{1}{\\tau}V\\Big)=e^{\\frac{t}{\\tau}}Q$$\n",
      "\n",
      "After distributing the exponential on the left side it can be rewritten as a product rule\n",
      "\n",
      "$$e^{\\frac{t}{\\tau}}\\frac{dV}{dt}+\\frac{1}{\\tau}e^{\\frac{t}{\\tau}}V \\Rightarrow \\frac{d}{dt}(e^{\\frac{t}{\\tau}}V)$$\n",
      "\n",
      "No if we integrate both sides...\n",
      "\n",
      "$$\\int_0^t \\frac{d}{ds}(e^{\\frac{s}{\\tau}}V) ds = Q \\int_0^t e^{\\frac{s}{\\tau}}ds$$\n",
      "\n",
      "$$e^{\\frac{t}{\\tau}}V(t)-V_0 = \\tau Q (e^{\\frac{t}{\\tau}}-1)$$\n",
      "\n",
      "$$V(t)= e^{-\\frac{t}{\\tau}}V_0+\\tau Q(1-e^{-\\frac{t}{\\tau}})$$\n",
      "\n",
      "The solution confirms the behavior we would expect. At $t=0$ we see that $V(t)=V_0$. Now as time passes, exp($-\\frac{t}{\\tau}$) $\\rightarrow 0$ which slowly shifts $V(t)$ from the first term $V_0$ (the initial condition) to the second term $\\tau Q$ which we already established was the system's steady state. So with a substitution $\\tau Q=V_{\\infty}$ and some simple algebra we can rewrite our solution as\n",
      "\n",
      "$$V(t) = (V_0-V_{\\infty})e^{-\\frac{t}{\\tau}}+V_{\\infty}$$\n",
      "\n",
      "###(b)\n",
      "\n",
      "The $\\tau$ parameter is the time constant for the differential equation. It controls the speed of the approach to steady state. It is the product of both the resistance and capacitance of the membrane $\\tau=RC$. If one wanted to vary the growth/decay rate of the voltage they could do so by changing the resistance or the capacitance."
     ]
    },
    {
     "cell_type": "markdown",
     "metadata": {},
     "source": [
      "## Problem 3\n",
      "\n",
      "Given the Nernst-Planck equation \n",
      "\n",
      "$$J = -D\\Big(\\frac{dC}{dx}+\\frac{zCF}{RT}\\frac{d\\Phi}{dx}\\Big)$$\n",
      "\n",
      "we can derive the Nerst equation by finding the potential when flux is zero. We set $J=0$ and divide through by $-D$\n",
      "\n",
      "$$0=\\frac{dC}{dx}+\\frac{zCF}{RT}\\frac{d\\Phi}{dx}$$\n",
      "\n",
      "To put this into more of an integral friendly form we will isolate the $\\frac{d\\Phi}{dx}$ term and group the concentration variable $C$.\n",
      "\n",
      "$$\\frac{d\\Phi}{dx}=-\\frac{RT}{zF}\\frac{\\frac{dC}{dx}}{C}$$\n",
      "\n",
      "Next we integrate through...\n",
      "\n",
      "$$\\int_0^x \\frac{d\\Phi}{ds} ds = -\\frac{RT}{zF} \\int_0^x \\frac{\\frac{dC}{ds}}{C} ds \\hspace{10pt} \\Rightarrow \\hspace{10pt} \\Phi(x)-\\Phi(0) = -\\frac{RT}{zF}(\\ln(C(x))-\\ln(C(0)))$$\n",
      "\n",
      "Where is $x=0$? The convention is to define $x=0$ to be extracellular. Also, because voltage is defined as the potential of a charge relative to some source of electric field and the source is not explicitly defined here, we can define $\\Phi(0)=0$. The source is irrelevant, we are only interested in the difference of potentials across the membrane. Therefore $\\Phi(x)-\\Phi(0) = V$.\n",
      "\n",
      "$$V = -\\frac{RT}{zF}(\\ln(C(x))-\\ln(C(0)))$$\n",
      "\n",
      "Lastly we use logarithmic properties to combine the natural logs. We move the $-1$ to the exponent of the natural log flipping the inner fraction, and redefine the concentrations $C(x)=[C_{in}]$ and $C(0)=[C_{out}]$ giving us the Nernst equation...\n",
      "\n",
      "$$V = \\frac{RT}{zF}\\ln\\Big(\\frac{[C_{out}]}{[C_{in}]}\\Big)$$\n",
      "\n"
     ]
    },
    {
     "cell_type": "markdown",
     "metadata": {},
     "source": [
      "##Problem 4\n",
      "\n",
      "### (a)\n",
      "\n",
      "The driving force $V-V_{rev}$ is simply a translation of the voltage up or down. Below we have the original voltage plot provided.\n",
      "\n",
      "<img src=\"files/vRest.png\" width=\"40%\" height=\"40%\">\n",
      "\n",
      "Given $V_K = -70$mV the plot for $V-V_K$ is a vertical translation upwards by $70$mV. \n",
      "\n",
      "<img src=\"files/vKforce.png\" width=\"40%\" height=\"40%\">\n",
      "\n",
      "This simply means when the membrane voltage is at rest, $V=-60$mV, the potassium reversal potential wants to drive the voltage down to $-70$mV with a \"driving force\" of $10$mV. Similarly when the voltage jumps to $V=40$mV the potassium reversal potential wants to drive the voltage way down to $-70$mV with a much stronger \"driving force\" of $110$mV. \n",
      "\n",
      "Given $V_{Na} = 50$mV the plot for $V-V_{Na}$ is a vertical translation downwards by $50$mV. We interpret this plot the same as above.\n",
      "\n",
      "<img src=\"files/vNaforce.png\" width=\"40%\" height=\"40%\">\n",
      "\n"
     ]
    },
    {
     "cell_type": "markdown",
     "metadata": {},
     "source": [
      "### (b)\n",
      "\n",
      "The three differential equations governing the probability of the ion channels being opened or closed (activated or inactivated) are given by\n",
      "\n",
      "$$\\frac{dn}{dt} = \\frac{n_{\\infty}(V)-n}{\\tau_n(V)} \\hspace{25pt} \\frac{dm}{dt} = \\frac{m_{\\infty}(V)-m}{\\tau_m(V)} \\hspace{25pt} \\frac{dh}{dt} = \\frac{h_{\\infty}(V)-h}{\\tau_h(V)}$$\n",
      "\n",
      "We notice that each equation is a function of voltage and, as evidenced by our initial voltage plot, voltage is held constant for t $\\epsilon (0,10)\\bigcup (10,20) \\bigcup (20,30)$. Therefore the steady states and the (variable) time constants each become constant. This means the nonlinear ODEs becomes linear on those intervals and we can solve them analytically for piecewise solutions. Because all of the equations have a similar form, we will solve a general expression giving us the solution for all of the equations on all the intervals. Let $x$ be the particular gating variable, then\n",
      "\n",
      "$$\\frac{dx}{dt} = \\frac{x_{\\infty}(V)-x}{\\tau_x(V)}$$\n",
      "\n",
      "Now we allow our functions of voltage to become constants $x_{\\infty}(V)=x_{\\infty}$ and $\\tau_x(V)=\\tau_x$\n",
      "\n",
      "$$\\frac{dx}{dt} = \\frac{x_{\\infty}-x}{\\tau_x} \\hspace{10pt} \\Rightarrow \\hspace{10pt} \\frac{dx}{dt} +\\frac{1}{\\tau_x}x = Q$$\n",
      "\n",
      "Where $Q = \\frac{x_{\\infty}}{\\tau_x}$. This the same standard form used in problem 2a. Using the same technique we arrive at the same solution.\n",
      "\n",
      "$$x(t) = (x_0-x^*_{\\infty})e^{-\\frac{t}{\\tau_x}}+x^*_{\\infty}$$\n",
      "\n",
      "Where $x^*_{\\infty} = \\tau_xQ = \\tau_x\\big(\\frac{x_{\\infty}}{\\tau_x}\\big) = x_{\\infty}$. This gives us our general solution for all of the gating variables.\n",
      "\n",
      "$$x(t) = (x_0-x_{\\infty})e^{-\\frac{t}{\\tau_x}}+x_{\\infty}$$\n",
      " \n",
      "For each gating variable, the time constants were provided: $\\tau_m=0.5$msec, $\\tau_n=5$msec and $\\tau_h=5$msec. What remains to be determined are the initial conditions and the steady states for each gating variable. These will be crude approximations to the behavior because to approximate the continuous behavior over the discontiuous jumps we'll be using the final values of the previous interval as the initial conditions for its neighboring interval. These change depending on which interval we are solving over. We will start with t $\\epsilon [0,10)$. In these ranges, the voltage is at rest, so the sodium and potassium activation gates are closed, and the sodium inactivation gate is opened, $n_0=0$, $m_0=0$, $h_0=1$. Also, at $-60$mV, the steady states for each gating variable is approximately, $n_{\\infty}=0$, $m_{\\infty}=0$, $h_{\\infty}=1$. Substituting these values into each gating variable's equation gives us the following expressions\n",
      "\n",
      "$$n(t) = (n_0-n_{\\infty})e^{-\\frac{t}{\\tau_n}}+n_{\\infty} \\hspace{23pt} \\Rightarrow \\hspace{10pt} n(t) = (0-0)e^{-\\frac{t}{5}}+0 \\hspace{10pt} = 0$$\n",
      "$$m(t) = (m_0-m_{\\infty})e^{-\\frac{t}{\\tau_m}}+m_{\\infty} \\hspace{10pt} \\Rightarrow \\hspace{10pt} m(t) = (0-0)e^{-\\frac{t}{0.5}}+0 \\hspace{4pt} = 0$$\n",
      "$$h(t) = (h_0-h_{\\infty})e^{-\\frac{t}{\\tau_h}}+h_{\\infty} \\hspace{24pt} \\Rightarrow \\hspace{10pt} h(t) = (1-1)e^{-\\frac{t}{5}}+1 \\hspace{11pt} = 1$$\n",
      "\n",
      "Now we will determine the constants for t $\\epsilon [10,20]$. We take the values of the gating variable before the jump to be the initial conditions in this interval. They are $n_0=0$, $m_0=0$, $h_0=1$. At $40$mV, the steady states for each gating variable is approximately, $n_{\\infty}=1$, $m_{\\infty}=1$, $h_{\\infty}=0$. Substituting these values into each gating variable's equation gives us the following expressions\n",
      "\n",
      "$$n(t) = (n_0-n_{\\infty})e^{-\\frac{t}{\\tau_n}}+n_{\\infty} \\hspace{23pt} \\Rightarrow \\hspace{10pt} n(t) = (0-1)e^{-\\frac{t}{5}}+1 \\hspace{10pt} = 1-e^{-\\frac{t}{5}}$$\n",
      "$$m(t) = (m_0-m_{\\infty})e^{-\\frac{t}{\\tau_m}}+m_{\\infty} \\hspace{10pt} \\Rightarrow \\hspace{10pt} m(t) = (0-1)e^{-\\frac{t}{0.5}}+1 \\hspace{4pt} = 1-e^{-\\frac{t}{0.5}}$$\n",
      "$$h(t) = (h_0-h_{\\infty})e^{-\\frac{t}{\\tau_h}}+h_{\\infty} \\hspace{24pt} \\Rightarrow \\hspace{10pt} h(t) = (1-0)e^{-\\frac{t}{5}}+0 \\hspace{11pt} = e^{-\\frac{t}{5}}$$\n",
      "\n",
      "On the last interval, t $\\epsilon (20,30]$, again the initial conditions will come from the previous interval and the steady states will depend on the voltage. The initial conditions are the previous interval's gating variables evaluated at $t=10$. It is at $10$ because when solving the differential equation over the middle interval, the ion channels are just opening at $t=10$. So their behavior from $t=10$ to $t=20$ is what the functions would do from $t=0$ to $t=10$. The initial conditions are, $n_0=1-e^{-2}$, $m_0=1-e^{-20}$, $h_0=e^{-2}$. The steady states are the same as the first interval, $n_{\\infty}=0$, $m_{\\infty}=0$, $h_{\\infty}=1$. Plugging these into our equations gives\n",
      "\n",
      "$$n(t) = (n_0-n_{\\infty})e^{-\\frac{t}{\\tau_n}}+n_{\\infty} \\hspace{23pt} \\Rightarrow \\hspace{10pt} n(t) = (1-e^{-4}-0)e^{-\\frac{t}{5}}+0 \\hspace{14pt} = (1-e^{-4})e^{-\\frac{t}{5}}$$\n",
      "$$m(t) = (m_0-m_{\\infty})e^{-\\frac{t}{\\tau_m}}+m_{\\infty} \\hspace{10pt} \\Rightarrow \\hspace{10pt} m(t) = (1-e^{-40}-0)e^{-\\frac{t}{0.5}}+0 \\hspace{4pt} = (1-e^{-40})e^{-\\frac{t}{0.5}}$$\n",
      "$$h(t) = (h_0-h_{\\infty})e^{-\\frac{t}{\\tau_h}}+h_{\\infty} \\hspace{24pt} \\Rightarrow \\hspace{10pt} h(t) = (e^{-4}-1)e^{-\\frac{t}{5}}+1 \\hspace{32pt} = (e^{-4}-1)e^{-\\frac{t}{5}}+1$$\n",
      "\n",
      "We will visualize this approximate behavior by plotting the pieces of each gating variable's function contiguously. For the gating variable probability we have\n",
      "\n",
      "<img src=\"files/gv.png\" width=\"40%\" height=\"40%\">\n",
      "\n",
      "For the conductances, I used the maximal sodium and potassium conductance determined by Hodgkin and Huxley, $\\bar g_{Na} = 120$, and $\\bar g_K = 36$. This gave the following functions\n",
      "\n",
      "$$g_{Na}(t) = \\bar g_{Na}m^3h = 120m^3h$$\n",
      "$$g_K(t) = \\bar g_Kn^4 = 36n^4$$\n",
      "\n",
      "The plots for the above functions are shown below.\n",
      "\n",
      "<img src=\"files/con.png\" width=\"40%\" height=\"40%\">\n",
      "\n",
      "### (c)\n",
      "\n",
      "Finally we combine all of the above information to define the ionic currents.\n",
      "\n",
      "$$I_{ion}(t) = g_{ion}(t)(V-V_{ion})$$\n",
      "\n",
      "Over each interval, $(V-V_{ion})$ is different and the gating variable equations change through the three equations outlined above. Instead of defining all 6 equations here we will just show the plot of the behavior over each interval.\n",
      "\n",
      "<img src=\"files/cur.png\" width=\"40%\" height=\"40%\">"
     ]
    },
    {
     "cell_type": "code",
     "collapsed": false,
     "input": [],
     "language": "python",
     "metadata": {},
     "outputs": []
    }
   ],
   "metadata": {}
  }
 ]
}