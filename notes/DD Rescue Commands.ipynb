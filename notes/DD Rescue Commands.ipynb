{
 "cells": [
  {
   "cell_type": "markdown",
   "metadata": {},
   "source": [
    "# DD Rescue Commands\n",
    "\n",
    "See what partitions the system sees.\n",
    " \n",
    "`cat /proc/partitions`\n",
    " \n",
    "If the new device is seen by the computer you will see a few messages come up. After a few seconds, if the drive is healthy enough, you will see something about a new device. Hit CTRL-C to get out of the tail command and run cat /proc/partitions again (hit cursor up twice at the command line to repeat previous commands you typed in)\n",
    "tail -f /var/log/kern.log\n",
    " \n",
    "Connect the bad drive and view the Kernel log to see if it sees the drive\n",
    " \n",
    "### DD Rescue\n",
    " \n",
    "`apt-get install gddrescue`\n",
    "\n",
    "Installation  \n",
    "-n option to skip all bad sectors  \n",
    "-r to recover bad sectors, 1 Infiniti\n",
    " \n",
    "`ddrescue -n /dev/sdb1 /media/data/imagefolder/image.dd\n",
    "/media/data/imagefolder/rescue.log`\n",
    " \n",
    "### Switches\n",
    " \n",
    "`dd if=/folder/image.dd of=/dev/sdb`\n",
    " \n",
    "Go from image to drive; drive must be same size or larger than image\n",
    "To create an image of only the boot code of the master boot record(without the partition table):\n",
    " \n",
    "`dd if=/dev/sda of=MBR_boot.img bs=446 count=1`\n",
    "`apt-get install pv`\n",
    "`dd if=/folder/image.dd | pv | dd of=/dev/sdb`\n",
    "Progress bar with PV\n",
    "USB:002,006\n",
    " \n",
    "Mount DD image file\n",
    " \n",
    "Get starting spot and multiple by 512 for offset\n",
    "fdisk -l -u -C (# of Cylinders) /hda_dd.image\n",
    "Get offset\n",
    "mount -o loop,ro,offset=32256 image.dd /mnt/rabbit\n",
    "umount /mnt/rabbit (when done)\n",
    " \n",
    "Wipe Drive\n",
    " \n",
    "dd if=/dev/urandom of=/dev/sda bs=1M"
   ]
  },
  {
   "cell_type": "code",
   "execution_count": null,
   "metadata": {
    "collapsed": true
   },
   "outputs": [],
   "source": []
  }
 ],
 "metadata": {
  "kernelspec": {
   "display_name": "Python 3",
   "language": "python",
   "name": "python3"
  },
  "language_info": {
   "codemirror_mode": {
    "name": "ipython",
    "version": 3
   },
   "file_extension": ".py",
   "mimetype": "text/x-python",
   "name": "python",
   "nbconvert_exporter": "python",
   "pygments_lexer": "ipython3",
   "version": "3.6.1"
  }
 },
 "nbformat": 4,
 "nbformat_minor": 2
}
