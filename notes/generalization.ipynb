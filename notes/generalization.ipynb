{
 "cells": [
  {
   "cell_type": "markdown",
   "metadata": {},
   "source": [
    "Author: Gordon Erlebacher\n",
    "Date: 2020-01-10\n",
    "\n",
    "We will compute a loss surface based on fitting some surface with a neural network using Pytorch"
   ]
  },
  {
   "cell_type": "code",
   "execution_count": null,
   "metadata": {},
   "outputs": [],
   "source": []
  },
  {
   "cell_type": "code",
   "execution_count": 1,
   "metadata": {},
   "outputs": [],
   "source": [
    "import torch\n",
    "import numpy as np\n",
    "from IPython import embed\n",
    "import matplotlib.pyplot as plt\n",
    "%matplotlib inline"
   ]
  },
  {
   "cell_type": "markdown",
   "metadata": {},
   "source": [
    "Create a Gaussian process with a small amount of training points. \n",
    "This makes it easy to generate a nonlinear function. \n",
    "I will evaluate this function at 10,000 points, that I will store for later use. \n",
    "These points will be used for both training and testing in the experiments below. Ss"
   ]
  },
  {
   "cell_type": "code",
   "execution_count": 2,
   "metadata": {},
   "outputs": [],
   "source": [
    "from sklearn.gaussian_process import GaussianProcessRegressor\n",
    "from sklearn.gaussian_process.kernels import RBF, ConstantKernel as C"
   ]
  },
  {
   "cell_type": "code",
   "execution_count": 3,
   "metadata": {},
   "outputs": [],
   "source": [
    "np.random.seed(1) \n",
    "\n",
    "def f(x):\n",
    "    \"A function to predict\"\n",
    "    return x*np.sin(x)\n",
    "\n",
    "#X = [1., 3., 5., 6., 7.] # create 2D array shape: [1,n]\n",
    "X = np.atleast_2d([1., 3., 5., 6., 7., 8.]).T  # shape: 2D\n",
    "Y = f(X).ravel()  # shape 1D\n",
    "\n",
    "# data\n",
    "n = 1000\n",
    "\n",
    "# Compute random values of x\n",
    "#  why would choosing x as random numbers mess things up? \n",
    "# When predicting the GP, the order of points should be irrelevant\n",
    "x = 10*np.random.uniform(size=n)\n",
    "\n",
    "# Sort x, or else the plotting will not work\n",
    "#print(\"x unsorted: \", x[0:10], len(x))\n",
    "x.sort()  \n",
    "x_test = x.reshape(-1,1)  # shape 2D\n",
    "#print(\"x sorted: \", x[0:10], len(x))\n",
    "\n",
    "# Instantiate a Gaussian Process\n",
    "kernel = C(1., (1.e-3,1.e3)) * RBF(10, (1.e-2, 1.e2))\n",
    "gp = GaussianProcessRegressor(kernel=kernel, n_restarts_optimizer=9)\n",
    "\n",
    "# Fit Gaussian Process (careful with array shape)\n",
    "gp.fit(X, Y)\n",
    "\n",
    "# Compute GP at n points. Y_pred: shape 1D\n",
    "y_pred, sigma = gp.predict(x_test, return_std=True)"
   ]
  },
  {
   "cell_type": "code",
   "execution_count": 4,
   "metadata": {},
   "outputs": [
    {
     "data": {
      "image/png": "[encoded data removed]",
      "text/plain": [
       "<Figure size 432x288 with 1 Axes>"
      ]
     },
     "metadata": {
      "needs_background": "light"
     },
     "output_type": "display_data"
    }
   ],
   "source": [
    "# Plot the Gaussian Process\n",
    "# Use subplots() so that figure does not disappear when rerunning the cell\n",
    "# See https://github.com/matplotlib/jupyter-matplotlib/issues/60\n",
    "fig, ax = plt.subplots()\n",
    "ax.plot(x, f(x), 'r:', label=r'$f(x)=x\\,\\sin(x)$')\n",
    "ax.plot(X, Y, 'r.', markersize=10, label='Observations')\n",
    "ax.plot(x, y_pred, 'r.', markersize=1)\n",
    "xpoly = np.concatenate([x, x[::-1]])\n",
    "ypoly = np.concatenate([y_pred-1.96*sigma, (y_pred+1.96*sigma)[::-1]])\n",
    "ax.fill(xpoly, ypoly, alpha=.5, fc='b', \n",
    "         ec='None', label='95% Confidence Level')\n",
    "ax.set_xlabel('$x$')\n",
    "ax.set_ylabel('$f(x)$')\n",
    "ax.set_ylim(-10,20)\n",
    "ax.legend(loc='upper left')\n",
    "plt.show()"
   ]
  },
  {
   "cell_type": "code",
   "execution_count": 5,
   "metadata": {},
   "outputs": [],
   "source": [
    "# From Nathan Crock\n",
    "class P():\n",
    "    def __init__(self, m, s):\n",
    "        self.m = m # Slope of line\n",
    "        self.s = s # Standard deviation of injected noise\n",
    "    def sample(self, size):\n",
    "        x = np.random.uniform(size=size)\n",
    "        y = []\n",
    "        for xi in x:\n",
    "            y.append(np.random.normal(self.m*xi, self.s))\n",
    "        return(x, y)\n",
    "        "
   ]
  },
  {
   "cell_type": "code",
   "execution_count": 6,
   "metadata": {},
   "outputs": [],
   "source": [
    "m = 2.7\n",
    "s = 0.2\n",
    "p = P(m,s)\n",
    "x,y = p.sample(20)"
   ]
  },
  {
   "cell_type": "markdown",
   "metadata": {},
   "source": [
    "Construct a Neural network to do regression using Pytorch\n",
    "\n",
    "First create the data for training"
   ]
  },
  {
   "cell_type": "code",
   "execution_count": 7,
   "metadata": {},
   "outputs": [
    {
     "name": "stderr",
     "output_type": "stream",
     "text": [
      "/home/ndc08/anaconda3/lib/python3.7/site-packages/sklearn/model_selection/_split.py:2179: FutureWarning: From version 0.21, test_size will always complement train_size unless both are specified.\n",
      "  FutureWarning)\n"
     ]
    }
   ],
   "source": [
    "# Make sure I can execute every cell multiple times in a row. Sometimes, \n",
    "# if one reuses a variable defined in an earlier cell, variables can be overwritten\n",
    "# which can lead to problems. \n",
    "\n",
    "from sklearn.model_selection import train_test_split\n",
    "# The test+train dataset was created using a Gaussian Process\n",
    "xdata = torch.tensor(x_test)  # (n, 1)\n",
    "#print(xdata[0:20]) ; \n",
    "ydata = torch.tensor(y_pred.copy()).reshape(-1,1) # (n,)\n",
    "#print(xdata)\n",
    "\n",
    "train_size = .01\n",
    "# Data is shuffled by default\n",
    "xtrain, xtest, ytrain, ytest = train_test_split(xdata.numpy(), ydata.numpy(), train_size=train_size)\n",
    "\n",
    "#x_train = torch.tensor(x_train, dtype=torch.float)\n",
    "xtrain = torch.from_numpy(xtrain).float()\n",
    "xtest = torch.from_numpy(xtest).float()\n",
    "ytrain = torch.from_numpy(ytrain).float()\n",
    "ytest = torch.from_numpy(ytest).float()\n",
    "#print(type(xtrain))\n",
    "xtrain = xtrain.reshape(-1,1)\n",
    "ytrain = ytrain.reshape(-1,1)\n",
    "#print(xtrain.shape, ytrain.shape);"
   ]
  },
  {
   "cell_type": "code",
   "execution_count": 8,
   "metadata": {},
   "outputs": [],
   "source": [
    "from torch.autograd import Variable\n",
    "import torch.nn as nn"
   ]
  },
  {
   "cell_type": "code",
   "execution_count": 9,
   "metadata": {},
   "outputs": [],
   "source": [
    "class linearRegression(torch.nn.Module):\n",
    "    def __init__(self, inputSize, hiddenSize, outputSize):\n",
    "        super(linearRegression, self).__init__()\n",
    "        self.input_linear1 = torch.nn.Linear(inputSize, hiddenSize)\n",
    "        self.input_linear2 = torch.nn.Linear(hiddenSize, outputSize)\n",
    "        self.sigmoid = nn.Tanh()\n",
    " \n",
    "    def forward(self, x):\n",
    "        x = self.input_linear1(x)\n",
    "        x = self.sigmoid(x)  # I should be able to drive loss to zero\n",
    "        x = self.input_linear2(x)\n",
    "        return x"
   ]
  },
  {
   "cell_type": "code",
   "execution_count": 10,
   "metadata": {},
   "outputs": [],
   "source": [
    "inputDim = 1\n",
    "hiddenDim = 10\n",
    "outputDim = 1\n",
    "learningRate = .1\n",
    "epochs = 500\n",
    "model = linearRegression(inputDim, hiddenDim, outputDim)\n",
    "criterion = torch.nn.MSELoss()\n",
    "optimizer = torch.optim.Adam(model.parameters(), lr=learningRate)\n",
    "#print(model.state_dict())"
   ]
  },
  {
   "cell_type": "code",
   "execution_count": 11,
   "metadata": {},
   "outputs": [],
   "source": [
    "losses = []\n",
    "for epoch in range(epochs):\n",
    "    # Converting inputs and labels to Variable\n",
    "    if torch.cuda.is_available():\n",
    "        inputs = Variable(xtrain)\n",
    "        labels = Variable(ytrain)\n",
    "    else:\n",
    "        inputs = Variable(xtrain)\n",
    "        labels = Variable(ytrain)\n",
    "\n",
    "    # Clear gradient buffers because we don't want any gradient from previous epoch to carry forward, dont want to cummulate gradients\n",
    "    optimizer.zero_grad()\n",
    "\n",
    "    # get output from the model, given the inputs\n",
    "    model.train()\n",
    "    outputs = model(inputs)\n",
    "\n",
    "    # get loss for the predicted output\n",
    "    loss = criterion(outputs, labels)\n",
    "    losses.append(loss.item())\n",
    "    #print(loss.item(), epoch)\n",
    "    # get gradients w.r.t to parameters\n",
    "    loss.backward()\n",
    "\n",
    "    # update parameters\n",
    "    optimizer.step()\n",
    "\n",
    "    #print('epoch {}, loss {}'.format(epoch, loss.item()))\n",
    "    \n",
    "#print(model.state_dict())\n",
    "#print(\"--------------------\")\n",
    "\n",
    "\n"
   ]
  },
  {
   "cell_type": "code",
   "execution_count": 12,
   "metadata": {},
   "outputs": [
    {
     "data": {
      "text/plain": [
       "<Figure size 432x288 with 0 Axes>"
      ]
     },
     "metadata": {},
     "output_type": "display_data"
    },
    {
     "data": {
      "image/png": "[encoded data removed]",
      "text/plain": [
       "<Figure size 720x576 with 2 Axes>"
      ]
     },
     "metadata": {
      "needs_background": "light"
     },
     "output_type": "display_data"
    },
    {
     "name": "stdout",
     "output_type": "stream",
     "text": [
      "train_data len:  10\n",
      "test_data len:  990\n"
     ]
    }
   ],
   "source": [
    "# test the model\n",
    "\n",
    "with torch.no_grad():\n",
    "    predicted = model(Variable(xtest))\n",
    "    \n",
    "    \n",
    "plt.clf()\n",
    "fig, axes = plt.subplots(2,1, figsize=(10,8))\n",
    "ax = axes[0]\n",
    "ax.plot(xtrain, ytrain, 'go', markersize=5, label='Train data', alpha=0.5)\n",
    "ax.plot(xtest, predicted, '.', markersize=1, label='Predictions', alpha=0.5)\n",
    "# plot base curve\n",
    "ax.plot(xdata, ydata, 'b--', lw=1, label='GP mean curve')\n",
    "ax.set_xlabel('x')\n",
    "ax.set_ylabel('y')\n",
    "ax.legend(loc='best')\n",
    "ax.set_ylim(-10,20)\n",
    "\n",
    "ax = axes[1]\n",
    "xl = np.linspace(0, len(losses)-1, len(losses))\n",
    "ax.plot(xl, losses)\n",
    "ax.set_ylabel('Loss')\n",
    "plt.show()\n",
    "#print(losses)\n",
    "print(\"train_data len: \", len(xtrain))\n",
    "print(\"test_data len: \", len(xtest))\n"
   ]
  },
  {
   "cell_type": "code",
   "execution_count": null,
   "metadata": {},
   "outputs": [],
   "source": []
  },
  {
   "cell_type": "code",
   "execution_count": null,
   "metadata": {},
   "outputs": [],
   "source": []
  }
 ],
 "metadata": {
  "kernelspec": {
   "display_name": "Python 3",
   "language": "python",
   "name": "python3"
  },
  "language_info": {
   "codemirror_mode": {
    "name": "ipython",
    "version": 3
   },
   "file_extension": ".py",
   "mimetype": "text/x-python",
   "name": "python",
   "nbconvert_exporter": "python",
   "pygments_lexer": "ipython3",
   "version": "3.7.4"
  }
 },
 "nbformat": 4,
 "nbformat_minor": 2
}
