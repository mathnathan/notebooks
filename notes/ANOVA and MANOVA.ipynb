{
 "cells": [
  {
   "cell_type": "markdown",
   "metadata": {},
   "source": [
    "# ANOVA Notes"
   ]
  },
  {
   "cell_type": "markdown",
   "metadata": {},
   "source": [
    "ANOVA is the classical method to compare means of multiple $(\\ge 2)$ groups. Suppose $N$ observations were sampled from $k$ groups and define $n=\\frac{N}{k}$. Let $x_{ij}$ be the $j^{\\text{th}}$ observation from the $i^{\\text{th}}$ group. Here we assume a balanced design i.e. the number of samples from each group remain the same. Denote $\\bar{x}$ to be the grand sample mean and $\\bar{x}_i$ the sample mean of group $i$. Observations can be re-written as\n",
    "\n",
    "$$x_{ij} = \\bar{x} + (\\bar{x}_i - \\bar{x}) + (x_{ij} - \\bar{x}_i)$$\n",
    "\n",
    "This leads to the following model\n",
    "\n",
    "$$x_{ij} = \\mu + \\alpha_i + \\epsilon_{ij}$$\n",
    "\n",
    "where $\\mu$ and $\\alpha_i$ are the grand mean and $i^{\\text{th}}$ group mean respectively. The error term $\\epsilon_{ij}$ is assumed to be iid from a normal distribution \n",
    "\n",
    "$$\\epsilon_{ij} \\sim \\mathcal{N}(0,\\sigma^2)$$\n",
    "\n",
    "The null hypothesis in ANOVA is that all group means are the same i.e\n",
    "\n",
    "$$\\alpha_1 = \\alpha_2 = \\dots = \\alpha_k$$\n",
    "\n",
    "If this is true, the error term for group differences $\\bar{x}_i - \\mu \\sim \\mathcal{N}(0,\\frac{\\sigma^2}{n}=\\bar{\\sigma}^2)$. However, you cannot directly test this by using one-sample t-test (discard $x_{ij}$ and only use $\\bar{x}_i$). Suppose you have $\\sigma^2=5$ and $\\bar{\\sigma}^2=1000$ e.g. between group difference is much larger than within group difference. In this case, data from individual groups are similar but groups are quit different, so we should reject the null hypothesis although the one sample t-test may fail to reject. It is really the RELATIVE magnitude of within & between group differences matters. You cannot say much by only looking at one of them.\n",
    "\n",
    "Now consider the sum of squares for between group difference\n",
    "$$\\text{SSDB} = \\sum_{i=1}^k \\sum_{j=1}^n (\\bar{x}_i-\\bar{x})^2 = n \\sum_{i=1}^k(\\bar{x}_i-\\bar{x})^2 $$\n",
    "\n",
    "and for within group difference\n",
    "\n",
    "$$\\text{SSDW} = \\sum_{i=1}^k \\sum_{j=1}^n (x_{ij} - \\bar{x}_i)^2$$\n",
    "\n",
    "where SSDB has a degree of freedom of $k-1$ and SSDW has a degree of freedom of $N-k$. If there is no systematic difference between the groups, we would expect the mean squares\n",
    "\n",
    "$$\\text{MSB} = \\frac{\\text{SSDB}}{k-1}$$\n",
    "\n",
    "$$\\text{MSW} = \\frac{\\text{SSDW}}{N-k}$$\n",
    "\n",
    "would be similar. The test statistic in ANOVA is defined as the ratio of the above two quantities:\n",
    "\n",
    "$$F = \\frac{\\text{MSB}}{\\text{MSW}}$$\n",
    "\n",
    "which follows a $F$-distribution with $k-1$ and $N-k$ degrees of freedom. If null hypothesis is true, $F$ would likely be close to 1. Otherwise, the between group mean square MSB is likely to be large, which results in a large $F$ value. Basically, ANOVA examines the two sources of the total variance and sees which part contributes more. This is why it is called analysis of variance although the intention is to compare group means."
   ]
  },
  {
   "cell_type": "markdown",
   "metadata": {},
   "source": [
    "# MANOVA Notes"
   ]
  },
  {
   "cell_type": "markdown",
   "metadata": {},
   "source": [
    "While ANOVA compares means of multiple $(\\ge 2)$ groups of univariate response variables, MANOVA compares the vector means of multivariate response variables. Just like in ANOVA we wish to determine how probable it is that the means of the multiple groups come from the same distribution. In ANOVA we determined this by examining the relative ratio of the within group variance MSB and between group variance MSW.  \n",
    "\n",
    "$$F = \\frac{\\text{MSB}}{\\text{MSW}}$$\n",
    "\n",
    "Where the F-statistic follows the F-distribution and our hypothesis test was carried out by evaluating the probability of our data's F-statistic under the null hypothesis. The closer the F-statistic is to 1 the more likely our groups were sampled from the same distribution. \n",
    "\n",
    "In the multivariate case we have both variance and covariance. Instead of examining the ratio of MSB and MSW, we must examine the product of the between group covariance matrix $\\Sigma_B$ and the inverse of the within group covariance $\\Sigma_W^{-1}$ which we call A\n",
    "\n",
    "$$A = \\Sigma_B \\Sigma_W^{-1}$$\n",
    "\n",
    "The hypothesis that $\\Sigma_B = \\Sigma_W$ implies that the product should be the identity matrix $A \\sim I$. We need a statistic to approximate this, similar to the F-statistic for ANOVA. There are many used in practice but among the most popular is the Wilk's Lambda statistic which is a ratio of the determinants of the within group covariance and between group covariance\n",
    "\n",
    "$$\\Lambda_{\\text{Wilks}} = \\frac{\\det(\\Sigma_W)}{\\det(\\Sigma_W + \\Sigma_B)}$$\n",
    "\n",
    "Just like in the univariate case where we consider the probability of the F-statistic under the F-distribution to determine our significance, here we consider the probability of Wilk's Lambda statistic under the Wilk's Lambda distribution. Therefore to understand how different summary statistics might influence the results of MANOVA alaysis, we can simply see how the different summary statistics influence $\\Lambda_{\\text{Wilks}}$."
   ]
  },
  {
   "cell_type": "markdown",
   "metadata": {},
   "source": [
    "# Example"
   ]
  },
  {
   "cell_type": "markdown",
   "metadata": {},
   "source": [
    "Let us use this mathematical understanding to examine a real world problem...\n",
    "\n",
    "\"*We have 10 questionnaires each composed of 10 Likert-scale questions with a range between 0 and 10. 100 participants answer all questionnaires. We want to know if overall, there is a significant difference among the overall scores of the questionnaires.*\n",
    "\n",
    "*We decided to conduct two separate MANOVAs:*\n",
    "\n",
    "- *In the first approach, we sum the scores within each questionnaire, obtaining, therefore, a column of 100 sum-scores, ranging between 0 and 100 in each participant.*\n",
    "- *In the second approach, we average the scores within each questionnaire, obtaining, therefore, a column of 100 sum-scores, ranging between 0 and 10 in each participant.*\n",
    "\n",
    "*I am expecting that the variability of the second approach would be lower, and therefore, I expect to find different results with the MANOVA.*\""
   ]
  },
  {
   "cell_type": "markdown",
   "metadata": {},
   "source": [
    "We have 100 samples from each of the 10 questionnaires. Each sample is 10-dimensional due to the 10 questions. MANOVA should be performed on the data in its full form as described above. After using either method to reduce the dimensionality of each observation to 1, rather than having 10 groups of 100 10-dimensional observations, we will have 10 groups of 100 1-dimensional observations. In this case, MANOVA simply reduces to ANOVA as the observations are no longer multivariate.\n",
    "\n"
   ]
  },
  {
   "cell_type": "markdown",
   "metadata": {},
   "source": [
    "This is okay because it simplifies our analysis. Let us assume the data has been reduced using the two methods described above. As an example, for the $i^{th}$ questionnare the $j^{th}$ person's two summary statistics are\n",
    "\n",
    "$$x_{ij} = \\sum_{k=1}^{10} q_k \\hspace{10pt} \\text{where} \\hspace{5pt} q_k \\in \\{1,\\dots,10\\}$$\n",
    "$$y_{ij} = \\frac{1}{10}\\sum_{k=1}^{10} q_k \\hspace{10pt} \\text{where} \\hspace{5pt} q_k \\in \\{1,\\dots,10\\}$$\n",
    "\n",
    "In other words the first summary statistic $x$ is 10 times the second $y$\n",
    "\n",
    "$$x_{ij} = 10y_{ij}$$"
   ]
  },
  {
   "cell_type": "markdown",
   "metadata": {},
   "source": [
    "Let us carry out standard ANOVA analysis with these statistics. First let us consider the group means and grand means\n",
    "\n",
    "$$\\bar{y}_i = \\frac{1}{100}\\sum_{j=1}^{100} y_{ij} \\quad \\quad \\quad \\bar{x}_i = \\frac{1}{100}\\sum_{j=1}^{100} 10 y_{ij} = 10\\frac{1}{100} \\sum_{j=1}^{100} y_{ij} = 10 \\bar{y}_i$$\n",
    "\n",
    "The same method can be used for the grand mean \n",
    "$$\\bar{y} = \\frac{1}{10}\\sum_{i=1}^{10} \\bar{y}_i \\quad \\quad \\quad \\bar{x} = 10\\bar{y} $$\n",
    "\n",
    "We will begin by analyzing the second summary statistic $y$ and then defining the first in terms of it. Consider the sum of squares for between group differences\n",
    "\n",
    "$$\\text{SSDB}_y = \\sum_{i=1}^{10} \\sum_{j=1}^{100} (\\bar{y}_i-\\bar{y})^2 = 100 \\sum_{i=1}^{10}(\\bar{y}_i-\\bar{y})^2 $$\n",
    "\n",
    "and for within group difference\n",
    "\n",
    "$$\\text{SSDW}_y = \\sum_{i=1}^{10} \\sum_{j=1}^{100} (y_{ij} - \\bar{y}_i)^2$$\n",
    "\n",
    "where SSDB has a degree of freedom of 9 and SSDW has a degree of freedom of 90. If there is no systematic difference between the groups, we would expect the mean squares\n",
    "\n",
    "$$\\text{MSB}_y = \\frac{\\text{SSDB}_y}{9}$$\n",
    "\n",
    "$$\\text{MSW}_y = \\frac{\\text{SSDW}_y}{90}$$\n",
    "\n",
    "would be similar. The test statistic in ANOVA is defined as the ratio of the above two quantities:\n",
    "\n",
    "$$F_y = \\frac{\\text{MSB}_y}{\\text{MSW}_y} = 10\\frac{\\text{SSDB}_y}{\\text{SSDW}_y}$$"
   ]
  },
  {
   "cell_type": "markdown",
   "metadata": {},
   "source": [
    "Now let us determine $F_x$ in terms of the $y$ summary statistic"
   ]
  },
  {
   "cell_type": "markdown",
   "metadata": {},
   "source": [
    "$$\\text{SSDB}_x = \\sum_{i=1}^{10} \\sum_{j=1}^{100} (10\\bar{y}_i-10\\bar{y})^2 = 100\\bigg(100 \\sum_{i=1}^{10}(\\bar{y}_i-\\bar{y})^2 \\bigg) = 100 \\hspace{2pt} \\text{SSBD}_y $$\n",
    "\n",
    "Similarly for the within group distance we have\n",
    "\n",
    "$$\\text{SSDW}_x = \\sum_{i=1}^{10} \\sum_{j=1}^{100} (10y_{ij} - 10\\bar{y}_i)^2 = 100 \\hspace{2pt} \\text{SSDW}_y$$\n",
    "\n",
    "We also have the same degrees of freedom so\n",
    "\n",
    "$$\\text{MSB}_x = \\frac{\\text{SSDB}_x}{9} = 100\\frac{\\text{SSDB}_y}{9}$$\n",
    "\n",
    "$$\\text{MSW}_x = \\frac{\\text{SSDW}_x}{90} = 100\\frac{\\text{SSDW}_y}{90}$$\n",
    "\n",
    "and finally because the F-statistic is defined as a ratio of the withing group and between group variances we see the scaling factor divides itself out...\n",
    "\n",
    "$$F_x =  10\\frac{\\text{MSB}_x}{\\text{MSW}_x} = 10\\frac{100 \\hspace{2pt} \\text{MSB}_y}{100 \\hspace{2pt} \\text{MSW}_y} = 10\\frac{\\text{SSDB}_y}{\\text{SSDW}_y} = F_y$$"
   ]
  },
  {
   "cell_type": "markdown",
   "metadata": {},
   "source": [
    "So in summary one should not see a difference in statistical significance if using either of the summary statistics in the ANOVA test."
   ]
  }
 ],
 "metadata": {
  "kernelspec": {
   "display_name": "Python 3",
   "language": "python",
   "name": "python3"
  },
  "language_info": {
   "codemirror_mode": {
    "name": "ipython",
    "version": 3
   },
   "file_extension": ".py",
   "mimetype": "text/x-python",
   "name": "python",
   "nbconvert_exporter": "python",
   "pygments_lexer": "ipython3",
   "version": "3.8.5"
  }
 },
 "nbformat": 4,
 "nbformat_minor": 4
}
