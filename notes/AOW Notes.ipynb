{
 "cells": [
  {
   "cell_type": "markdown",
   "metadata": {},
   "source": [
    "- Get groups together and organize trips for Richard and the Florida Dive Connection\n",
    "- Volume is divided by the number of atmospheres. That is why bouyancy is most difficult in the first atmosphere\n",
    "- \"There is no how without a why\" - Ed Sorensen\n",
    "- Recreation Diving: PADI, SSI\n",
    "- Techincal Diving: IANTD, TDI, NSSCDS\n",
    "- Hogarthian style of diving (minimalist), Global Underwater Explorers (GUE), Concept they developed is called Doing It Right (DIR).\n",
    "- To mount single tank on my wing, use a single tank adapter (STA)\n",
    "- Randy Jordan, the shark feeder got his arm bit(ten off?)\n",
    "- Leave your pride at home\n",
    "- Turn pressure for advanced open water is half plus 2\n",
    "- Beginning cave/cavern divers turn pressure rule of 6ths\n",
    "- Intro cave turn pressure is rule of 3rds\n",
    "- underwater visibility important to consider. When selecting dive site, be aware of the things that could affect visibility\n",
    "- venturi - on regulator controls bernoulli's principle (how airplanes fly)\n",
    "- Any Diver Can Call a Dive, At Any Time, For Any Reason\n",
    "- halocline: line between fresh and saltwater\n",
    "- **Label Cylinders**\n",
    "- Einstein \"What is your number? Got a phonebook?\" I can't afford to remember unecessary things.\n",
    "- Gradient factors: Buhlman \n",
    "- Safety drill: 1) Bubble check 2) Simulate sharing air\n",
    "- \"I look at my gauge to confirm what I already know\" - Richard Black\n",
    "- Talk to Chris Richardson - Deep 6 Gear\n",
    "- Textbook: Service regulator every year. In practice service it when it needs. \n",
    "- Your first dive of the day is always crappy.\n",
    "- Normal core body temperature is 98.6 degrees Fahrenheit, and mild hypothermia sets in at about 95 degrees F (35 C).\n",
    "- Lift bag is primarily used in the absence of a down line and for holding position.\n",
    "- Either fill with regulator or inflator hose\n",
    "- Tanic water: tanic acid from the leaves on the surface tint the water.\n",
    "- Hold light out at an angle to help see through silt (sometimes)\n",
    "- \n"
   ]
  },
  {
   "cell_type": "code",
   "execution_count": null,
   "metadata": {
    "collapsed": true
   },
   "outputs": [],
   "source": [
    "\n"
   ]
  }
 ],
 "metadata": {
  "kernelspec": {
   "display_name": "Python 3",
   "language": "python",
   "name": "python3"
  },
  "language_info": {
   "codemirror_mode": {
    "name": "ipython",
    "version": 3
   },
   "file_extension": ".py",
   "mimetype": "text/x-python",
   "name": "python",
   "nbconvert_exporter": "python",
   "pygments_lexer": "ipython3",
   "version": "3.6.0"
  }
 },
 "nbformat": 4,
 "nbformat_minor": 2
}
