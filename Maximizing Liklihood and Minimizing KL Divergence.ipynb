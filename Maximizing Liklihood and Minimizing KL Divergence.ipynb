{
 "cells": [
  {
   "cell_type": "markdown",
   "metadata": {},
   "source": [
    "### **Claim**\n",
    "\n",
    "In the limit, maximizing the likelihood of a parametric distribution whose family contains the true unknown distribution is equivalent to minimizing the forward Kullback-Leibler divergence between them.\n",
    "\n",
    "---"
   ]
  },
  {
   "cell_type": "markdown",
   "metadata": {},
   "source": [
    "Let $P(X)$ be an unknown distribution producing observations $x$ with a pdf $p(x)$. We wish to approximate this distribution with a parametric family $Q_{\\theta}(X)$. We assume that the true distribution is within the family described by $q_{\\theta}(x)$. \n",
    "\n",
    "\n",
    "The approximating distribution $q_{\\theta_{ML}}$ is defined with the maximum likelihood estimator\n",
    "\n",
    "$$\\theta_{ML} = \\max_{\\theta} \\frac{1}{m}\\sum_{i=1}^m \\log q_{\\theta}(x_i)$$\n",
    "\n",
    "where $x_i \\sim P$ and $i \\in \\{1, \\dots, m\\}$. \n",
    "\n",
    "\n",
    "The approximating distribution $q_{\\theta_{KL}}$ is defined by minimizing the KL divergence between $p(x)$ and $q_{\\theta}(x)$.\n",
    "\n",
    "$$\\theta_{KL} = \\min_{\\theta} KL(P||Q_{\\theta}) = \\min_{\\theta} \\int_x p(x) \\log \\frac{p(x)}{q_{\\theta}(x)} dx$$\n",
    "\n",
    "where here we use the forward KL divergence.\n"
   ]
  },
  {
   "cell_type": "markdown",
   "metadata": {},
   "source": [
    "If we take the limit as $m \\rightarrow \\infty$ then $\\theta_{ML}$ found by maximizing the likelihood is the same as $\\theta_{KL}$ found by minimizing the KL divergence."
   ]
  },
  {
   "cell_type": "markdown",
   "metadata": {},
   "source": [
    "\\begin{align}\n",
    "\\theta_{ML} &= \\lim_{m \\rightarrow \\infty} \\max_{\\theta} \\frac{1}{m}\\sum_{i=1}^m \\log q_{\\theta}(x_i) \\\\\n",
    "&= \\max_{\\theta} \\int_x p(x) \\log q_{\\theta}(x) dx \\\\\n",
    "&= \\min_{\\theta} \\bigg [ -\\int_x p(x) \\log q_{\\theta}(x) dx \\bigg] \\\\\n",
    "&= \\min_{\\theta} \\bigg [ \\int_x p(x) \\log p(x) dx -\\int_x p(x) \\log q_{\\theta}(x) dx \\bigg] \\\\\n",
    "&= \\min_{\\theta} \\bigg [ \\int_x p(x) \\log \\frac{p(x)}{q_{\\theta}(x)} dx \\bigg] \\\\\n",
    "&= \\min_{\\theta} KL(P||Q_{\\theta}) \\\\\n",
    "&= \\theta_{KL}\n",
    "\\end{align}"
   ]
  }
 ],
 "metadata": {
  "kernelspec": {
   "display_name": "Python 3",
   "language": "python",
   "name": "python3"
  },
  "language_info": {
   "codemirror_mode": {
    "name": "ipython",
    "version": 3
   },
   "file_extension": ".py",
   "mimetype": "text/x-python",
   "name": "python",
   "nbconvert_exporter": "python",
   "pygments_lexer": "ipython3",
   "version": "3.7.4"
  }
 },
 "nbformat": 4,
 "nbformat_minor": 4
}
