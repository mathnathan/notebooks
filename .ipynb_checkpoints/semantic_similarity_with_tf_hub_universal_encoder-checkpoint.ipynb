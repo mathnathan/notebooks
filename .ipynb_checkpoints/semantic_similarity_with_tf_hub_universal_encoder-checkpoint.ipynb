{
 "cells": [
  {
   "cell_type": "markdown",
   "metadata": {
    "id": "RUymE2l9GZfO"
   },
   "source": [
    "##### Copyright 2018 The TensorFlow Hub Authors.\n",
    "\n",
    "Licensed under the Apache License, Version 2.0 (the \"License\");"
   ]
  },
  {
   "cell_type": "code",
   "execution_count": 1,
   "metadata": {
    "cellView": "code",
    "execution": {
     "iopub.execute_input": "2021-05-01T11:07:52.408290Z",
     "iopub.status.busy": "2021-05-01T11:07:52.407708Z",
     "iopub.status.idle": "2021-05-01T11:07:52.410491Z",
     "shell.execute_reply": "2021-05-01T11:07:52.409556Z"
    },
    "id": "JMyTNwSJGGWg"
   },
   "outputs": [],
   "source": [
    "# Copyright 2018 The TensorFlow Hub Authors. All Rights Reserved.\n",
    "#\n",
    "# Licensed under the Apache License, Version 2.0 (the \"License\");\n",
    "# you may not use this file except in compliance with the License.\n",
    "# You may obtain a copy of the License at\n",
    "#\n",
    "#     http://www.apache.org/licenses/LICENSE-2.0\n",
    "#\n",
    "# Unless required by applicable law or agreed to in writing, software\n",
    "# distributed under the License is distributed on an \"AS IS\" BASIS,\n",
    "# WITHOUT WARRANTIES OR CONDITIONS OF ANY KIND, either express or implied.\n",
    "# See the License for the specific language governing permissions and\n",
    "# limitations under the License.\n",
    "# =============================================================================="
   ]
  },
  {
   "cell_type": "markdown",
   "metadata": {
    "id": "co7MV6sX7Xto"
   },
   "source": [
    "# Universal Sentence Encoder\n"
   ]
  },
  {
   "cell_type": "markdown",
   "metadata": {
    "id": "MfBg1C5NB3X0"
   },
   "source": [
    "<table class=\"tfo-notebook-buttons\" align=\"left\">\n",
    "  <td>\n",
    "    <a target=\"_blank\" href=\"https://www.tensorflow.org/hub/tutorials/semantic_similarity_with_tf_hub_universal_encoder\"><img src=\"https://www.tensorflow.org/images/tf_logo_32px.png\" />View on TensorFlow.org</a>\n",
    "  </td>\n",
    "  <td>\n",
    "    <a target=\"_blank\" href=\"https://colab.research.google.com/github/tensorflow/hub/blob/master/examples/colab/semantic_similarity_with_tf_hub_universal_encoder.ipynb\"><img src=\"https://www.tensorflow.org/images/colab_logo_32px.png\" />Run in Google Colab</a>\n",
    "  </td>\n",
    "  <td>\n",
    "    <a target=\"_blank\" href=\"https://github.com/tensorflow/hub/blob/master/examples/colab/semantic_similarity_with_tf_hub_universal_encoder.ipynb\"><img src=\"https://www.tensorflow.org/images/GitHub-Mark-32px.png\" />View on GitHub</a>\n",
    "  </td>\n",
    "  <td>\n",
    "    <a href=\"https://storage.googleapis.com/tensorflow_docs/hub/examples/colab/semantic_similarity_with_tf_hub_universal_encoder.ipynb\"><img src=\"https://www.tensorflow.org/images/download_logo_32px.png\" />Download notebook</a>\n",
    "  </td>\n",
    "  <td>\n",
    "    <a href=\"https://tfhub.dev/s?q=google%2Funiversal-sentence-encoder%2F4%20OR%20google%2Funiversal-sentence-encoder-large%2F5\"><img src=\"https://www.tensorflow.org/images/hub_logo_32px.png\" />See TF Hub models</a>\n",
    "  </td>\n",
    "</table>"
   ]
  },
  {
   "cell_type": "markdown",
   "metadata": {
    "id": "eAVQGidpL8v5"
   },
   "source": [
    "This notebook illustrates how to access the Universal Sentence Encoder and use it for sentence similarity and sentence classification tasks.\n",
    "\n",
    "The Universal Sentence Encoder makes getting sentence level embeddings as easy as it has historically been to lookup the embeddings for individual words. The sentence embeddings can then be trivially used to compute sentence level meaning similarity as well as to enable better performance on downstream classification tasks using less supervised training data.\n"
   ]
  },
  {
   "cell_type": "markdown",
   "metadata": {
    "id": "pOTzp8O36CyQ"
   },
   "source": [
    "## Setup\n",
    "\n",
    "This section sets up the environment for access to the Universal Sentence Encoder on TF Hub and provides examples of applying the encoder to words, sentences, and paragraphs."
   ]
  },
  {
   "cell_type": "code",
   "execution_count": 22,
   "metadata": {
    "id": "lVjNK8shFKOC"
   },
   "outputs": [],
   "source": [
    "%%capture\n",
    "!pip3 install seaborn"
   ]
  },
  {
   "cell_type": "markdown",
   "metadata": {
    "id": "63Pd3nJnTl-i"
   },
   "source": [
    "More detailed information about installing Tensorflow can be found at [https://www.tensorflow.org/install/](https://www.tensorflow.org/install/)."
   ]
  },
  {
   "cell_type": "code",
   "execution_count": 28,
   "metadata": {
    "cellView": "form",
    "id": "zwty8Z6mAkdV"
   },
   "outputs": [
    {
     "name": "stdout",
     "output_type": "stream",
     "text": [
      "module https://tfhub.dev/google/universal-sentence-encoder/4 loaded\n"
     ]
    }
   ],
   "source": [
    "#@title Load the Universal Sentence Encoder's TF Hub module\n",
    "from absl import logging\n",
    "\n",
    "import tensorflow as tf\n",
    "\n",
    "import tensorflow_hub as hub\n",
    "import matplotlib.pyplot as plt\n",
    "import numpy as np\n",
    "import os\n",
    "import pandas as pd\n",
    "import re\n",
    "import seaborn as sns\n",
    "\n",
    "module_url = \"https://tfhub.dev/google/universal-sentence-encoder/4\" #@param [\"https://tfhub.dev/google/universal-sentence-encoder/4\", \"https://tfhub.dev/google/universal-sentence-encoder-large/5\"]\n",
    "model = hub.load(module_url)\n",
    "print (\"module %s loaded\" % module_url)\n",
    "def embed(input):\n",
    "  return model(input)"
   ]
  },
  {
   "cell_type": "code",
   "execution_count": 32,
   "metadata": {},
   "outputs": [
    {
     "data": {
      "text/plain": [
       "<tf.Tensor: shape=(512,), dtype=float32, numpy=\n",
       "array([ 1.02839302e-02, -4.28420156e-02,  6.48980811e-02, -2.77909897e-02,\n",
       "        8.28322917e-02, -1.91899370e-02, -7.74557739e-02, -2.55336356e-03,\n",
       "        2.87728067e-02,  3.24280001e-02,  6.71821907e-02, -4.66443338e-02,\n",
       "        2.22803303e-03,  1.03839651e-01,  5.50289564e-02, -5.87125048e-02,\n",
       "       -1.26996916e-02,  4.06404864e-03,  1.23851923e-02, -4.14828211e-02,\n",
       "       -3.62480022e-02,  1.74934361e-02,  1.12094499e-01,  1.58450045e-02,\n",
       "       -4.26475294e-02,  3.10916416e-02, -4.23007496e-02, -2.12090351e-02,\n",
       "        6.98344130e-03, -1.91019885e-02, -5.31488284e-03, -1.20607298e-02,\n",
       "       -2.72963895e-03, -2.03532297e-02, -4.56667207e-02,  1.23716109e-02,\n",
       "       -8.76112934e-03,  4.55402443e-03, -2.91986670e-02,  2.23280396e-02,\n",
       "       -1.66284665e-02,  5.36487140e-02, -2.78132618e-03,  2.82579772e-02,\n",
       "       -5.13532348e-02,  3.73038650e-02, -9.69446525e-02,  5.93225509e-02,\n",
       "        5.57807758e-02, -2.98219714e-02,  4.15754989e-02, -1.13052987e-01,\n",
       "       -4.82643992e-02,  1.52274026e-02,  3.04442476e-02, -1.55523699e-02,\n",
       "        2.50414629e-02, -3.94901697e-04,  6.63165748e-02,  3.97858471e-02,\n",
       "        1.22112306e-02,  3.45810875e-02,  4.91678789e-02,  3.31213549e-02,\n",
       "        3.29764038e-02,  8.89686868e-02, -2.84062419e-02,  1.55730369e-02,\n",
       "        2.33489443e-02, -6.12088107e-02, -3.54465246e-02,  7.46957492e-03,\n",
       "       -4.06854227e-02, -2.05135010e-02, -2.98411045e-02, -2.00251918e-02,\n",
       "        2.04357766e-02,  2.10303534e-02, -5.57557167e-03,  4.34844419e-02,\n",
       "       -2.01779380e-02, -2.32957937e-02,  1.89054161e-02, -3.74283642e-02,\n",
       "       -4.58205640e-02, -4.27467264e-02,  3.19253355e-02, -1.10366214e-02,\n",
       "       -5.59075270e-03,  2.59051975e-02,  5.33055067e-02,  5.28736382e-06,\n",
       "       -6.24904111e-02,  3.00948471e-02,  3.33863753e-03,  5.95575571e-03,\n",
       "        4.99312356e-02, -1.77840739e-02, -8.69404897e-03,  7.82498643e-02,\n",
       "        3.44003476e-02, -8.86167288e-02,  1.29730245e-02, -1.26365554e-02,\n",
       "        2.01746859e-02, -3.85730490e-02, -2.11561099e-02, -1.10114729e-02,\n",
       "       -2.95486376e-02,  1.49740838e-02, -3.16749401e-02,  4.48555686e-02,\n",
       "        1.89666245e-02, -4.53805961e-02,  5.32125905e-02,  9.70701780e-03,\n",
       "       -1.56557579e-02,  3.85424085e-02, -1.11105079e-02,  3.41067128e-02,\n",
       "       -5.01977615e-02, -3.68256681e-02, -2.26696320e-02,  6.83834106e-02,\n",
       "       -7.35640526e-02,  3.10212187e-02,  2.95436643e-02, -8.47750828e-02,\n",
       "        5.09092808e-02, -2.87530366e-02,  9.97089315e-04, -4.32751374e-03,\n",
       "       -2.90037342e-03,  5.07968739e-02, -1.72330905e-02, -5.37498407e-02,\n",
       "       -3.11378967e-02, -5.47172278e-02, -7.60066276e-03,  4.28785272e-02,\n",
       "       -5.79279922e-02, -6.01471849e-02,  6.60470920e-03, -6.07673749e-02,\n",
       "       -4.52229008e-03, -5.14025912e-02,  7.85051752e-03, -2.18839757e-02,\n",
       "       -1.60328373e-02,  6.15700474e-03, -3.02306749e-02,  2.86512896e-02,\n",
       "       -5.91833554e-02, -1.60301495e-02,  1.73139200e-02, -3.79181840e-02,\n",
       "        4.59560752e-02, -7.93518499e-03,  2.53257342e-02,  7.86239728e-02,\n",
       "       -3.88470199e-03,  9.33445897e-03,  3.62903103e-02, -6.67564645e-02,\n",
       "       -6.48664609e-02, -1.60822528e-04, -3.28245051e-02, -5.33757508e-02,\n",
       "        1.33671258e-02, -1.42157013e-02, -3.25845145e-02,  5.98901808e-02,\n",
       "        2.33366396e-02, -2.34004501e-02, -4.26399037e-02, -6.55555874e-02,\n",
       "        8.29652920e-02, -5.93318045e-02, -2.34243926e-02,  3.45734470e-02,\n",
       "        3.27191018e-02, -5.70507161e-02, -5.50970482e-03,  1.61504664e-03,\n",
       "       -4.54512835e-02,  2.59811711e-03, -7.56450044e-03,  4.99991439e-02,\n",
       "        1.34885758e-01,  6.61293790e-02,  3.46846282e-02,  1.40121868e-02,\n",
       "        8.00545886e-02, -3.51249091e-02, -4.75614294e-02, -7.36998394e-02,\n",
       "        9.82013810e-03,  5.91411430e-04, -4.68227081e-03,  4.06448916e-02,\n",
       "       -4.75578643e-02, -1.54674174e-02,  3.21659148e-02,  1.21496171e-01,\n",
       "       -3.10464837e-02,  5.63972667e-02,  8.40481967e-02,  3.52448337e-02,\n",
       "        2.77922731e-02, -5.80510870e-02, -7.01759651e-04, -2.54292004e-02,\n",
       "        4.27283049e-02,  2.47500055e-02, -7.29821697e-02,  1.96599234e-02,\n",
       "       -1.32003082e-02, -8.29712749e-02, -2.88408203e-03,  6.18607551e-03,\n",
       "       -3.31027806e-03, -1.03528076e-03,  4.39485814e-03, -6.46664351e-02,\n",
       "       -5.70620745e-02,  7.73738101e-02, -5.60117215e-02,  6.18102029e-02,\n",
       "       -9.08735499e-04, -6.98287487e-02, -2.64503248e-02,  9.75028872e-02,\n",
       "        4.47241142e-02,  1.36390045e-01,  6.08440787e-02, -3.77339381e-03,\n",
       "        8.21191594e-02,  2.63881292e-02, -1.06399894e-01, -1.48945376e-02,\n",
       "       -9.38673541e-02,  2.82396898e-02,  2.81558950e-02,  6.00053789e-03,\n",
       "        1.58228166e-02,  9.02267322e-02, -4.93001118e-02, -1.29743135e-02,\n",
       "       -3.98082621e-02, -6.14053123e-02,  1.75965093e-02, -1.14465766e-02,\n",
       "       -4.49716672e-02, -3.02678477e-02, -1.04044769e-02,  3.28240357e-02,\n",
       "        1.44095747e-02, -1.45517187e-02,  3.53961326e-02,  3.44865373e-03,\n",
       "        1.02554718e-02, -3.24367844e-02, -2.68278215e-02, -1.30341412e-03,\n",
       "        1.03338659e-01, -3.30483355e-02, -1.93825215e-02, -5.26889861e-02,\n",
       "        2.07877308e-02, -2.44143102e-02,  3.76129523e-03, -3.68816890e-02,\n",
       "        1.43816695e-02,  1.42512033e-02, -4.48263399e-02,  6.06132112e-03,\n",
       "       -4.55621183e-02,  5.51919825e-03,  3.56046781e-02, -2.21378147e-03,\n",
       "        5.04921190e-02,  5.22386953e-02, -4.01389413e-02, -1.86850969e-02,\n",
       "       -1.66416410e-02,  4.29549851e-02,  4.46059853e-02, -2.14191806e-03,\n",
       "       -6.27181381e-02,  4.04352844e-02, -1.15057705e-02,  1.19560726e-01,\n",
       "       -8.04801434e-02,  6.35363832e-02,  2.48573907e-02,  5.44237457e-02,\n",
       "        4.57608979e-03, -2.88998326e-05,  4.60870378e-02,  4.24874388e-03,\n",
       "       -6.29385337e-02, -1.93390623e-02,  8.78503770e-02, -4.09997739e-02,\n",
       "        2.66251694e-02,  5.76047115e-02, -4.33895066e-02, -5.36429696e-03,\n",
       "       -1.48772625e-02,  2.43873615e-02, -4.70632724e-02, -3.41639412e-03,\n",
       "       -2.93380059e-02,  3.55501994e-02,  1.70560926e-02,  1.49381040e-02,\n",
       "       -3.95470299e-02,  7.87480082e-03,  4.75502647e-02, -6.48460642e-04,\n",
       "       -5.06630093e-02, -6.26417696e-02, -3.10384133e-03,  6.48861825e-02,\n",
       "        2.26692036e-02, -7.04801157e-02, -4.21621129e-02, -5.91682233e-02,\n",
       "       -4.84273881e-02, -8.00493546e-03,  1.85762383e-02, -2.98656598e-02,\n",
       "        1.01606771e-02,  8.50872044e-03, -5.28145991e-02,  1.67798542e-03,\n",
       "       -5.07445261e-03,  3.23921330e-02,  2.48023570e-02, -1.44814225e-02,\n",
       "       -3.80761810e-02,  3.43023278e-02,  1.82362180e-02, -5.63967507e-03,\n",
       "       -3.12746838e-02, -1.08166384e-02,  1.20971277e-02, -3.34406346e-02,\n",
       "        9.87039227e-03, -4.98797186e-02, -7.17394566e-03, -2.77808104e-02,\n",
       "        5.23603428e-03, -2.36291089e-03, -4.53693345e-02, -4.01898799e-03,\n",
       "       -1.14088379e-01,  5.63808680e-02,  4.04350348e-02, -9.07005668e-02,\n",
       "       -2.86318939e-02, -3.10684107e-02,  1.28861606e-01, -3.04135047e-02,\n",
       "       -3.79271582e-02, -9.62533727e-02, -2.26066308e-03, -6.83492795e-03,\n",
       "        5.95434047e-02,  3.90556753e-02, -9.17931926e-03, -5.57685383e-02,\n",
       "        3.40056680e-02,  3.81123014e-02, -4.21469808e-02, -3.36198136e-02,\n",
       "        2.02736389e-02,  4.00447175e-02,  2.42765453e-02, -2.19576713e-02,\n",
       "        6.72816252e-03, -2.74122246e-02,  5.71363159e-02, -1.84553154e-02,\n",
       "       -5.19796871e-02, -5.07879891e-02, -1.13053568e-01, -4.95442152e-02,\n",
       "        4.30798978e-02, -2.45943060e-03,  6.27334341e-02,  4.64201756e-02,\n",
       "        4.03506942e-02,  1.09269544e-02,  5.04619330e-02, -4.09676060e-02,\n",
       "       -2.27702633e-02,  2.97216866e-02, -4.83850539e-02,  6.59850836e-02,\n",
       "       -6.87407106e-02, -6.82861172e-03,  5.71246818e-02, -3.53961214e-02,\n",
       "        2.92794053e-02,  3.69422138e-02,  4.61053243e-03,  4.92431223e-03,\n",
       "        2.78288275e-02, -1.22168157e-02, -2.99750417e-02,  4.33746586e-03,\n",
       "       -5.72169982e-02,  1.00296000e-02, -3.46908942e-02,  2.64332276e-02,\n",
       "        3.93880494e-02, -1.70823615e-02,  2.03216281e-02,  1.13245146e-02,\n",
       "       -1.12113971e-02,  5.17479405e-02, -3.26724835e-02, -2.06451286e-02,\n",
       "        2.67271809e-02, -9.31779575e-03, -6.29080534e-02,  6.72166497e-02,\n",
       "       -2.96367295e-02, -1.04232300e-02, -8.95394683e-02, -6.12060428e-02,\n",
       "        7.53034204e-02, -5.56967184e-02, -2.69353427e-02, -7.81058446e-02,\n",
       "       -3.37746888e-02, -2.93368418e-02,  2.44713463e-02,  1.63747258e-02,\n",
       "        4.72050793e-02,  4.18547690e-02, -3.46937068e-02, -9.00266021e-02,\n",
       "       -8.18011723e-03,  1.92046501e-02,  1.28681790e-02,  3.49377431e-02,\n",
       "       -5.43216690e-02, -3.10911760e-02,  2.39730123e-02, -1.59318559e-02,\n",
       "        1.80297028e-02,  4.09860089e-02,  3.10153142e-02, -1.57772657e-02,\n",
       "       -2.23854724e-02, -4.49424908e-02, -2.89794337e-02, -1.99688394e-02,\n",
       "        3.14324535e-02,  1.47721115e-02, -7.53550651e-03, -5.35058156e-02,\n",
       "        1.18316812e-02, -5.40096648e-02, -6.47205114e-02, -2.46973466e-02,\n",
       "        2.74979696e-02, -8.31986498e-03, -4.44116108e-02,  9.06119943e-02,\n",
       "        5.37690222e-02,  6.42354488e-02, -1.46831349e-02, -2.08291896e-02,\n",
       "       -1.08618503e-02,  4.03812714e-02,  9.78784338e-02,  2.72006989e-02,\n",
       "        4.80233654e-02, -1.11906722e-01,  4.76715863e-02, -3.87381762e-02,\n",
       "        5.68280332e-02, -2.75888685e-02,  2.07108464e-02,  5.76235987e-02,\n",
       "       -3.67193893e-02,  3.63046043e-02, -3.15792337e-02, -2.97474563e-02,\n",
       "        5.37650622e-02,  7.87824988e-02,  1.13910623e-01, -2.72993110e-02,\n",
       "        6.52758498e-03, -3.45729291e-02,  6.15579039e-02,  6.05020709e-02,\n",
       "       -3.84819470e-02,  7.01814443e-02, -1.63775086e-02, -3.89367193e-02,\n",
       "        7.62177445e-03,  3.37670632e-02,  1.82793625e-02, -1.63592421e-03,\n",
       "       -4.41045947e-02, -8.37972164e-02,  4.70079593e-02,  2.05034111e-02],\n",
       "      dtype=float32)>"
      ]
     },
     "execution_count": 32,
     "metadata": {},
     "output_type": "execute_result"
    }
   ],
   "source": [
    "model([\"I love things\"])[0]"
   ]
  },
  {
   "cell_type": "code",
   "execution_count": 27,
   "metadata": {},
   "outputs": [
    {
     "data": {
      "text/plain": [
       "\u001b[0;31mSignature:\u001b[0m \u001b[0mhub\u001b[0m\u001b[0;34m.\u001b[0m\u001b[0mload\u001b[0m\u001b[0;34m(\u001b[0m\u001b[0mhandle\u001b[0m\u001b[0;34m,\u001b[0m \u001b[0mtags\u001b[0m\u001b[0;34m=\u001b[0m\u001b[0;32mNone\u001b[0m\u001b[0;34m,\u001b[0m \u001b[0moptions\u001b[0m\u001b[0;34m=\u001b[0m\u001b[0;32mNone\u001b[0m\u001b[0;34m)\u001b[0m\u001b[0;34m\u001b[0m\u001b[0;34m\u001b[0m\u001b[0m\n",
       "\u001b[0;31mDocstring:\u001b[0m\n",
       "Resolves a handle and loads the resulting module.\n",
       "\n",
       "This is the preferred API to load a Hub module in low-level TensorFlow 2.\n",
       "Users of higher-level frameworks like Keras should use the framework's\n",
       "corresponding wrapper, like hub.KerasLayer.\n",
       "\n",
       "This function is roughly equivalent to the TF2 function\n",
       "`tf.saved_model.load()` on the result of `hub.resolve(handle)`. Calling this\n",
       "function requires TF 1.14 or newer. It can be called both in eager and graph\n",
       "mode.\n",
       "\n",
       "Note: Using in a tf.compat.v1.Session with variables placed on parameter\n",
       "servers requires setting `experimental.share_cluster_devices_in_session`\n",
       "within the `tf.compat.v1.ConfigProto`. (It becomes non-experimental in TF2.2.)\n",
       "\n",
       "This function can handle the deprecated TF1 Hub format to the extent\n",
       "that `tf.saved_model.load()` in TF2 does. In particular, the returned object\n",
       "has attributes\n",
       "  * `.variables`: a list of variables from the loaded object;\n",
       "  * `.signatures`: a dict of TF2 ConcreteFunctions, keyed by signature names,\n",
       "    that take tensor kwargs and return a tensor dict.\n",
       "However, the information imported by hub.Module into the collections of a\n",
       "tf.Graph is lost (e.g., regularization losses and update ops).\n",
       "\n",
       "Args:\n",
       "  handle: (string) the Module handle to resolve; see hub.resolve().\n",
       "  tags: A set of strings specifying the graph variant to use, if loading from\n",
       "    a v1 module.\n",
       "  options: Optional, `tf.saved_model.LoadOptions` object that specifies\n",
       "    options for loading. This argument can only be used from TensorFlow 2.3\n",
       "    onwards.\n",
       "\n",
       "Returns:\n",
       "  A trackable object (see tf.saved_model.load() documentation for details).\n",
       "\n",
       "Raises:\n",
       "  NotImplementedError: If the code is running against incompatible (1.x)\n",
       "                       version of TF.\n",
       "\u001b[0;31mFile:\u001b[0m      ~/anaconda3/lib/python3.8/site-packages/tensorflow_hub/module_v2.py\n",
       "\u001b[0;31mType:\u001b[0m      function\n"
      ]
     },
     "metadata": {},
     "output_type": "display_data"
    }
   ],
   "source": [
    "hub.load?"
   ]
  },
  {
   "cell_type": "code",
   "execution_count": 26,
   "metadata": {
    "id": "Q8F4LNGFqOiq"
   },
   "outputs": [
    {
     "name": "stdout",
     "output_type": "stream",
     "text": [
      "Message: Elephant\n",
      "Embedding size: 512\n",
      "Embedding: [0.008344483561813831, 0.00048085584421642125, 0.06595248728990555, ...]\n",
      "\n",
      "Message: I am a sentence for which I would like to get its embedding.\n",
      "Embedding size: 512\n",
      "Embedding: [0.050808604806661606, -0.0165242962539196, 0.01573782227933407, ...]\n",
      "\n",
      "Message: Universal Sentence Encoder embeddings also support short paragraphs. There is no hard limit on how long the paragraph is. Roughly, the longer the more 'diluted' the embedding will be.\n",
      "Embedding size: 512\n",
      "Embedding: [-0.02833269163966179, -0.0558621808886528, -0.012941432185471058, ...]\n",
      "\n"
     ]
    }
   ],
   "source": [
    "#@title Compute a representation for each message, showing various lengths supported.\n",
    "word = \"Elephant\"\n",
    "sentence = \"I am a sentence for which I would like to get its embedding.\"\n",
    "paragraph = (\n",
    "    \"Universal Sentence Encoder embeddings also support short paragraphs. \"\n",
    "    \"There is no hard limit on how long the paragraph is. Roughly, the longer \"\n",
    "    \"the more 'diluted' the embedding will be.\")\n",
    "messages = [word, sentence, paragraph]\n",
    "\n",
    "# Reduce logging output.\n",
    "logging.set_verbosity(logging.ERROR)\n",
    "\n",
    "message_embeddings = embed(messages)\n",
    "\n",
    "for i, message_embedding in enumerate(np.array(message_embeddings).tolist()):\n",
    "  print(\"Message: {}\".format(messages[i]))\n",
    "  print(\"Embedding size: {}\".format(len(message_embedding)))\n",
    "  message_embedding_snippet = \", \".join(\n",
    "      (str(x) for x in message_embedding[:3]))\n",
    "  print(\"Embedding: [{}, ...]\\n\".format(message_embedding_snippet))"
   ]
  },
  {
   "cell_type": "markdown",
   "metadata": {
    "id": "BnvjATdy64eR"
   },
   "source": [
    "# Semantic Textual Similarity Task Example\n",
    "\n",
    "The embeddings produced by the Universal Sentence Encoder are approximately normalized. The semantic similarity of two sentences can be trivially computed as the inner product of the encodings."
   ]
  },
  {
   "cell_type": "code",
   "execution_count": 15,
   "metadata": {
    "id": "h1FFCTKm7ba4"
   },
   "outputs": [],
   "source": [
    "def plot_similarity(labels, features, rotation):\n",
    "  corr = np.inner(features, features)\n",
    "  sns.set(font_scale=1.2)\n",
    "  g = sns.heatmap(\n",
    "      corr,\n",
    "      xticklabels=labels,\n",
    "      yticklabels=labels,\n",
    "      vmin=0,\n",
    "      vmax=1,\n",
    "      cmap=\"YlOrRd\")\n",
    "  g.set_xticklabels(labels, rotation=rotation)\n",
    "  g.set_title(\"Semantic Textual Similarity\")\n",
    "\n",
    "def run_and_plot(messages_):\n",
    "  message_embeddings_ = embed(messages_)\n",
    "  plot_similarity(messages_, message_embeddings_, 90)"
   ]
  },
  {
   "cell_type": "markdown",
   "metadata": {
    "id": "339tuJ5Pwqqv"
   },
   "source": [
    "## Similarity Visualized\n",
    "Here we show the similarity in a heat map. The final graph is a 9x9 matrix where each entry `[i, j]` is colored based on the inner product of the encodings for sentence `i` and `j`."
   ]
  },
  {
   "cell_type": "code",
   "execution_count": 20,
   "metadata": {
    "id": "cPMCaxrZwp7t"
   },
   "outputs": [
    {
     "ename": "TypeError",
     "evalue": "'AutoTrackable' object is not callable",
     "output_type": "error",
     "traceback": [
      "\u001b[0;31m---------------------------------------------------------------------------\u001b[0m",
      "\u001b[0;31mTypeError\u001b[0m                                 Traceback (most recent call last)",
      "\u001b[0;32m<ipython-input-20-85c1171640cf>\u001b[0m in \u001b[0;36m<module>\u001b[0;34m\u001b[0m\n\u001b[1;32m     20\u001b[0m ]\n\u001b[1;32m     21\u001b[0m \u001b[0;34m\u001b[0m\u001b[0m\n\u001b[0;32m---> 22\u001b[0;31m \u001b[0mrun_and_plot\u001b[0m\u001b[0;34m(\u001b[0m\u001b[0mmessages\u001b[0m\u001b[0;34m)\u001b[0m\u001b[0;34m\u001b[0m\u001b[0;34m\u001b[0m\u001b[0m\n\u001b[0m\u001b[1;32m     23\u001b[0m \u001b[0;34m\u001b[0m\u001b[0m\n",
      "\u001b[0;32m<ipython-input-15-8f06e981c612>\u001b[0m in \u001b[0;36mrun_and_plot\u001b[0;34m(messages_)\u001b[0m\n\u001b[1;32m     13\u001b[0m \u001b[0;34m\u001b[0m\u001b[0m\n\u001b[1;32m     14\u001b[0m \u001b[0;32mdef\u001b[0m \u001b[0mrun_and_plot\u001b[0m\u001b[0;34m(\u001b[0m\u001b[0mmessages_\u001b[0m\u001b[0;34m)\u001b[0m\u001b[0;34m:\u001b[0m\u001b[0;34m\u001b[0m\u001b[0;34m\u001b[0m\u001b[0m\n\u001b[0;32m---> 15\u001b[0;31m   \u001b[0mmessage_embeddings_\u001b[0m \u001b[0;34m=\u001b[0m \u001b[0membed\u001b[0m\u001b[0;34m(\u001b[0m\u001b[0mmessages_\u001b[0m\u001b[0;34m)\u001b[0m\u001b[0;34m\u001b[0m\u001b[0;34m\u001b[0m\u001b[0m\n\u001b[0m\u001b[1;32m     16\u001b[0m   \u001b[0mplot_similarity\u001b[0m\u001b[0;34m(\u001b[0m\u001b[0mmessages_\u001b[0m\u001b[0;34m,\u001b[0m \u001b[0mmessage_embeddings_\u001b[0m\u001b[0;34m,\u001b[0m \u001b[0;36m90\u001b[0m\u001b[0;34m)\u001b[0m\u001b[0;34m\u001b[0m\u001b[0;34m\u001b[0m\u001b[0m\n",
      "\u001b[0;32m<ipython-input-19-6e3786da2460>\u001b[0m in \u001b[0;36membed\u001b[0;34m(input)\u001b[0m\n\u001b[1;32m     16\u001b[0m \u001b[0mprint\u001b[0m \u001b[0;34m(\u001b[0m\u001b[0;34m\"module %s loaded\"\u001b[0m \u001b[0;34m%\u001b[0m \u001b[0mmodule_url\u001b[0m\u001b[0;34m)\u001b[0m\u001b[0;34m\u001b[0m\u001b[0;34m\u001b[0m\u001b[0m\n\u001b[1;32m     17\u001b[0m \u001b[0;32mdef\u001b[0m \u001b[0membed\u001b[0m\u001b[0;34m(\u001b[0m\u001b[0minput\u001b[0m\u001b[0;34m)\u001b[0m\u001b[0;34m:\u001b[0m\u001b[0;34m\u001b[0m\u001b[0;34m\u001b[0m\u001b[0m\n\u001b[0;32m---> 18\u001b[0;31m   \u001b[0;32mreturn\u001b[0m \u001b[0mmodel\u001b[0m\u001b[0;34m(\u001b[0m\u001b[0minput\u001b[0m\u001b[0;34m)\u001b[0m\u001b[0;34m\u001b[0m\u001b[0;34m\u001b[0m\u001b[0m\n\u001b[0m",
      "\u001b[0;31mTypeError\u001b[0m: 'AutoTrackable' object is not callable"
     ]
    }
   ],
   "source": [
    "messages = [\n",
    "    # Smartphones\n",
    "    \"I like my phone\",\n",
    "    \"My phone is not good.\",\n",
    "    \"Your cellphone looks great.\",\n",
    "\n",
    "    # Weather\n",
    "    \"Will it snow tomorrow?\",\n",
    "    \"Recently a lot of hurricanes have hit the US\",\n",
    "    \"Global warming is real\",\n",
    "\n",
    "    # Food and health\n",
    "    \"An apple a day, keeps the doctors away\",\n",
    "    \"Eating strawberries is healthy\",\n",
    "    \"Is paleo better than keto?\",\n",
    "\n",
    "    # Asking about age\n",
    "    \"How old are you?\",\n",
    "    \"How many years have you been alive?\",\n",
    "]\n",
    "\n",
    "run_and_plot(messages)\n",
    "               "
   ]
  },
  {
   "cell_type": "markdown",
   "metadata": {
    "id": "6FjdeCqPJeg-"
   },
   "source": [
    "## Evaluation: STS (Semantic Textual Similarity) Benchmark\n",
    "\n",
    "The [**STS Benchmark**](https://ixa2.si.ehu.es/stswiki/index.php/STSbenchmark) provides an intristic evaluation of the degree to which similarity scores computed using sentence embeddings align with human judgements. The benchmark requires systems to return similarity scores for a diverse selection of sentence pairs. [Pearson correlation](https://en.wikipedia.org/wiki/Pearson_correlation_coefficient) is then used to evaluate the quality of the machine similarity scores against human judgements."
   ]
  },
  {
   "cell_type": "markdown",
   "metadata": {
    "id": "q5nuBbI1iFQR"
   },
   "source": [
    "### Download data"
   ]
  },
  {
   "cell_type": "code",
   "execution_count": 7,
   "metadata": {
    "id": "VOs8ZfOnJeBF"
   },
   "outputs": [
    {
     "name": "stdout",
     "output_type": "stream",
     "text": [
      "Downloading data from http://ixa2.si.ehu.es/stswiki/images/4/48/Stsbenchmark.tar.gz\n",
      "417792/409630 [==============================] - 1s 3us/step\n"
     ]
    }
   ],
   "source": [
    "import pandas\n",
    "import scipy\n",
    "import math\n",
    "import csv\n",
    "\n",
    "sts_dataset = tf.keras.utils.get_file(\n",
    "    fname=\"Stsbenchmark.tar.gz\",\n",
    "    origin=\"http://ixa2.si.ehu.es/stswiki/images/4/48/Stsbenchmark.tar.gz\",\n",
    "    extract=True)\n",
    "sts_dev = pandas.read_table(\n",
    "    os.path.join(os.path.dirname(sts_dataset), \"stsbenchmark\", \"sts-dev.csv\"),\n",
    "    error_bad_lines=False,\n",
    "    skip_blank_lines=True,\n",
    "    usecols=[4, 5, 6],\n",
    "    names=[\"sim\", \"sent_1\", \"sent_2\"])\n",
    "sts_test = pandas.read_table(\n",
    "    os.path.join(\n",
    "        os.path.dirname(sts_dataset), \"stsbenchmark\", \"sts-test.csv\"),\n",
    "    error_bad_lines=False,\n",
    "    quoting=csv.QUOTE_NONE,\n",
    "    skip_blank_lines=True,\n",
    "    usecols=[4, 5, 6],\n",
    "    names=[\"sim\", \"sent_1\", \"sent_2\"])\n",
    "# cleanup some NaN values in sts_dev\n",
    "sts_dev = sts_dev[[isinstance(s, str) for s in sts_dev['sent_2']]]"
   ]
  },
  {
   "cell_type": "markdown",
   "metadata": {
    "id": "8OKy8WhnKRe_"
   },
   "source": [
    "### Evaluate Sentence Embeddings"
   ]
  },
  {
   "cell_type": "code",
   "execution_count": 8,
   "metadata": {
    "id": "W-q2r7jyZGb7"
   },
   "outputs": [
    {
     "name": "stdout",
     "output_type": "stream",
     "text": [
      "Pearson correlation coefficient = 0.803638933880396\n",
      "p-value = 0.0\n"
     ]
    }
   ],
   "source": [
    "sts_data = sts_dev #@param [\"sts_dev\", \"sts_test\"] {type:\"raw\"}\n",
    "\n",
    "def run_sts_benchmark(batch):\n",
    "  sts_encode1 = tf.nn.l2_normalize(embed(tf.constant(batch['sent_1'].tolist())), axis=1)\n",
    "  sts_encode2 = tf.nn.l2_normalize(embed(tf.constant(batch['sent_2'].tolist())), axis=1)\n",
    "  cosine_similarities = tf.reduce_sum(tf.multiply(sts_encode1, sts_encode2), axis=1)\n",
    "  clip_cosine_similarities = tf.clip_by_value(cosine_similarities, -1.0, 1.0)\n",
    "  scores = 1.0 - tf.acos(clip_cosine_similarities) / math.pi\n",
    "  \"\"\"Returns the similarity scores\"\"\"\n",
    "  return scores\n",
    "\n",
    "dev_scores = sts_data['sim'].tolist()\n",
    "scores = []\n",
    "for batch in np.array_split(sts_data, 10):\n",
    "  scores.extend(run_sts_benchmark(batch))\n",
    "\n",
    "pearson_correlation = scipy.stats.pearsonr(scores, dev_scores)\n",
    "print('Pearson correlation coefficient = {0}\\np-value = {1}'.format(\n",
    "    pearson_correlation[0], pearson_correlation[1]))"
   ]
  },
  {
   "cell_type": "code",
   "execution_count": 35,
   "metadata": {},
   "outputs": [],
   "source": [
    "try:\n",
    "    a /= 0\n",
    "except Exception as e:\n",
    "    err = e"
   ]
  },
  {
   "cell_type": "code",
   "execution_count": 40,
   "metadata": {},
   "outputs": [
    {
     "data": {
      "text/plain": [
       "\"name 'a' is not defined\""
      ]
     },
     "execution_count": 40,
     "metadata": {},
     "output_type": "execute_result"
    }
   ],
   "source": [
    "str(err)"
   ]
  },
  {
   "cell_type": "code",
   "execution_count": null,
   "metadata": {},
   "outputs": [],
   "source": []
  }
 ],
 "metadata": {
  "accelerator": "GPU",
  "colab": {
   "collapsed_sections": [
    "RUymE2l9GZfO"
   ],
   "name": "Semantic Similarity with TF-Hub Universal Encoder",
   "private_outputs": true,
   "provenance": [],
   "toc_visible": true
  },
  "kernelspec": {
   "display_name": "Python 3",
   "language": "python",
   "name": "python3"
  },
  "language_info": {
   "codemirror_mode": {
    "name": "ipython",
    "version": 3
   },
   "file_extension": ".py",
   "mimetype": "text/x-python",
   "name": "python",
   "nbconvert_exporter": "python",
   "pygments_lexer": "ipython3",
   "version": "3.8.5"
  }
 },
 "nbformat": 4,
 "nbformat_minor": 4
}
