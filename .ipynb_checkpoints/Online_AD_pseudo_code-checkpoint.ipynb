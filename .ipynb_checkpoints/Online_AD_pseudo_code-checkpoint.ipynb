{
 "cells": [
  {
   "cell_type": "code",
   "execution_count": 1,
   "metadata": {},
   "outputs": [],
   "source": [
    "def detect_anomolies(org_names: list(str), org_times: pandas, traffic_in_hour: list(int)):\n",
    "    # Extract model features (means) for each organization being queried\n",
    "    features_means = grab_feature_means(org_names)[org_times.index.hour] #(correct for times zone discrepancies)\n",
    "    # Extract model features (vars) for each organization being queried\n",
    "    features_vars = grab_feature_vars(org_names)[org_times.index.hour] #(correct for times zone discrepancies)\n",
    "    # Determine types of anomolies (if any) for all organizations and their respective hourly traffic\n",
    "    anomoly_flag = detemine_whether_anomolous(features_means, features_vars, traffic_in_hour)\n",
    "    # (Who handles this?) Send emails, pop-ups, or notify appropriate people\n",
    "    handle_anomolies(anomoly_flag)\n",
    "    # Update the features for each organization's internal model\n",
    "    if not update_features(features_means, features_vars, traffic_in_hour):\n",
    "        raise exception"
   ]
  },
  {
   "cell_type": "code",
   "execution_count": null,
   "metadata": {},
   "outputs": [],
   "source": [
    "def update_features(features_means: np.array(float), features_vars: np.array(float), traffic_in_hour: list(int)):\n",
    "    success = 0\n",
    "    # N is the number of times features have been updated. Approximate RANGE(k*M,2*k*M) where \n",
    "    # k is how many times that day appeared in the M month window. (Eitan found M=4 reasonable to start with)\n",
    "    N = get_N()\n",
    "    # Using rolling average update formula -> mean_(i+1) = mean_i + (1/(i+1))*(mean_i-x_i)\n",
    "    features_means += (1/N)*(features_means-traffic_in_hour)\n",
    "    features_vars += (1/N)*(features_vars-(features_means-traffic_in_hour)**2)\n",
    "    # Determine when to reset the 'learning rate' N. Each features[org_times] \n",
    "    # receives 1 data point per week. So we may need to reset the avergae every M months (3?)\n",
    "    update_N()\n",
    "    success = write_to_database(features_means, features_vars)\n",
    "    return success"
   ]
  },
  {
   "cell_type": "code",
   "execution_count": null,
   "metadata": {},
   "outputs": [],
   "source": [
    "def determine_whether_anomolous(features_means: np.array(float), features_vars: np.array(float), traffic_in_hour: list(int)):\n",
    "    err = traffic_in_hour - features_means\n",
    "    anomalies = np.zeros(len(features_means))\n",
    "    for i,e in enumerate(err):\n",
    "        if e > 0:\n",
    "            if e > 2*np.sqrt(features_vars[i]):\n",
    "                anomalies[i] = 1\n",
    "        elif e < 0:\n",
    "            if np.abs(e) > np.sqrt(features_vars[i]):\n",
    "                anomalies[i] = 2\n",
    "            \n",
    "    return anomalies"
   ]
  }
 ],
 "metadata": {
  "kernelspec": {
   "display_name": "Python 3",
   "language": "python",
   "name": "python3"
  },
  "language_info": {
   "codemirror_mode": {
    "name": "ipython",
    "version": 3
   },
   "file_extension": ".py",
   "mimetype": "text/x-python",
   "name": "python",
   "nbconvert_exporter": "python",
   "pygments_lexer": "ipython3",
   "version": "3.7.6"
  }
 },
 "nbformat": 4,
 "nbformat_minor": 4
}
