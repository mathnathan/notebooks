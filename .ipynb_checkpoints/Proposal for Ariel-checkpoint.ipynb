{
 "cells": [
  {
   "cell_type": "markdown",
   "metadata": {
    "collapsed": false
   },
   "source": [
    "Intro\n",
    "-----\n",
    "\n",
    "I'm going to propose the full scale project. I have no idea how long the entire thing would take, but I want to put all of the smaller projects that I would be working on into context of what they could be used for. From our discussion, I imagine many people having access to a medical AI of sorts. Perhaps it is on everyone's phone? Something like Siri for medical applications. The difference though is that this AI has access to a large database of medical information about this individual and many others. The purpose would be for the individual to be able to ask medical questions and the AI would give helpful answers and feedback. I can imagine many applications, such as recommending doctors, services, or perscriptions, or giving advice on diet/exercise, or sending updates when certain aspects of the individual's health become concerning."
   ]
  },
  {
   "cell_type": "markdown",
   "metadata": {},
   "source": [
    "Example 1:\n",
    "\n",
    "Patient: \""
   ]
  }
 ],
 "metadata": {
  "kernelspec": {
   "display_name": "Python 2",
   "language": "python",
   "name": "python2"
  },
  "language_info": {
   "codemirror_mode": {
    "name": "ipython",
    "version": 2
   },
   "file_extension": ".py",
   "mimetype": "text/x-python",
   "name": "python",
   "nbconvert_exporter": "python",
   "pygments_lexer": "ipython2",
   "version": "2.7.11"
  }
 },
 "nbformat": 4,
 "nbformat_minor": 0
}
