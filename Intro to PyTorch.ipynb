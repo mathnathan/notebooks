{
 "cells": [
  {
   "cell_type": "markdown",
   "metadata": {},
   "source": [
    "# What is PyTorch?\n",
    "\n",
    "It’s a Python based scientific computing package targeted at two sets of audiences:\n",
    "\n",
    "- A replacement for NumPy to use the power of GPUs\n",
    "- a deep learning research platform that provides maximum flexibility and speed\n",
    "\n",
    "---"
   ]
  },
  {
   "cell_type": "markdown",
   "metadata": {},
   "source": [
    "## A replacement for NumPy to use the power of GPUs..."
   ]
  },
  {
   "cell_type": "code",
   "execution_count": 1,
   "metadata": {
    "collapsed": true
   },
   "outputs": [],
   "source": [
    "import torch as t\n",
    "\n",
    "# Tensors\n",
    "a = t.tensor([1,2,3])\n",
    "# Can specify type during construction\n",
    "a = t.tensor([1,2,3], dtype=t.half)"
   ]
  },
  {
   "cell_type": "code",
   "execution_count": 2,
   "metadata": {},
   "outputs": [
    {
     "data": {
      "text/plain": [
       "tensor([ 1.,  2.,  3.], dtype=torch.float16)"
      ]
     },
     "execution_count": 2,
     "metadata": {},
     "output_type": "execute_result"
    }
   ],
   "source": [
    "# Can cast to different types once constructed\n",
    "a"
   ]
  },
  {
   "cell_type": "code",
   "execution_count": 3,
   "metadata": {},
   "outputs": [
    {
     "data": {
      "text/plain": [
       "tensor([ 1.,  2.,  3.], dtype=torch.float64)"
      ]
     },
     "execution_count": 3,
     "metadata": {},
     "output_type": "execute_result"
    }
   ],
   "source": [
    "a.double()"
   ]
  },
  {
   "cell_type": "code",
   "execution_count": 4,
   "metadata": {},
   "outputs": [
    {
     "data": {
      "text/plain": [
       "tensor([ 1.,  2.,  3.])"
      ]
     },
     "execution_count": 4,
     "metadata": {},
     "output_type": "execute_result"
    }
   ],
   "source": [
    "a.float()"
   ]
  },
  {
   "cell_type": "code",
   "execution_count": 5,
   "metadata": {},
   "outputs": [
    {
     "data": {
      "text/plain": [
       "tensor([ 1,  2,  3], dtype=torch.int16)"
      ]
     },
     "execution_count": 5,
     "metadata": {},
     "output_type": "execute_result"
    }
   ],
   "source": [
    "a.short()"
   ]
  },
  {
   "cell_type": "code",
   "execution_count": 6,
   "metadata": {},
   "outputs": [
    {
     "data": {
      "text/plain": [
       "tensor([ 1,  2,  3])"
      ]
     },
     "execution_count": 6,
     "metadata": {},
     "output_type": "execute_result"
    }
   ],
   "source": [
    "a.long()"
   ]
  },
  {
   "cell_type": "markdown",
   "metadata": {},
   "source": [
    "| Data type                | dtype\t                       |CPU tensor\t        |GPU tensor               |\n",
    "|:------------------------:|:-----------------------------:|:------------------:|:-----------------------:|\n",
    "| 32-bit floating point    | torch.float32 or torch.float  | torch.FloatTensor  | torch.cuda.FloatTensor  |\n",
    "| 64-bit floating point    | torch.float64 or torch.double | torch.DoubleTensor | torch.cuda.DoubleTensor |\n",
    "| 16-bit floating point\t   | torch.float16 or torch.half   | torch.HalfTensor   | torch.cuda.HalfTensor   |\n",
    "| 8-bit integer (unsigned) | torch.uint8                   | torch.ByteTensor   | torch.cuda.ByteTensor   |\n",
    "| 8-bit integer (signed)   | torch.int8\t                   | torch.CharTensor   | torch.cuda.CharTensor   |\n",
    "| 16-bit integer (signed)  | torch.int16 or torch.short\t   | torch.ShortTensor  | torch.cuda.ShortTensor  |\n",
    "| 32-bit integer (signed)  | torch.int32 or torch.int\t   | torch.IntTensor    | torch.cuda.IntTensor    |\n",
    "| 64-bit integer (signed)  | torch.int64 or torch.long\t   | torch.LongTensor   | torch.cuda.LongTensor   |\n"
   ]
  },
  {
   "cell_type": "markdown",
   "metadata": {},
   "source": [
    "### Converting between Tensors and Numpy Arrays...\n",
    "Tensor -> Numpy"
   ]
  },
  {
   "cell_type": "code",
   "execution_count": 7,
   "metadata": {},
   "outputs": [
    {
     "data": {
      "text/plain": [
       "'torch.FloatTensor'"
      ]
     },
     "execution_count": 7,
     "metadata": {},
     "output_type": "execute_result"
    }
   ],
   "source": [
    "import numpy as np\n",
    "\n",
    "x = t.Tensor([1,2,3.])\n",
    "x.type()"
   ]
  },
  {
   "cell_type": "code",
   "execution_count": 8,
   "metadata": {},
   "outputs": [
    {
     "data": {
      "text/plain": [
       "numpy.ndarray"
      ]
     },
     "execution_count": 8,
     "metadata": {},
     "output_type": "execute_result"
    }
   ],
   "source": [
    "y = x.numpy()\n",
    "type(y)"
   ]
  },
  {
   "cell_type": "markdown",
   "metadata": {},
   "source": [
    "However, they point to the same place in memory..."
   ]
  },
  {
   "cell_type": "code",
   "execution_count": 9,
   "metadata": {},
   "outputs": [
    {
     "data": {
      "text/plain": [
       "tensor([ 1.,  2.,  3.])"
      ]
     },
     "execution_count": 9,
     "metadata": {},
     "output_type": "execute_result"
    }
   ],
   "source": [
    "x"
   ]
  },
  {
   "cell_type": "code",
   "execution_count": 10,
   "metadata": {},
   "outputs": [
    {
     "data": {
      "text/plain": [
       "array([1., 2., 3.], dtype=float32)"
      ]
     },
     "execution_count": 10,
     "metadata": {},
     "output_type": "execute_result"
    }
   ],
   "source": [
    "y"
   ]
  },
  {
   "cell_type": "code",
   "execution_count": 11,
   "metadata": {},
   "outputs": [
    {
     "data": {
      "text/plain": [
       "tensor([ 11.,  12.,  13.])"
      ]
     },
     "execution_count": 11,
     "metadata": {},
     "output_type": "execute_result"
    }
   ],
   "source": [
    "x += 10\n",
    "x"
   ]
  },
  {
   "cell_type": "code",
   "execution_count": 12,
   "metadata": {},
   "outputs": [
    {
     "data": {
      "text/plain": [
       "array([11., 12., 13.], dtype=float32)"
      ]
     },
     "execution_count": 12,
     "metadata": {},
     "output_type": "execute_result"
    }
   ],
   "source": [
    "y"
   ]
  },
  {
   "cell_type": "markdown",
   "metadata": {},
   "source": [
    "Numpy -> Tensor"
   ]
  },
  {
   "cell_type": "code",
   "execution_count": 13,
   "metadata": {},
   "outputs": [
    {
     "data": {
      "text/plain": [
       "numpy.ndarray"
      ]
     },
     "execution_count": 13,
     "metadata": {},
     "output_type": "execute_result"
    }
   ],
   "source": [
    "y = np.array([5,4,3])\n",
    "type(y)"
   ]
  },
  {
   "cell_type": "code",
   "execution_count": 14,
   "metadata": {},
   "outputs": [
    {
     "data": {
      "text/plain": [
       "torch.Tensor"
      ]
     },
     "execution_count": 14,
     "metadata": {},
     "output_type": "execute_result"
    }
   ],
   "source": [
    "x = t.from_numpy(y)\n",
    "type(x)"
   ]
  },
  {
   "cell_type": "code",
   "execution_count": 15,
   "metadata": {},
   "outputs": [
    {
     "data": {
      "text/plain": [
       "array([5, 4, 3])"
      ]
     },
     "execution_count": 15,
     "metadata": {},
     "output_type": "execute_result"
    }
   ],
   "source": [
    "y"
   ]
  },
  {
   "cell_type": "code",
   "execution_count": 16,
   "metadata": {},
   "outputs": [
    {
     "data": {
      "text/plain": [
       "tensor([ 5,  4,  3])"
      ]
     },
     "execution_count": 16,
     "metadata": {},
     "output_type": "execute_result"
    }
   ],
   "source": [
    "x"
   ]
  },
  {
   "cell_type": "code",
   "execution_count": 17,
   "metadata": {},
   "outputs": [
    {
     "data": {
      "text/plain": [
       "array([15, 14, 13])"
      ]
     },
     "execution_count": 17,
     "metadata": {},
     "output_type": "execute_result"
    }
   ],
   "source": [
    "y += 10\n",
    "y"
   ]
  },
  {
   "cell_type": "code",
   "execution_count": 18,
   "metadata": {},
   "outputs": [
    {
     "data": {
      "text/plain": [
       "tensor([ 15,  14,  13])"
      ]
     },
     "execution_count": 18,
     "metadata": {},
     "output_type": "execute_result"
    }
   ],
   "source": [
    "x"
   ]
  },
  {
   "cell_type": "markdown",
   "metadata": {},
   "source": [
    "### Speed and Efficiency\n",
    "Torch is faster than Numpy"
   ]
  },
  {
   "cell_type": "code",
   "execution_count": 19,
   "metadata": {
    "collapsed": true
   },
   "outputs": [],
   "source": [
    "import time\n",
    "def timer(f, trials=5):\n",
    "    avg_time = 0\n",
    "    for i in range(trials):\n",
    "        start = time.time()\n",
    "        f()\n",
    "        stop = time.time()\n",
    "        avg_time += (stop - start)/trials\n",
    "    return avg_time"
   ]
  },
  {
   "cell_type": "code",
   "execution_count": 44,
   "metadata": {
    "collapsed": true
   },
   "outputs": [],
   "source": [
    "np_arr = np.random.rand(10000,10000)\n",
    "t_arr = t.rand((10000,10000))"
   ]
  },
  {
   "cell_type": "code",
   "execution_count": 21,
   "metadata": {},
   "outputs": [
    {
     "name": "stdout",
     "output_type": "stream",
     "text": [
      "type(t_arr) =  <class 'torch.Tensor'>\n",
      "t_arr.shape =  torch.Size([10000, 10000])\n"
     ]
    }
   ],
   "source": [
    "print('type(t_arr) = ', type(t_arr))\n",
    "print('t_arr.shape = ', t_arr.shape)"
   ]
  },
  {
   "cell_type": "code",
   "execution_count": 22,
   "metadata": {},
   "outputs": [
    {
     "name": "stdout",
     "output_type": "stream",
     "text": [
      "type(np_arr) =  <class 'numpy.ndarray'>\n",
      "np_arr.shape =  (10000, 10000)\n"
     ]
    }
   ],
   "source": [
    "print('type(np_arr) = ', type(np_arr))\n",
    "print('np_arr.shape = ', np_arr.shape)"
   ]
  },
  {
   "cell_type": "code",
   "execution_count": 45,
   "metadata": {},
   "outputs": [
    {
     "data": {
      "text/plain": [
       "0.08294696807861328"
      ]
     },
     "execution_count": 45,
     "metadata": {},
     "output_type": "execute_result"
    }
   ],
   "source": [
    "timer(lambda: t_arr*t_arr)"
   ]
  },
  {
   "cell_type": "code",
   "execution_count": 24,
   "metadata": {},
   "outputs": [
    {
     "data": {
      "text/plain": [
       "0.47489461898803714"
      ]
     },
     "execution_count": 24,
     "metadata": {},
     "output_type": "execute_result"
    }
   ],
   "source": [
    "timer(lambda: np_arr*np_arr)"
   ]
  },
  {
   "cell_type": "markdown",
   "metadata": {},
   "source": [
    "What about optimizing with some class methods?"
   ]
  },
  {
   "cell_type": "code",
   "execution_count": 25,
   "metadata": {
    "collapsed": true
   },
   "outputs": [],
   "source": [
    "def exp1():\n",
    "    y = t_arr * t_arr"
   ]
  },
  {
   "cell_type": "code",
   "execution_count": 26,
   "metadata": {
    "collapsed": true
   },
   "outputs": [],
   "source": [
    "y = t.empty(t_arr.shape)\n",
    "def exp2():\n",
    "    t.mul(t_arr, t_arr, out=y)"
   ]
  },
  {
   "cell_type": "code",
   "execution_count": 27,
   "metadata": {
    "collapsed": true
   },
   "outputs": [],
   "source": [
    "def exp3():\n",
    "    t_arr.mul_(t_arr)"
   ]
  },
  {
   "cell_type": "code",
   "execution_count": 28,
   "metadata": {},
   "outputs": [
    {
     "data": {
      "text/plain": [
       "0.07322473526000976"
      ]
     },
     "execution_count": 28,
     "metadata": {},
     "output_type": "execute_result"
    }
   ],
   "source": [
    "timer(exp1)"
   ]
  },
  {
   "cell_type": "code",
   "execution_count": 29,
   "metadata": {},
   "outputs": [
    {
     "data": {
      "text/plain": [
       "0.043427753448486324"
      ]
     },
     "execution_count": 29,
     "metadata": {},
     "output_type": "execute_result"
    }
   ],
   "source": [
    "timer(exp2)"
   ]
  },
  {
   "cell_type": "code",
   "execution_count": 30,
   "metadata": {},
   "outputs": [
    {
     "data": {
      "text/plain": [
       "0.03172154426574707"
      ]
     },
     "execution_count": 30,
     "metadata": {},
     "output_type": "execute_result"
    }
   ],
   "source": [
    "timer(exp3)"
   ]
  },
  {
   "cell_type": "markdown",
   "metadata": {},
   "source": [
    "### Tensors have 100+ built-in class methods \n",
    "including all your favorite numpy convenience methods and a a growing linear algebra library"
   ]
  },
  {
   "cell_type": "markdown",
   "metadata": {},
   "source": [
    "## What about the GPU?\n",
    "There is a class method call 'to()', that sends a tensor to a specific device. This is new in 0.4.0."
   ]
  },
  {
   "cell_type": "code",
   "execution_count": 31,
   "metadata": {},
   "outputs": [
    {
     "data": {
      "text/plain": [
       "torch.Size([10000, 10000])"
      ]
     },
     "execution_count": 31,
     "metadata": {},
     "output_type": "execute_result"
    }
   ],
   "source": [
    "t_arr.shape"
   ]
  },
  {
   "cell_type": "code",
   "execution_count": 57,
   "metadata": {},
   "outputs": [
    {
     "data": {
      "text/plain": [
       "device(type='cpu')"
      ]
     },
     "execution_count": 57,
     "metadata": {},
     "output_type": "execute_result"
    }
   ],
   "source": [
    "t_arr.device # Should currently be on the cpu"
   ]
  },
  {
   "cell_type": "code",
   "execution_count": 59,
   "metadata": {
    "collapsed": true
   },
   "outputs": [],
   "source": [
    "device = t.device('cuda')\n",
    "t_arr_gpu = t_arr.to(device)"
   ]
  },
  {
   "cell_type": "code",
   "execution_count": 60,
   "metadata": {},
   "outputs": [
    {
     "data": {
      "text/plain": [
       "device(type='cpu')"
      ]
     },
     "execution_count": 60,
     "metadata": {},
     "output_type": "execute_result"
    }
   ],
   "source": [
    "t_arr.device"
   ]
  },
  {
   "cell_type": "code",
   "execution_count": 61,
   "metadata": {},
   "outputs": [
    {
     "data": {
      "text/plain": [
       "device(type='cuda', index=0)"
      ]
     },
     "execution_count": 61,
     "metadata": {},
     "output_type": "execute_result"
    }
   ],
   "source": [
    "t_arr_gpu.device"
   ]
  },
  {
   "cell_type": "code",
   "execution_count": 62,
   "metadata": {},
   "outputs": [
    {
     "data": {
      "text/plain": [
       "0.0795548915863037"
      ]
     },
     "execution_count": 62,
     "metadata": {},
     "output_type": "execute_result"
    }
   ],
   "source": [
    "timer(lambda: t_arr*t_arr)"
   ]
  },
  {
   "cell_type": "code",
   "execution_count": 64,
   "metadata": {},
   "outputs": [
    {
     "data": {
      "text/plain": [
       "0.00011396408081054688"
      ]
     },
     "execution_count": 64,
     "metadata": {},
     "output_type": "execute_result"
    }
   ],
   "source": [
    "timer(lambda: t_arr_gpu*t_arr_gpu)"
   ]
  },
  {
   "cell_type": "code",
   "execution_count": 65,
   "metadata": {},
   "outputs": [
    {
     "data": {
      "text/plain": [
       "0.47127203941345214"
      ]
     },
     "execution_count": 65,
     "metadata": {},
     "output_type": "execute_result"
    }
   ],
   "source": [
    "timer(lambda: np_arr*np_arr)"
   ]
  },
  {
   "cell_type": "code",
   "execution_count": 67,
   "metadata": {},
   "outputs": [
    {
     "data": {
      "text/plain": [
       "4135.26820083682"
      ]
     },
     "execution_count": 67,
     "metadata": {},
     "output_type": "execute_result"
    }
   ],
   "source": [
    "0.47127203941345214/0.00011396408081054688"
   ]
  },
  {
   "cell_type": "markdown",
   "metadata": {},
   "source": [
    "## a deep learning research platform that provides maximum flexibility and speed"
   ]
  },
  {
   "cell_type": "markdown",
   "metadata": {},
   "source": [
    "Central to all neural networks in PyTorch is the autograd package. Let’s first briefly visit this, and we will then go to training our first neural network.\n",
    "\n",
    "The autograd package provides automatic differentiation for all operations on Tensors. It is a define-by-run framework, which means that your backprop is defined by how your code is run, and that every single iteration can be different."
   ]
  },
  {
   "cell_type": "code",
   "execution_count": 76,
   "metadata": {
    "collapsed": true
   },
   "outputs": [],
   "source": [
    "b = t.tensor([2], dtype=t.float32)"
   ]
  },
  {
   "cell_type": "code",
   "execution_count": 77,
   "metadata": {},
   "outputs": [
    {
     "data": {
      "text/plain": [
       "False"
      ]
     },
     "execution_count": 77,
     "metadata": {},
     "output_type": "execute_result"
    }
   ],
   "source": [
    "b.requires_grad"
   ]
  },
  {
   "cell_type": "code",
   "execution_count": 78,
   "metadata": {},
   "outputs": [
    {
     "data": {
      "text/plain": [
       "False"
      ]
     },
     "execution_count": 78,
     "metadata": {},
     "output_type": "execute_result"
    }
   ],
   "source": [
    "y=b*b*b\n",
    "y.requires_grad"
   ]
  },
  {
   "cell_type": "code",
   "execution_count": 79,
   "metadata": {},
   "outputs": [
    {
     "ename": "RuntimeError",
     "evalue": "element 0 of tensors does not require grad and does not have a grad_fn",
     "output_type": "error",
     "traceback": [
      "\u001b[0;31m---------------------------------------------------------------------------\u001b[0m",
      "\u001b[0;31mRuntimeError\u001b[0m                              Traceback (most recent call last)",
      "\u001b[0;32m<ipython-input-79-95acac9c3254>\u001b[0m in \u001b[0;36m<module>\u001b[0;34m()\u001b[0m\n\u001b[0;32m----> 1\u001b[0;31m \u001b[0my\u001b[0m\u001b[0;34m.\u001b[0m\u001b[0mbackward\u001b[0m\u001b[0;34m(\u001b[0m\u001b[0;34m)\u001b[0m\u001b[0;34m\u001b[0m\u001b[0m\n\u001b[0m",
      "\u001b[0;32m/Users/nathancrock/anaconda3/lib/python3.6/site-packages/torch/tensor.py\u001b[0m in \u001b[0;36mbackward\u001b[0;34m(self, gradient, retain_graph, create_graph)\u001b[0m\n\u001b[1;32m     91\u001b[0m                 \u001b[0mproducts\u001b[0m\u001b[0;34m.\u001b[0m \u001b[0mDefaults\u001b[0m \u001b[0mto\u001b[0m\u001b[0;31m \u001b[0m\u001b[0;31m`\u001b[0m\u001b[0;31m`\u001b[0m\u001b[0;32mFalse\u001b[0m\u001b[0;31m`\u001b[0m\u001b[0;31m`\u001b[0m\u001b[0;34m.\u001b[0m\u001b[0;34m\u001b[0m\u001b[0m\n\u001b[1;32m     92\u001b[0m         \"\"\"\n\u001b[0;32m---> 93\u001b[0;31m         \u001b[0mtorch\u001b[0m\u001b[0;34m.\u001b[0m\u001b[0mautograd\u001b[0m\u001b[0;34m.\u001b[0m\u001b[0mbackward\u001b[0m\u001b[0;34m(\u001b[0m\u001b[0mself\u001b[0m\u001b[0;34m,\u001b[0m \u001b[0mgradient\u001b[0m\u001b[0;34m,\u001b[0m \u001b[0mretain_graph\u001b[0m\u001b[0;34m,\u001b[0m \u001b[0mcreate_graph\u001b[0m\u001b[0;34m)\u001b[0m\u001b[0;34m\u001b[0m\u001b[0m\n\u001b[0m\u001b[1;32m     94\u001b[0m \u001b[0;34m\u001b[0m\u001b[0m\n\u001b[1;32m     95\u001b[0m     \u001b[0;32mdef\u001b[0m \u001b[0mregister_hook\u001b[0m\u001b[0;34m(\u001b[0m\u001b[0mself\u001b[0m\u001b[0;34m,\u001b[0m \u001b[0mhook\u001b[0m\u001b[0;34m)\u001b[0m\u001b[0;34m:\u001b[0m\u001b[0;34m\u001b[0m\u001b[0m\n",
      "\u001b[0;32m/Users/nathancrock/anaconda3/lib/python3.6/site-packages/torch/autograd/__init__.py\u001b[0m in \u001b[0;36mbackward\u001b[0;34m(tensors, grad_tensors, retain_graph, create_graph, grad_variables)\u001b[0m\n\u001b[1;32m     87\u001b[0m     Variable._execution_engine.run_backward(\n\u001b[1;32m     88\u001b[0m         \u001b[0mtensors\u001b[0m\u001b[0;34m,\u001b[0m \u001b[0mgrad_tensors\u001b[0m\u001b[0;34m,\u001b[0m \u001b[0mretain_graph\u001b[0m\u001b[0;34m,\u001b[0m \u001b[0mcreate_graph\u001b[0m\u001b[0;34m,\u001b[0m\u001b[0;34m\u001b[0m\u001b[0m\n\u001b[0;32m---> 89\u001b[0;31m         allow_unreachable=True)  # allow_unreachable flag\n\u001b[0m\u001b[1;32m     90\u001b[0m \u001b[0;34m\u001b[0m\u001b[0m\n\u001b[1;32m     91\u001b[0m \u001b[0;34m\u001b[0m\u001b[0m\n",
      "\u001b[0;31mRuntimeError\u001b[0m: element 0 of tensors does not require grad and does not have a grad_fn"
     ]
    }
   ],
   "source": [
    "y.backward()"
   ]
  },
  {
   "cell_type": "code",
   "execution_count": 95,
   "metadata": {
    "collapsed": true
   },
   "outputs": [],
   "source": [
    "b.requires_grad = True # or b.requires_grad_()"
   ]
  },
  {
   "cell_type": "code",
   "execution_count": 101,
   "metadata": {},
   "outputs": [
    {
     "data": {
      "text/plain": [
       "True"
      ]
     },
     "execution_count": 101,
     "metadata": {},
     "output_type": "execute_result"
    }
   ],
   "source": [
    "y=b*b*b\n",
    "y.requires_grad"
   ]
  },
  {
   "cell_type": "code",
   "execution_count": 102,
   "metadata": {
    "collapsed": true
   },
   "outputs": [],
   "source": [
    "z = y*y"
   ]
  },
  {
   "cell_type": "code",
   "execution_count": 103,
   "metadata": {
    "collapsed": true
   },
   "outputs": [],
   "source": [
    "z.backward()"
   ]
  },
  {
   "cell_type": "code",
   "execution_count": 107,
   "metadata": {},
   "outputs": [
    {
     "data": {
      "text/plain": [
       "<MulBackward1 at 0x10c1659b0>"
      ]
     },
     "execution_count": 107,
     "metadata": {},
     "output_type": "execute_result"
    }
   ],
   "source": [
    "y.grad_fn"
   ]
  },
  {
   "cell_type": "code",
   "execution_count": 108,
   "metadata": {},
   "outputs": [
    {
     "data": {
      "text/plain": [
       "tensor([ 71926.9922])"
      ]
     },
     "execution_count": 108,
     "metadata": {},
     "output_type": "execute_result"
    }
   ],
   "source": [
    "b.grad"
   ]
  },
  {
   "cell_type": "code",
   "execution_count": 109,
   "metadata": {
    "collapsed": true
   },
   "outputs": [],
   "source": [
    "z.grad"
   ]
  },
  {
   "cell_type": "code",
   "execution_count": 70,
   "metadata": {
    "collapsed": true
   },
   "outputs": [],
   "source": [
    "c = b.detach()"
   ]
  },
  {
   "cell_type": "code",
   "execution_count": 71,
   "metadata": {
    "collapsed": true
   },
   "outputs": [],
   "source": [
    "y=c*c"
   ]
  },
  {
   "cell_type": "code",
   "execution_count": 72,
   "metadata": {},
   "outputs": [
    {
     "ename": "RuntimeError",
     "evalue": "element 0 of tensors does not require grad and does not have a grad_fn",
     "output_type": "error",
     "traceback": [
      "\u001b[0;31m---------------------------------------------------------------------------\u001b[0m",
      "\u001b[0;31mRuntimeError\u001b[0m                              Traceback (most recent call last)",
      "\u001b[0;32m<ipython-input-72-95acac9c3254>\u001b[0m in \u001b[0;36m<module>\u001b[0;34m()\u001b[0m\n\u001b[0;32m----> 1\u001b[0;31m \u001b[0my\u001b[0m\u001b[0;34m.\u001b[0m\u001b[0mbackward\u001b[0m\u001b[0;34m(\u001b[0m\u001b[0;34m)\u001b[0m\u001b[0;34m\u001b[0m\u001b[0m\n\u001b[0m",
      "\u001b[0;32m/Users/nathancrock/anaconda3/lib/python3.6/site-packages/torch/tensor.py\u001b[0m in \u001b[0;36mbackward\u001b[0;34m(self, gradient, retain_graph, create_graph)\u001b[0m\n\u001b[1;32m     91\u001b[0m                 \u001b[0mproducts\u001b[0m\u001b[0;34m.\u001b[0m \u001b[0mDefaults\u001b[0m \u001b[0mto\u001b[0m\u001b[0;31m \u001b[0m\u001b[0;31m`\u001b[0m\u001b[0;31m`\u001b[0m\u001b[0;32mFalse\u001b[0m\u001b[0;31m`\u001b[0m\u001b[0;31m`\u001b[0m\u001b[0;34m.\u001b[0m\u001b[0;34m\u001b[0m\u001b[0m\n\u001b[1;32m     92\u001b[0m         \"\"\"\n\u001b[0;32m---> 93\u001b[0;31m         \u001b[0mtorch\u001b[0m\u001b[0;34m.\u001b[0m\u001b[0mautograd\u001b[0m\u001b[0;34m.\u001b[0m\u001b[0mbackward\u001b[0m\u001b[0;34m(\u001b[0m\u001b[0mself\u001b[0m\u001b[0;34m,\u001b[0m \u001b[0mgradient\u001b[0m\u001b[0;34m,\u001b[0m \u001b[0mretain_graph\u001b[0m\u001b[0;34m,\u001b[0m \u001b[0mcreate_graph\u001b[0m\u001b[0;34m)\u001b[0m\u001b[0;34m\u001b[0m\u001b[0m\n\u001b[0m\u001b[1;32m     94\u001b[0m \u001b[0;34m\u001b[0m\u001b[0m\n\u001b[1;32m     95\u001b[0m     \u001b[0;32mdef\u001b[0m \u001b[0mregister_hook\u001b[0m\u001b[0;34m(\u001b[0m\u001b[0mself\u001b[0m\u001b[0;34m,\u001b[0m \u001b[0mhook\u001b[0m\u001b[0;34m)\u001b[0m\u001b[0;34m:\u001b[0m\u001b[0;34m\u001b[0m\u001b[0m\n",
      "\u001b[0;32m/Users/nathancrock/anaconda3/lib/python3.6/site-packages/torch/autograd/__init__.py\u001b[0m in \u001b[0;36mbackward\u001b[0;34m(tensors, grad_tensors, retain_graph, create_graph, grad_variables)\u001b[0m\n\u001b[1;32m     87\u001b[0m     Variable._execution_engine.run_backward(\n\u001b[1;32m     88\u001b[0m         \u001b[0mtensors\u001b[0m\u001b[0;34m,\u001b[0m \u001b[0mgrad_tensors\u001b[0m\u001b[0;34m,\u001b[0m \u001b[0mretain_graph\u001b[0m\u001b[0;34m,\u001b[0m \u001b[0mcreate_graph\u001b[0m\u001b[0;34m,\u001b[0m\u001b[0;34m\u001b[0m\u001b[0m\n\u001b[0;32m---> 89\u001b[0;31m         allow_unreachable=True)  # allow_unreachable flag\n\u001b[0m\u001b[1;32m     90\u001b[0m \u001b[0;34m\u001b[0m\u001b[0m\n\u001b[1;32m     91\u001b[0m \u001b[0;34m\u001b[0m\u001b[0m\n",
      "\u001b[0;31mRuntimeError\u001b[0m: element 0 of tensors does not require grad and does not have a grad_fn"
     ]
    }
   ],
   "source": [
    "y.backward()"
   ]
  },
  {
   "cell_type": "code",
   "execution_count": 110,
   "metadata": {
    "collapsed": true
   },
   "outputs": [],
   "source": [
    "import matplotlib\n",
    "matplotlib.use('nbagg')\n",
    "import matplotlib.pyplot as plt"
   ]
  },
  {
   "cell_type": "code",
   "execution_count": 132,
   "metadata": {},
   "outputs": [
    {
     "data": {
      "application/javascript": [
       "/* Put everything inside the global mpl namespace */\n",
       "window.mpl = {};\n",
       "\n",
       "\n",
       "mpl.get_websocket_type = function() {\n",
       "    if (typeof(WebSocket) !== 'undefined') {\n",
       "        return WebSocket;\n",
       "    } else if (typeof(MozWebSocket) !== 'undefined') {\n",
       "        return MozWebSocket;\n",
       "    } else {\n",
       "        alert('Your browser does not have WebSocket support.' +\n",
       "              'Please try Chrome, Safari or Firefox ≥ 6. ' +\n",
       "              'Firefox 4 and 5 are also supported but you ' +\n",
       "              'have to enable WebSockets in about:config.');\n",
       "    };\n",
       "}\n",
       "\n",
       "mpl.figure = function(figure_id, websocket, ondownload, parent_element) {\n",
       "    this.id = figure_id;\n",
       "\n",
       "    this.ws = websocket;\n",
       "\n",
       "    this.supports_binary = (this.ws.binaryType != undefined);\n",
       "\n",
       "    if (!this.supports_binary) {\n",
       "        var warnings = document.getElementById(\"mpl-warnings\");\n",
       "        if (warnings) {\n",
       "            warnings.style.display = 'block';\n",
       "            warnings.textContent = (\n",
       "                \"This browser does not support binary websocket messages. \" +\n",
       "                    \"Performance may be slow.\");\n",
       "        }\n",
       "    }\n",
       "\n",
       "    this.imageObj = new Image();\n",
       "\n",
       "    this.context = undefined;\n",
       "    this.message = undefined;\n",
       "    this.canvas = undefined;\n",
       "    this.rubberband_canvas = undefined;\n",
       "    this.rubberband_context = undefined;\n",
       "    this.format_dropdown = undefined;\n",
       "\n",
       "    this.image_mode = 'full';\n",
       "\n",
       "    this.root = $('<div/>');\n",
       "    this._root_extra_style(this.root)\n",
       "    this.root.attr('style', 'display: inline-block');\n",
       "\n",
       "    $(parent_element).append(this.root);\n",
       "\n",
       "    this._init_header(this);\n",
       "    this._init_canvas(this);\n",
       "    this._init_toolbar(this);\n",
       "\n",
       "    var fig = this;\n",
       "\n",
       "    this.waiting = false;\n",
       "\n",
       "    this.ws.onopen =  function () {\n",
       "            fig.send_message(\"supports_binary\", {value: fig.supports_binary});\n",
       "            fig.send_message(\"send_image_mode\", {});\n",
       "            if (mpl.ratio != 1) {\n",
       "                fig.send_message(\"set_dpi_ratio\", {'dpi_ratio': mpl.ratio});\n",
       "            }\n",
       "            fig.send_message(\"refresh\", {});\n",
       "        }\n",
       "\n",
       "    this.imageObj.onload = function() {\n",
       "            if (fig.image_mode == 'full') {\n",
       "                // Full images could contain transparency (where diff images\n",
       "                // almost always do), so we need to clear the canvas so that\n",
       "                // there is no ghosting.\n",
       "                fig.context.clearRect(0, 0, fig.canvas.width, fig.canvas.height);\n",
       "            }\n",
       "            fig.context.drawImage(fig.imageObj, 0, 0);\n",
       "        };\n",
       "\n",
       "    this.imageObj.onunload = function() {\n",
       "        this.ws.close();\n",
       "    }\n",
       "\n",
       "    this.ws.onmessage = this._make_on_message_function(this);\n",
       "\n",
       "    this.ondownload = ondownload;\n",
       "}\n",
       "\n",
       "mpl.figure.prototype._init_header = function() {\n",
       "    var titlebar = $(\n",
       "        '<div class=\"ui-dialog-titlebar ui-widget-header ui-corner-all ' +\n",
       "        'ui-helper-clearfix\"/>');\n",
       "    var titletext = $(\n",
       "        '<div class=\"ui-dialog-title\" style=\"width: 100%; ' +\n",
       "        'text-align: center; padding: 3px;\"/>');\n",
       "    titlebar.append(titletext)\n",
       "    this.root.append(titlebar);\n",
       "    this.header = titletext[0];\n",
       "}\n",
       "\n",
       "\n",
       "\n",
       "mpl.figure.prototype._canvas_extra_style = function(canvas_div) {\n",
       "\n",
       "}\n",
       "\n",
       "\n",
       "mpl.figure.prototype._root_extra_style = function(canvas_div) {\n",
       "\n",
       "}\n",
       "\n",
       "mpl.figure.prototype._init_canvas = function() {\n",
       "    var fig = this;\n",
       "\n",
       "    var canvas_div = $('<div/>');\n",
       "\n",
       "    canvas_div.attr('style', 'position: relative; clear: both; outline: 0');\n",
       "\n",
       "    function canvas_keyboard_event(event) {\n",
       "        return fig.key_event(event, event['data']);\n",
       "    }\n",
       "\n",
       "    canvas_div.keydown('key_press', canvas_keyboard_event);\n",
       "    canvas_div.keyup('key_release', canvas_keyboard_event);\n",
       "    this.canvas_div = canvas_div\n",
       "    this._canvas_extra_style(canvas_div)\n",
       "    this.root.append(canvas_div);\n",
       "\n",
       "    var canvas = $('<canvas/>');\n",
       "    canvas.addClass('mpl-canvas');\n",
       "    canvas.attr('style', \"left: 0; top: 0; z-index: 0; outline: 0\")\n",
       "\n",
       "    this.canvas = canvas[0];\n",
       "    this.context = canvas[0].getContext(\"2d\");\n",
       "\n",
       "    var backingStore = this.context.backingStorePixelRatio ||\n",
       "\tthis.context.webkitBackingStorePixelRatio ||\n",
       "\tthis.context.mozBackingStorePixelRatio ||\n",
       "\tthis.context.msBackingStorePixelRatio ||\n",
       "\tthis.context.oBackingStorePixelRatio ||\n",
       "\tthis.context.backingStorePixelRatio || 1;\n",
       "\n",
       "    mpl.ratio = (window.devicePixelRatio || 1) / backingStore;\n",
       "\n",
       "    var rubberband = $('<canvas/>');\n",
       "    rubberband.attr('style', \"position: absolute; left: 0; top: 0; z-index: 1;\")\n",
       "\n",
       "    var pass_mouse_events = true;\n",
       "\n",
       "    canvas_div.resizable({\n",
       "        start: function(event, ui) {\n",
       "            pass_mouse_events = false;\n",
       "        },\n",
       "        resize: function(event, ui) {\n",
       "            fig.request_resize(ui.size.width, ui.size.height);\n",
       "        },\n",
       "        stop: function(event, ui) {\n",
       "            pass_mouse_events = true;\n",
       "            fig.request_resize(ui.size.width, ui.size.height);\n",
       "        },\n",
       "    });\n",
       "\n",
       "    function mouse_event_fn(event) {\n",
       "        if (pass_mouse_events)\n",
       "            return fig.mouse_event(event, event['data']);\n",
       "    }\n",
       "\n",
       "    rubberband.mousedown('button_press', mouse_event_fn);\n",
       "    rubberband.mouseup('button_release', mouse_event_fn);\n",
       "    // Throttle sequential mouse events to 1 every 20ms.\n",
       "    rubberband.mousemove('motion_notify', mouse_event_fn);\n",
       "\n",
       "    rubberband.mouseenter('figure_enter', mouse_event_fn);\n",
       "    rubberband.mouseleave('figure_leave', mouse_event_fn);\n",
       "\n",
       "    canvas_div.on(\"wheel\", function (event) {\n",
       "        event = event.originalEvent;\n",
       "        event['data'] = 'scroll'\n",
       "        if (event.deltaY < 0) {\n",
       "            event.step = 1;\n",
       "        } else {\n",
       "            event.step = -1;\n",
       "        }\n",
       "        mouse_event_fn(event);\n",
       "    });\n",
       "\n",
       "    canvas_div.append(canvas);\n",
       "    canvas_div.append(rubberband);\n",
       "\n",
       "    this.rubberband = rubberband;\n",
       "    this.rubberband_canvas = rubberband[0];\n",
       "    this.rubberband_context = rubberband[0].getContext(\"2d\");\n",
       "    this.rubberband_context.strokeStyle = \"#000000\";\n",
       "\n",
       "    this._resize_canvas = function(width, height) {\n",
       "        // Keep the size of the canvas, canvas container, and rubber band\n",
       "        // canvas in synch.\n",
       "        canvas_div.css('width', width)\n",
       "        canvas_div.css('height', height)\n",
       "\n",
       "        canvas.attr('width', width * mpl.ratio);\n",
       "        canvas.attr('height', height * mpl.ratio);\n",
       "        canvas.attr('style', 'width: ' + width + 'px; height: ' + height + 'px;');\n",
       "\n",
       "        rubberband.attr('width', width);\n",
       "        rubberband.attr('height', height);\n",
       "    }\n",
       "\n",
       "    // Set the figure to an initial 600x600px, this will subsequently be updated\n",
       "    // upon first draw.\n",
       "    this._resize_canvas(600, 600);\n",
       "\n",
       "    // Disable right mouse context menu.\n",
       "    $(this.rubberband_canvas).bind(\"contextmenu\",function(e){\n",
       "        return false;\n",
       "    });\n",
       "\n",
       "    function set_focus () {\n",
       "        canvas.focus();\n",
       "        canvas_div.focus();\n",
       "    }\n",
       "\n",
       "    window.setTimeout(set_focus, 100);\n",
       "}\n",
       "\n",
       "mpl.figure.prototype._init_toolbar = function() {\n",
       "    var fig = this;\n",
       "\n",
       "    var nav_element = $('<div/>')\n",
       "    nav_element.attr('style', 'width: 100%');\n",
       "    this.root.append(nav_element);\n",
       "\n",
       "    // Define a callback function for later on.\n",
       "    function toolbar_event(event) {\n",
       "        return fig.toolbar_button_onclick(event['data']);\n",
       "    }\n",
       "    function toolbar_mouse_event(event) {\n",
       "        return fig.toolbar_button_onmouseover(event['data']);\n",
       "    }\n",
       "\n",
       "    for(var toolbar_ind in mpl.toolbar_items) {\n",
       "        var name = mpl.toolbar_items[toolbar_ind][0];\n",
       "        var tooltip = mpl.toolbar_items[toolbar_ind][1];\n",
       "        var image = mpl.toolbar_items[toolbar_ind][2];\n",
       "        var method_name = mpl.toolbar_items[toolbar_ind][3];\n",
       "\n",
       "        if (!name) {\n",
       "            // put a spacer in here.\n",
       "            continue;\n",
       "        }\n",
       "        var button = $('<button/>');\n",
       "        button.addClass('ui-button ui-widget ui-state-default ui-corner-all ' +\n",
       "                        'ui-button-icon-only');\n",
       "        button.attr('role', 'button');\n",
       "        button.attr('aria-disabled', 'false');\n",
       "        button.click(method_name, toolbar_event);\n",
       "        button.mouseover(tooltip, toolbar_mouse_event);\n",
       "\n",
       "        var icon_img = $('<span/>');\n",
       "        icon_img.addClass('ui-button-icon-primary ui-icon');\n",
       "        icon_img.addClass(image);\n",
       "        icon_img.addClass('ui-corner-all');\n",
       "\n",
       "        var tooltip_span = $('<span/>');\n",
       "        tooltip_span.addClass('ui-button-text');\n",
       "        tooltip_span.html(tooltip);\n",
       "\n",
       "        button.append(icon_img);\n",
       "        button.append(tooltip_span);\n",
       "\n",
       "        nav_element.append(button);\n",
       "    }\n",
       "\n",
       "    var fmt_picker_span = $('<span/>');\n",
       "\n",
       "    var fmt_picker = $('<select/>');\n",
       "    fmt_picker.addClass('mpl-toolbar-option ui-widget ui-widget-content');\n",
       "    fmt_picker_span.append(fmt_picker);\n",
       "    nav_element.append(fmt_picker_span);\n",
       "    this.format_dropdown = fmt_picker[0];\n",
       "\n",
       "    for (var ind in mpl.extensions) {\n",
       "        var fmt = mpl.extensions[ind];\n",
       "        var option = $(\n",
       "            '<option/>', {selected: fmt === mpl.default_extension}).html(fmt);\n",
       "        fmt_picker.append(option)\n",
       "    }\n",
       "\n",
       "    // Add hover states to the ui-buttons\n",
       "    $( \".ui-button\" ).hover(\n",
       "        function() { $(this).addClass(\"ui-state-hover\");},\n",
       "        function() { $(this).removeClass(\"ui-state-hover\");}\n",
       "    );\n",
       "\n",
       "    var status_bar = $('<span class=\"mpl-message\"/>');\n",
       "    nav_element.append(status_bar);\n",
       "    this.message = status_bar[0];\n",
       "}\n",
       "\n",
       "mpl.figure.prototype.request_resize = function(x_pixels, y_pixels) {\n",
       "    // Request matplotlib to resize the figure. Matplotlib will then trigger a resize in the client,\n",
       "    // which will in turn request a refresh of the image.\n",
       "    this.send_message('resize', {'width': x_pixels, 'height': y_pixels});\n",
       "}\n",
       "\n",
       "mpl.figure.prototype.send_message = function(type, properties) {\n",
       "    properties['type'] = type;\n",
       "    properties['figure_id'] = this.id;\n",
       "    this.ws.send(JSON.stringify(properties));\n",
       "}\n",
       "\n",
       "mpl.figure.prototype.send_draw_message = function() {\n",
       "    if (!this.waiting) {\n",
       "        this.waiting = true;\n",
       "        this.ws.send(JSON.stringify({type: \"draw\", figure_id: this.id}));\n",
       "    }\n",
       "}\n",
       "\n",
       "\n",
       "mpl.figure.prototype.handle_save = function(fig, msg) {\n",
       "    var format_dropdown = fig.format_dropdown;\n",
       "    var format = format_dropdown.options[format_dropdown.selectedIndex].value;\n",
       "    fig.ondownload(fig, format);\n",
       "}\n",
       "\n",
       "\n",
       "mpl.figure.prototype.handle_resize = function(fig, msg) {\n",
       "    var size = msg['size'];\n",
       "    if (size[0] != fig.canvas.width || size[1] != fig.canvas.height) {\n",
       "        fig._resize_canvas(size[0], size[1]);\n",
       "        fig.send_message(\"refresh\", {});\n",
       "    };\n",
       "}\n",
       "\n",
       "mpl.figure.prototype.handle_rubberband = function(fig, msg) {\n",
       "    var x0 = msg['x0'] / mpl.ratio;\n",
       "    var y0 = (fig.canvas.height - msg['y0']) / mpl.ratio;\n",
       "    var x1 = msg['x1'] / mpl.ratio;\n",
       "    var y1 = (fig.canvas.height - msg['y1']) / mpl.ratio;\n",
       "    x0 = Math.floor(x0) + 0.5;\n",
       "    y0 = Math.floor(y0) + 0.5;\n",
       "    x1 = Math.floor(x1) + 0.5;\n",
       "    y1 = Math.floor(y1) + 0.5;\n",
       "    var min_x = Math.min(x0, x1);\n",
       "    var min_y = Math.min(y0, y1);\n",
       "    var width = Math.abs(x1 - x0);\n",
       "    var height = Math.abs(y1 - y0);\n",
       "\n",
       "    fig.rubberband_context.clearRect(\n",
       "        0, 0, fig.canvas.width, fig.canvas.height);\n",
       "\n",
       "    fig.rubberband_context.strokeRect(min_x, min_y, width, height);\n",
       "}\n",
       "\n",
       "mpl.figure.prototype.handle_figure_label = function(fig, msg) {\n",
       "    // Updates the figure title.\n",
       "    fig.header.textContent = msg['label'];\n",
       "}\n",
       "\n",
       "mpl.figure.prototype.handle_cursor = function(fig, msg) {\n",
       "    var cursor = msg['cursor'];\n",
       "    switch(cursor)\n",
       "    {\n",
       "    case 0:\n",
       "        cursor = 'pointer';\n",
       "        break;\n",
       "    case 1:\n",
       "        cursor = 'default';\n",
       "        break;\n",
       "    case 2:\n",
       "        cursor = 'crosshair';\n",
       "        break;\n",
       "    case 3:\n",
       "        cursor = 'move';\n",
       "        break;\n",
       "    }\n",
       "    fig.rubberband_canvas.style.cursor = cursor;\n",
       "}\n",
       "\n",
       "mpl.figure.prototype.handle_message = function(fig, msg) {\n",
       "    fig.message.textContent = msg['message'];\n",
       "}\n",
       "\n",
       "mpl.figure.prototype.handle_draw = function(fig, msg) {\n",
       "    // Request the server to send over a new figure.\n",
       "    fig.send_draw_message();\n",
       "}\n",
       "\n",
       "mpl.figure.prototype.handle_image_mode = function(fig, msg) {\n",
       "    fig.image_mode = msg['mode'];\n",
       "}\n",
       "\n",
       "mpl.figure.prototype.updated_canvas_event = function() {\n",
       "    // Called whenever the canvas gets updated.\n",
       "    this.send_message(\"ack\", {});\n",
       "}\n",
       "\n",
       "// A function to construct a web socket function for onmessage handling.\n",
       "// Called in the figure constructor.\n",
       "mpl.figure.prototype._make_on_message_function = function(fig) {\n",
       "    return function socket_on_message(evt) {\n",
       "        if (evt.data instanceof Blob) {\n",
       "            /* FIXME: We get \"Resource interpreted as Image but\n",
       "             * transferred with MIME type text/plain:\" errors on\n",
       "             * Chrome.  But how to set the MIME type?  It doesn't seem\n",
       "             * to be part of the websocket stream */\n",
       "            evt.data.type = \"image/png\";\n",
       "\n",
       "            /* Free the memory for the previous frames */\n",
       "            if (fig.imageObj.src) {\n",
       "                (window.URL || window.webkitURL).revokeObjectURL(\n",
       "                    fig.imageObj.src);\n",
       "            }\n",
       "\n",
       "            fig.imageObj.src = (window.URL || window.webkitURL).createObjectURL(\n",
       "                evt.data);\n",
       "            fig.updated_canvas_event();\n",
       "            fig.waiting = false;\n",
       "            return;\n",
       "        }\n",
       "        else if (typeof evt.data === 'string' && evt.data.slice(0, 21) == \"data:image/png;base64\") {\n",
       "            fig.imageObj.src = evt.data;\n",
       "            fig.updated_canvas_event();\n",
       "            fig.waiting = false;\n",
       "            return;\n",
       "        }\n",
       "\n",
       "        var msg = JSON.parse(evt.data);\n",
       "        var msg_type = msg['type'];\n",
       "\n",
       "        // Call the  \"handle_{type}\" callback, which takes\n",
       "        // the figure and JSON message as its only arguments.\n",
       "        try {\n",
       "            var callback = fig[\"handle_\" + msg_type];\n",
       "        } catch (e) {\n",
       "            console.log(\"No handler for the '\" + msg_type + \"' message type: \", msg);\n",
       "            return;\n",
       "        }\n",
       "\n",
       "        if (callback) {\n",
       "            try {\n",
       "                // console.log(\"Handling '\" + msg_type + \"' message: \", msg);\n",
       "                callback(fig, msg);\n",
       "            } catch (e) {\n",
       "                console.log(\"Exception inside the 'handler_\" + msg_type + \"' callback:\", e, e.stack, msg);\n",
       "            }\n",
       "        }\n",
       "    };\n",
       "}\n",
       "\n",
       "// from http://stackoverflow.com/questions/1114465/getting-mouse-location-in-canvas\n",
       "mpl.findpos = function(e) {\n",
       "    //this section is from http://www.quirksmode.org/js/events_properties.html\n",
       "    var targ;\n",
       "    if (!e)\n",
       "        e = window.event;\n",
       "    if (e.target)\n",
       "        targ = e.target;\n",
       "    else if (e.srcElement)\n",
       "        targ = e.srcElement;\n",
       "    if (targ.nodeType == 3) // defeat Safari bug\n",
       "        targ = targ.parentNode;\n",
       "\n",
       "    // jQuery normalizes the pageX and pageY\n",
       "    // pageX,Y are the mouse positions relative to the document\n",
       "    // offset() returns the position of the element relative to the document\n",
       "    var x = e.pageX - $(targ).offset().left;\n",
       "    var y = e.pageY - $(targ).offset().top;\n",
       "\n",
       "    return {\"x\": x, \"y\": y};\n",
       "};\n",
       "\n",
       "/*\n",
       " * return a copy of an object with only non-object keys\n",
       " * we need this to avoid circular references\n",
       " * http://stackoverflow.com/a/24161582/3208463\n",
       " */\n",
       "function simpleKeys (original) {\n",
       "  return Object.keys(original).reduce(function (obj, key) {\n",
       "    if (typeof original[key] !== 'object')\n",
       "        obj[key] = original[key]\n",
       "    return obj;\n",
       "  }, {});\n",
       "}\n",
       "\n",
       "mpl.figure.prototype.mouse_event = function(event, name) {\n",
       "    var canvas_pos = mpl.findpos(event)\n",
       "\n",
       "    if (name === 'button_press')\n",
       "    {\n",
       "        this.canvas.focus();\n",
       "        this.canvas_div.focus();\n",
       "    }\n",
       "\n",
       "    var x = canvas_pos.x * mpl.ratio;\n",
       "    var y = canvas_pos.y * mpl.ratio;\n",
       "\n",
       "    this.send_message(name, {x: x, y: y, button: event.button,\n",
       "                             step: event.step,\n",
       "                             guiEvent: simpleKeys(event)});\n",
       "\n",
       "    /* This prevents the web browser from automatically changing to\n",
       "     * the text insertion cursor when the button is pressed.  We want\n",
       "     * to control all of the cursor setting manually through the\n",
       "     * 'cursor' event from matplotlib */\n",
       "    event.preventDefault();\n",
       "    return false;\n",
       "}\n",
       "\n",
       "mpl.figure.prototype._key_event_extra = function(event, name) {\n",
       "    // Handle any extra behaviour associated with a key event\n",
       "}\n",
       "\n",
       "mpl.figure.prototype.key_event = function(event, name) {\n",
       "\n",
       "    // Prevent repeat events\n",
       "    if (name == 'key_press')\n",
       "    {\n",
       "        if (event.which === this._key)\n",
       "            return;\n",
       "        else\n",
       "            this._key = event.which;\n",
       "    }\n",
       "    if (name == 'key_release')\n",
       "        this._key = null;\n",
       "\n",
       "    var value = '';\n",
       "    if (event.ctrlKey && event.which != 17)\n",
       "        value += \"ctrl+\";\n",
       "    if (event.altKey && event.which != 18)\n",
       "        value += \"alt+\";\n",
       "    if (event.shiftKey && event.which != 16)\n",
       "        value += \"shift+\";\n",
       "\n",
       "    value += 'k';\n",
       "    value += event.which.toString();\n",
       "\n",
       "    this._key_event_extra(event, name);\n",
       "\n",
       "    this.send_message(name, {key: value,\n",
       "                             guiEvent: simpleKeys(event)});\n",
       "    return false;\n",
       "}\n",
       "\n",
       "mpl.figure.prototype.toolbar_button_onclick = function(name) {\n",
       "    if (name == 'download') {\n",
       "        this.handle_save(this, null);\n",
       "    } else {\n",
       "        this.send_message(\"toolbar_button\", {name: name});\n",
       "    }\n",
       "};\n",
       "\n",
       "mpl.figure.prototype.toolbar_button_onmouseover = function(tooltip) {\n",
       "    this.message.textContent = tooltip;\n",
       "};\n",
       "mpl.toolbar_items = [[\"Home\", \"Reset original view\", \"fa fa-home icon-home\", \"home\"], [\"Back\", \"Back to  previous view\", \"fa fa-arrow-left icon-arrow-left\", \"back\"], [\"Forward\", \"Forward to next view\", \"fa fa-arrow-right icon-arrow-right\", \"forward\"], [\"\", \"\", \"\", \"\"], [\"Pan\", \"Pan axes with left mouse, zoom with right\", \"fa fa-arrows icon-move\", \"pan\"], [\"Zoom\", \"Zoom to rectangle\", \"fa fa-square-o icon-check-empty\", \"zoom\"], [\"\", \"\", \"\", \"\"], [\"Download\", \"Download plot\", \"fa fa-floppy-o icon-save\", \"download\"]];\n",
       "\n",
       "mpl.extensions = [\"eps\", \"jpeg\", \"pdf\", \"png\", \"ps\", \"raw\", \"svg\", \"tif\"];\n",
       "\n",
       "mpl.default_extension = \"png\";var comm_websocket_adapter = function(comm) {\n",
       "    // Create a \"websocket\"-like object which calls the given IPython comm\n",
       "    // object with the appropriate methods. Currently this is a non binary\n",
       "    // socket, so there is still some room for performance tuning.\n",
       "    var ws = {};\n",
       "\n",
       "    ws.close = function() {\n",
       "        comm.close()\n",
       "    };\n",
       "    ws.send = function(m) {\n",
       "        //console.log('sending', m);\n",
       "        comm.send(m);\n",
       "    };\n",
       "    // Register the callback with on_msg.\n",
       "    comm.on_msg(function(msg) {\n",
       "        //console.log('receiving', msg['content']['data'], msg);\n",
       "        // Pass the mpl event to the overriden (by mpl) onmessage function.\n",
       "        ws.onmessage(msg['content']['data'])\n",
       "    });\n",
       "    return ws;\n",
       "}\n",
       "\n",
       "mpl.mpl_figure_comm = function(comm, msg) {\n",
       "    // This is the function which gets called when the mpl process\n",
       "    // starts-up an IPython Comm through the \"matplotlib\" channel.\n",
       "\n",
       "    var id = msg.content.data.id;\n",
       "    // Get hold of the div created by the display call when the Comm\n",
       "    // socket was opened in Python.\n",
       "    var element = $(\"#\" + id);\n",
       "    var ws_proxy = comm_websocket_adapter(comm)\n",
       "\n",
       "    function ondownload(figure, format) {\n",
       "        window.open(figure.imageObj.src);\n",
       "    }\n",
       "\n",
       "    var fig = new mpl.figure(id, ws_proxy,\n",
       "                           ondownload,\n",
       "                           element.get(0));\n",
       "\n",
       "    // Call onopen now - mpl needs it, as it is assuming we've passed it a real\n",
       "    // web socket which is closed, not our websocket->open comm proxy.\n",
       "    ws_proxy.onopen();\n",
       "\n",
       "    fig.parent_element = element.get(0);\n",
       "    fig.cell_info = mpl.find_output_cell(\"<div id='\" + id + \"'></div>\");\n",
       "    if (!fig.cell_info) {\n",
       "        console.error(\"Failed to find cell for figure\", id, fig);\n",
       "        return;\n",
       "    }\n",
       "\n",
       "    var output_index = fig.cell_info[2]\n",
       "    var cell = fig.cell_info[0];\n",
       "\n",
       "};\n",
       "\n",
       "mpl.figure.prototype.handle_close = function(fig, msg) {\n",
       "    var width = fig.canvas.width/mpl.ratio\n",
       "    fig.root.unbind('remove')\n",
       "\n",
       "    // Update the output cell to use the data from the current canvas.\n",
       "    fig.push_to_output();\n",
       "    var dataURL = fig.canvas.toDataURL();\n",
       "    // Re-enable the keyboard manager in IPython - without this line, in FF,\n",
       "    // the notebook keyboard shortcuts fail.\n",
       "    IPython.keyboard_manager.enable()\n",
       "    $(fig.parent_element).html('<img src=\"' + dataURL + '\" width=\"' + width + '\">');\n",
       "    fig.close_ws(fig, msg);\n",
       "}\n",
       "\n",
       "mpl.figure.prototype.close_ws = function(fig, msg){\n",
       "    fig.send_message('closing', msg);\n",
       "    // fig.ws.close()\n",
       "}\n",
       "\n",
       "mpl.figure.prototype.push_to_output = function(remove_interactive) {\n",
       "    // Turn the data on the canvas into data in the output cell.\n",
       "    var width = this.canvas.width/mpl.ratio\n",
       "    var dataURL = this.canvas.toDataURL();\n",
       "    this.cell_info[1]['text/html'] = '<img src=\"' + dataURL + '\" width=\"' + width + '\">';\n",
       "}\n",
       "\n",
       "mpl.figure.prototype.updated_canvas_event = function() {\n",
       "    // Tell IPython that the notebook contents must change.\n",
       "    IPython.notebook.set_dirty(true);\n",
       "    this.send_message(\"ack\", {});\n",
       "    var fig = this;\n",
       "    // Wait a second, then push the new image to the DOM so\n",
       "    // that it is saved nicely (might be nice to debounce this).\n",
       "    setTimeout(function () { fig.push_to_output() }, 1000);\n",
       "}\n",
       "\n",
       "mpl.figure.prototype._init_toolbar = function() {\n",
       "    var fig = this;\n",
       "\n",
       "    var nav_element = $('<div/>')\n",
       "    nav_element.attr('style', 'width: 100%');\n",
       "    this.root.append(nav_element);\n",
       "\n",
       "    // Define a callback function for later on.\n",
       "    function toolbar_event(event) {\n",
       "        return fig.toolbar_button_onclick(event['data']);\n",
       "    }\n",
       "    function toolbar_mouse_event(event) {\n",
       "        return fig.toolbar_button_onmouseover(event['data']);\n",
       "    }\n",
       "\n",
       "    for(var toolbar_ind in mpl.toolbar_items){\n",
       "        var name = mpl.toolbar_items[toolbar_ind][0];\n",
       "        var tooltip = mpl.toolbar_items[toolbar_ind][1];\n",
       "        var image = mpl.toolbar_items[toolbar_ind][2];\n",
       "        var method_name = mpl.toolbar_items[toolbar_ind][3];\n",
       "\n",
       "        if (!name) { continue; };\n",
       "\n",
       "        var button = $('<button class=\"btn btn-default\" href=\"#\" title=\"' + name + '\"><i class=\"fa ' + image + ' fa-lg\"></i></button>');\n",
       "        button.click(method_name, toolbar_event);\n",
       "        button.mouseover(tooltip, toolbar_mouse_event);\n",
       "        nav_element.append(button);\n",
       "    }\n",
       "\n",
       "    // Add the status bar.\n",
       "    var status_bar = $('<span class=\"mpl-message\" style=\"text-align:right; float: right;\"/>');\n",
       "    nav_element.append(status_bar);\n",
       "    this.message = status_bar[0];\n",
       "\n",
       "    // Add the close button to the window.\n",
       "    var buttongrp = $('<div class=\"btn-group inline pull-right\"></div>');\n",
       "    var button = $('<button class=\"btn btn-mini btn-primary\" href=\"#\" title=\"Stop Interaction\"><i class=\"fa fa-power-off icon-remove icon-large\"></i></button>');\n",
       "    button.click(function (evt) { fig.handle_close(fig, {}); } );\n",
       "    button.mouseover('Stop Interaction', toolbar_mouse_event);\n",
       "    buttongrp.append(button);\n",
       "    var titlebar = this.root.find($('.ui-dialog-titlebar'));\n",
       "    titlebar.prepend(buttongrp);\n",
       "}\n",
       "\n",
       "mpl.figure.prototype._root_extra_style = function(el){\n",
       "    var fig = this\n",
       "    el.on(\"remove\", function(){\n",
       "\tfig.close_ws(fig, {});\n",
       "    });\n",
       "}\n",
       "\n",
       "mpl.figure.prototype._canvas_extra_style = function(el){\n",
       "    // this is important to make the div 'focusable\n",
       "    el.attr('tabindex', 0)\n",
       "    // reach out to IPython and tell the keyboard manager to turn it's self\n",
       "    // off when our div gets focus\n",
       "\n",
       "    // location in version 3\n",
       "    if (IPython.notebook.keyboard_manager) {\n",
       "        IPython.notebook.keyboard_manager.register_events(el);\n",
       "    }\n",
       "    else {\n",
       "        // location in version 2\n",
       "        IPython.keyboard_manager.register_events(el);\n",
       "    }\n",
       "\n",
       "}\n",
       "\n",
       "mpl.figure.prototype._key_event_extra = function(event, name) {\n",
       "    var manager = IPython.notebook.keyboard_manager;\n",
       "    if (!manager)\n",
       "        manager = IPython.keyboard_manager;\n",
       "\n",
       "    // Check for shift+enter\n",
       "    if (event.shiftKey && event.which == 13) {\n",
       "        this.canvas_div.blur();\n",
       "        // select the cell after this one\n",
       "        var index = IPython.notebook.find_cell_index(this.cell_info[0]);\n",
       "        IPython.notebook.select(index + 1);\n",
       "    }\n",
       "}\n",
       "\n",
       "mpl.figure.prototype.handle_save = function(fig, msg) {\n",
       "    fig.ondownload(fig, null);\n",
       "}\n",
       "\n",
       "\n",
       "mpl.find_output_cell = function(html_output) {\n",
       "    // Return the cell and output element which can be found *uniquely* in the notebook.\n",
       "    // Note - this is a bit hacky, but it is done because the \"notebook_saving.Notebook\"\n",
       "    // IPython event is triggered only after the cells have been serialised, which for\n",
       "    // our purposes (turning an active figure into a static one), is too late.\n",
       "    var cells = IPython.notebook.get_cells();\n",
       "    var ncells = cells.length;\n",
       "    for (var i=0; i<ncells; i++) {\n",
       "        var cell = cells[i];\n",
       "        if (cell.cell_type === 'code'){\n",
       "            for (var j=0; j<cell.output_area.outputs.length; j++) {\n",
       "                var data = cell.output_area.outputs[j];\n",
       "                if (data.data) {\n",
       "                    // IPython >= 3 moved mimebundle to data attribute of output\n",
       "                    data = data.data;\n",
       "                }\n",
       "                if (data['text/html'] == html_output) {\n",
       "                    return [cell, data, j];\n",
       "                }\n",
       "            }\n",
       "        }\n",
       "    }\n",
       "}\n",
       "\n",
       "// Register the function which deals with the matplotlib target/channel.\n",
       "// The kernel may be null if the page has been refreshed.\n",
       "if (IPython.notebook.kernel != null) {\n",
       "    IPython.notebook.kernel.comm_manager.register_target('matplotlib', mpl.mpl_figure_comm);\n",
       "}\n"
      ],
      "text/plain": [
       "<IPython.core.display.Javascript object>"
      ]
     },
     "metadata": {},
     "output_type": "display_data"
    },
    {
     "data": {
      "text/html": [
       "<img src=\"data:image/png;base64,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\" width=\"640\">"
      ],
      "text/plain": [
       "<IPython.core.display.HTML object>"
      ]
     },
     "metadata": {},
     "output_type": "display_data"
    }
   ],
   "source": [
    "pts = t.tensor([(1,1),(1,2),(2,2)]).float()\n",
    "plt.scatter(pts[:,0],pts[:,1]); plt.xlim(0,3); plt.ylim(0,3); plt.show()"
   ]
  },
  {
   "cell_type": "code",
   "execution_count": 146,
   "metadata": {
    "collapsed": true
   },
   "outputs": [],
   "source": [
    "params = t.tensor((1,0), requires_grad=True, dtype=t.float32)"
   ]
  },
  {
   "cell_type": "code",
   "execution_count": 148,
   "metadata": {},
   "outputs": [
    {
     "name": "stdout",
     "output_type": "stream",
     "text": [
      "True\n"
     ]
    },
    {
     "ename": "TypeError",
     "evalue": "unsupported operand type(s) for *: 'float' and 'NoneType'",
     "output_type": "error",
     "traceback": [
      "\u001b[0;31m---------------------------------------------------------------------------\u001b[0m",
      "\u001b[0;31mTypeError\u001b[0m                                 Traceback (most recent call last)",
      "\u001b[0;32m<ipython-input-148-bc10f7e199c2>\u001b[0m in \u001b[0;36m<module>\u001b[0;34m()\u001b[0m\n\u001b[1;32m      4\u001b[0m \u001b[0mloss\u001b[0m\u001b[0;34m.\u001b[0m\u001b[0mbackward\u001b[0m\u001b[0;34m(\u001b[0m\u001b[0;34m)\u001b[0m\u001b[0;34m\u001b[0m\u001b[0m\n\u001b[1;32m      5\u001b[0m \u001b[0mprint\u001b[0m\u001b[0;34m(\u001b[0m\u001b[0mparams\u001b[0m\u001b[0;34m.\u001b[0m\u001b[0mrequires_grad\u001b[0m\u001b[0;34m)\u001b[0m\u001b[0;34m\u001b[0m\u001b[0m\n\u001b[0;32m----> 6\u001b[0;31m \u001b[0mparams\u001b[0m \u001b[0;34m=\u001b[0m \u001b[0mparams\u001b[0m \u001b[0;34m-\u001b[0m \u001b[0;36m0.001\u001b[0m\u001b[0;34m*\u001b[0m\u001b[0mparams\u001b[0m\u001b[0;34m.\u001b[0m\u001b[0mgrad\u001b[0m\u001b[0;34m\u001b[0m\u001b[0m\n\u001b[0m",
      "\u001b[0;31mTypeError\u001b[0m: unsupported operand type(s) for *: 'float' and 'NoneType'"
     ]
    }
   ],
   "source": [
    "diff = params[0]*pts[:,0]+params[1]-pts[:,1]\n",
    "sq = (diff*diff).float()\n",
    "loss = sq.mean()\n",
    "loss.backward()\n",
    "print(params.requires_grad)\n",
    "params = params - 0.001*params.grad"
   ]
  },
  {
   "cell_type": "code",
   "execution_count": 125,
   "metadata": {
    "collapsed": true
   },
   "outputs": [],
   "source": []
  },
  {
   "cell_type": "code",
   "execution_count": 127,
   "metadata": {
    "collapsed": true
   },
   "outputs": [],
   "source": []
  },
  {
   "cell_type": "raw",
   "metadata": {},
   "source": []
  },
  {
   "cell_type": "code",
   "execution_count": null,
   "metadata": {
    "collapsed": true
   },
   "outputs": [],
   "source": []
  }
 ],
 "metadata": {
  "kernelspec": {
   "display_name": "Python 3",
   "language": "python",
   "name": "python3"
  },
  "language_info": {
   "codemirror_mode": {
    "name": "ipython",
    "version": 3
   },
   "file_extension": ".py",
   "mimetype": "text/x-python",
   "name": "python",
   "nbconvert_exporter": "python",
   "pygments_lexer": "ipython3",
   "version": "3.6.1"
  }
 },
 "nbformat": 4,
 "nbformat_minor": 2
}
