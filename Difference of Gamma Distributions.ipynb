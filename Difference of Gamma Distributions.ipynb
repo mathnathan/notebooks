{
 "cells": [
  {
   "cell_type": "markdown",
   "metadata": {},
   "source": [
    "# Difference of Gamma Distributions\n",
    "\n",
    "To my knowledge the distribution of the difference of two independent gamma random variables was first studied by Mathai in 1993. He derived a closed form solution. Theorem 2.1 in his paper **On non-central generalized Laplacianness of quadratic forms in normal variables** says the following. Let $X$ and $Y$ be two independent real gamma variables with parameters $(\\alpha_1, \\beta_1)$ and $(\\alpha_2, \\beta_2)$, respectively, $\\alpha_i>0, \\beta_i>0, i=1,2$. Let $U=X-Y$, then for $u>0$ the density function for $U$ is given by the following formula. \n",
    "\n",
    "$$\\huge g(u) = c_1 u^{\\frac{\\alpha_1 + \\alpha_2 - 2}{2}} e^{\\frac{u}{2\\beta_2}+\\frac{u}{2\\beta_1}} W_{\\frac{\\alpha_1 - \\alpha_2}{2}, \\frac{1-\\alpha_1-\\alpha_2}{2}}(-\\beta_0 u)$$\n",
    "\n",
    "where \n",
    "$$ \\huge \\begin{array}{lcl} c_1^{-1} & = & \\Gamma(\\alpha_1)\\beta_1^{\\frac{\\alpha_1 - \\alpha_2}{2}}\\beta_2^{\\frac{\\alpha_2 - \\alpha_1}{2}}(\\beta_1+\\beta_2)^{\\frac{\\alpha_1 + \\alpha_2}{2}} \\\\ \\beta_0 & = & \\frac{1}{\\beta_1} + \\frac{1}{\\beta_2}\\end{array}$$\n",
    "\n",
    "and $W$ is the whittaker function\n",
    "\n",
    "$$ \\huge W_{k,m}(z) = z^{m + \\frac{1}{2}} e^{-\\frac{z}{2}}U_{m-k+\\frac{1}{2},1+2m}(z) $$\n",
    "\n",
    "where $U$ is a confluent hypergeometric function (chf) defined in terms of its other chf $M$\n",
    "\n",
    "$$ \\huge \\begin{array}{lcl} U_{a,b}(z) & = & \\frac{\\Gamma(1-b)}{\\Gamma(a-b+1)}M_{a,b}(z) + \\frac{\\Gamma(b-1)}{\\Gamma(a)}z^{1-b}M_{a-b+1,2-b}(z) \\\\ M_{a,b}(z) & = & \\sum\\limits_{n=0}^\\infty \\frac{a^{(n)}z^n}{b^{(n)}n!} \\end{array}$$\n",
    "\n",
    "where \n",
    "\n",
    "$$ \\huge \\begin{array}{lcl} a^{(0)} & = & 0 \\\\ a^{(1)} & = & a \\\\ & \\vdots & \\\\ a^{(n)} & = & a(a+1)(a+2)\\dots (a+n-1) \\end{array}$$\n",
    "\n",
    "and finally, the gamma function $\\Gamma$ is defined as\n",
    "\n",
    "$$ \\huge \\Gamma(k) = \\int_0^\\infty x^{1-k} e^{-x} dx, \\hspace{20pt} k \\in (0,\\infty) $$"
   ]
  },
  {
   "cell_type": "code",
   "execution_count": null,
   "metadata": {
    "collapsed": true
   },
   "outputs": [],
   "source": []
  }
 ],
 "metadata": {
  "kernelspec": {
   "display_name": "Python 2",
   "language": "python",
   "name": "python2"
  },
  "language_info": {
   "codemirror_mode": {
    "name": "ipython",
    "version": 2
   },
   "file_extension": ".py",
   "mimetype": "text/x-python",
   "name": "python",
   "nbconvert_exporter": "python",
   "pygments_lexer": "ipython2",
   "version": "2.7.11"
  }
 },
 "nbformat": 4,
 "nbformat_minor": 0
}
