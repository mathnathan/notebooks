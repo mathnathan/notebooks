{
 "cells": [
  {
   "cell_type": "markdown",
   "metadata": {},
   "source": [
    "Take the following dataset...\n",
    "\n",
    "$X = [(x_0^{(1)}, x_1^{(1)}), (x_0^{(2)}, x_1^{(2)}), \\dots , (x_0^{(n)}, x_1^{(n)})]$ \n",
    "\n",
    "$\\textbf{x}^{(i)} = (x_0^{(i)}, x_1^{(i)})$"
   ]
  },
  {
   "cell_type": "code",
   "execution_count": 77,
   "metadata": {
    "collapsed": false
   },
   "outputs": [
    {
     "name": "stdout",
     "output_type": "stream",
     "text": [
      "[[9 2]\n",
      " [3 9]\n",
      " [4 1]\n",
      " [2 8]\n",
      " [9 1]\n",
      " [1 8]\n",
      " [1 5]\n",
      " [9 7]\n",
      " [3 6]\n",
      " [3 1]\n",
      " [6 5]\n",
      " [2 6]\n",
      " [7 7]\n",
      " [9 1]\n",
      " [4 2]\n",
      " [2 5]\n",
      " [3 3]\n",
      " [9 6]\n",
      " [7 4]\n",
      " [8 6]\n",
      " [3 8]\n",
      " [2 6]\n",
      " [2 9]\n",
      " [7 2]\n",
      " [8 6]\n",
      " [7 9]\n",
      " [3 2]\n",
      " [7 8]\n",
      " [4 7]\n",
      " [8 7]\n",
      " [8 2]\n",
      " [1 3]\n",
      " [4 6]\n",
      " [7 6]\n",
      " [7 9]\n",
      " [9 2]\n",
      " [7 5]\n",
      " [2 1]\n",
      " [9 1]\n",
      " [1 2]\n",
      " [6 6]\n",
      " [1 7]\n",
      " [2 6]\n",
      " [5 8]\n",
      " [5 7]\n",
      " [6 5]\n",
      " [6 2]\n",
      " [7 2]\n",
      " [3 3]\n",
      " [7 4]]\n"
     ]
    }
   ],
   "source": [
    "import numpy as np\n",
    "size = 50\n",
    "x = np.array((np.random.randint(1,10,size), np.random.randint(1,10,size))).T\n",
    "print x"
   ]
  },
  {
   "cell_type": "markdown",
   "metadata": {},
   "source": [
    "#### Unweighted Mean\n",
    "\n",
    "Often when refering to the mean of a multidimensional dataset, we are referring to the mean calculated over each dimension. If the mean is intended to be over the entire dataset it is often explicitly stated.\n",
    "\n",
    "$\\mu = \\frac{1}{n} \\sum\\limits_{i=1}^n \\textbf{x}^{(i)} = (\\bar{x}_0, \\bar{x}_1)$"
   ]
  },
  {
   "cell_type": "code",
   "execution_count": 78,
   "metadata": {
    "collapsed": false
   },
   "outputs": [
    {
     "data": {
      "text/plain": [
       "array([ 5.1 ,  4.88])"
      ]
     },
     "execution_count": 78,
     "metadata": {},
     "output_type": "execute_result"
    }
   ],
   "source": [
    "mu = np.average(x, 0) # This performs the average over the two main dimensions\n",
    "mu"
   ]
  },
  {
   "cell_type": "markdown",
   "metadata": {},
   "source": [
    "To verify..."
   ]
  },
  {
   "cell_type": "code",
   "execution_count": 79,
   "metadata": {
    "collapsed": false
   },
   "outputs": [
    {
     "data": {
      "text/plain": [
       "array([ 5.1 ,  4.88])"
      ]
     },
     "execution_count": 79,
     "metadata": {},
     "output_type": "execute_result"
    }
   ],
   "source": [
    "x0_bar = 0\n",
    "x1_bar = 0\n",
    "for xi in x:\n",
    "    x0_bar += xi[0]\n",
    "    x1_bar += xi[1]\n",
    "x0_bar /= float(size)\n",
    "x1_bar /= float(size)\n",
    "\n",
    "np.array((x0_bar, x1_bar))"
   ]
  },
  {
   "cell_type": "markdown",
   "metadata": {},
   "source": [
    "#### Standard Deviation\n",
    "\n",
    "This is often understood as the tendency for the data to \"deviate\" from the mean. In other words, this is how far on average any one element from the dataset will differ from the mean.\n",
    "\n",
    "$\\sigma = \\sqrt{ \\frac{1}{n} \\sum\\limits_{i=1}^n ( \\textbf{x}^{(i)} - \\mu )^2 }$"
   ]
  },
  {
   "cell_type": "code",
   "execution_count": 80,
   "metadata": {
    "collapsed": false
   },
   "outputs": [
    {
     "data": {
      "text/plain": [
       "array([ 2.70739727,  2.58178233])"
      ]
     },
     "execution_count": 80,
     "metadata": {},
     "output_type": "execute_result"
    }
   ],
   "source": [
    "sigma = np.std(x, 0) # This performs the standard deviation over the two main dimensions\n",
    "sigma"
   ]
  },
  {
   "cell_type": "markdown",
   "metadata": {},
   "source": [
    "This time we will verify using vectorized code..."
   ]
  },
  {
   "cell_type": "code",
   "execution_count": 81,
   "metadata": {
    "collapsed": false
   },
   "outputs": [
    {
     "data": {
      "text/plain": [
       "array([ 2.70739727,  2.58178233])"
      ]
     },
     "execution_count": 81,
     "metadata": {},
     "output_type": "execute_result"
    }
   ],
   "source": [
    "sigma2 = np.array([0.0,0.0])\n",
    "for xi in x:\n",
    "    sigma2 += np.power(xi - mu, 2)\n",
    "np.sqrt(sigma2/size)"
   ]
  },
  {
   "cell_type": "markdown",
   "metadata": {},
   "source": [
    "#### Variance\n",
    "\n",
    "Variance is the square of the standard deviation. Therefore we often simply refer to this quantity as $\\sigma ^2$. Why not just use standard deviation? This answer has more theoretical origins than I am comfortable explaining right now. I need to look more into this.\n",
    "\n",
    "$\\sigma ^2 = \\frac{1}{n} \\sum\\limits_{i=1}^n ( \\textbf{x}^{(i)} - \\mu )^2$"
   ]
  },
  {
   "cell_type": "code",
   "execution_count": 82,
   "metadata": {
    "collapsed": false
   },
   "outputs": [
    {
     "data": {
      "text/plain": [
       "array([ 7.33  ,  6.6656])"
      ]
     },
     "execution_count": 82,
     "metadata": {},
     "output_type": "execute_result"
    }
   ],
   "source": [
    "np.var(x, 0)"
   ]
  },
  {
   "cell_type": "markdown",
   "metadata": {},
   "source": [
    "To verify we will simply square the standard deviation found in the last section"
   ]
  },
  {
   "cell_type": "code",
   "execution_count": 83,
   "metadata": {
    "collapsed": false
   },
   "outputs": [
    {
     "data": {
      "text/plain": [
       "array([ 7.33  ,  6.6656])"
      ]
     },
     "execution_count": 83,
     "metadata": {},
     "output_type": "execute_result"
    }
   ],
   "source": [
    "np.power(sigma, 2)"
   ]
  },
  {
   "cell_type": "markdown",
   "metadata": {},
   "source": [
    "#### Covariance\n",
    "\n",
    "This is how we begin to understand the relationship between two variables. If the standard deviation and variance are measures of how each element of a dataset vary from the mean, then covariance is a measure of how two datasets vary together.\n",
    "\n",
    "$\\text{COV}(\\vec{x}_0, \\vec{x}_1) = \\frac{1}{n} \\sum\\limits_{i=1}^n ( x_0^{(i)} - \\mu_0 )( x_1^{(i)} - \\mu_1)$"
   ]
  },
  {
   "cell_type": "code",
   "execution_count": 84,
   "metadata": {
    "collapsed": false
   },
   "outputs": [
    {
     "data": {
      "text/plain": [
       "array([[ 7.47959184, -1.11020408],\n",
       "       [-1.11020408,  6.80163265]])"
      ]
     },
     "execution_count": 84,
     "metadata": {},
     "output_type": "execute_result"
    }
   ],
   "source": [
    "np.cov(x.T)"
   ]
  },
  {
   "cell_type": "code",
   "execution_count": 85,
   "metadata": {
    "collapsed": false
   },
   "outputs": [
    {
     "data": {
      "text/plain": [
       "array([[ 7.33  , -1.088 ],\n",
       "       [-1.088 ,  6.6656]])"
      ]
     },
     "execution_count": 85,
     "metadata": {},
     "output_type": "execute_result"
    }
   ],
   "source": [
    "np.dot((x-mu).T, x-mu)/size"
   ]
  },
  {
   "cell_type": "code",
   "execution_count": 86,
   "metadata": {
    "collapsed": false
   },
   "outputs": [],
   "source": [
    "plt.scatter(x.T[0], x.T[1])\n",
    "plt.show()"
   ]
  },
  {
   "cell_type": "code",
   "execution_count": null,
   "metadata": {
    "collapsed": true
   },
   "outputs": [],
   "source": []
  }
 ],
 "metadata": {
  "kernelspec": {
   "display_name": "Python 2",
   "language": "python",
   "name": "python2"
  },
  "language_info": {
   "codemirror_mode": {
    "name": "ipython",
    "version": 2
   },
   "file_extension": ".py",
   "mimetype": "text/x-python",
   "name": "python",
   "nbconvert_exporter": "python",
   "pygments_lexer": "ipython2",
   "version": "2.7.11"
  }
 },
 "nbformat": 4,
 "nbformat_minor": 0
}
