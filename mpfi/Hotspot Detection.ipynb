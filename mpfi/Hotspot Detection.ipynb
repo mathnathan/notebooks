{
 "cells": [
  {
   "cell_type": "markdown",
   "metadata": {},
   "source": [
    "The hotspot detection algorithm is shown in the slides below and there is also a video of me eplaining it. I begin the explanation around 51 minutes."
   ]
  },
  {
   "cell_type": "code",
   "execution_count": 10,
   "metadata": {
    "collapsed": false
   },
   "outputs": [
    {
     "data": {
      "text/html": [
       "\n",
       "        <iframe\n",
       "            width=\"902\"\n",
       "            height=\"413\"\n",
       "            src=\"https://docs.google.com/presentation/d/12olWwtAKuVVp0_Uu6U-BVo2z9Q1Xr7YVCgbXpvNj5y4/embed?start=false&loop=false&delayms=3000&slide=id.g10f5d687fc_1_50\"\n",
       "            frameborder=\"0\"\n",
       "            allowfullscreen\n",
       "        ></iframe>\n",
       "        "
      ],
      "text/plain": [
       "<IPython.lib.display.IFrame at 0x7f5a3c199150>"
      ]
     },
     "execution_count": 10,
     "metadata": {},
     "output_type": "execute_result"
    }
   ],
   "source": [
    "from IPython.display import IFrame\n",
    "\n",
    "IFrame(\"https://docs.google.com/presentation/d/12olWwtAKuVVp0_Uu6U-BVo2z9Q1Xr7YVCgbXpvNj5y4/embed?start=false&loop=false&delayms=3000&slide=id.g10f5d687fc_1_50\", width=902, height=413)"
   ]
  },
  {
   "cell_type": "markdown",
   "metadata": {},
   "source": [
    "The slide above is an excerpt from the presentation that Gordon and I gave about our work with you. You \n",
    "may be interested in it! The recording is on youtube and I have embeded it below. (the hotspot detection is presented around 51:00)"
   ]
  },
  {
   "cell_type": "code",
   "execution_count": 8,
   "metadata": {
    "collapsed": false
   },
   "outputs": [
    {
     "data": {
      "text/html": [
       "\n",
       "        <iframe\n",
       "            width=\"560\"\n",
       "            height=\"315\"\n",
       "            src=\"https://www.youtube.com/embed/R5xsNUlFY_Q\"\n",
       "            frameborder=\"0\"\n",
       "            allowfullscreen\n",
       "        ></iframe>\n",
       "        "
      ],
      "text/plain": [
       "<IPython.lib.display.IFrame at 0x7f5a3c199390>"
      ]
     },
     "execution_count": 8,
     "metadata": {},
     "output_type": "execute_result"
    }
   ],
   "source": [
    "IFrame(\"https://www.youtube.com/embed/R5xsNUlFY_Q\", width=560, height=315)"
   ]
  },
  {
   "cell_type": "markdown",
   "metadata": {},
   "source": [
    "I tested the algorithm on the \"TSeries-06232015-1045__EpOri(12sec_2dir)_Site2_4Hz_0.75ISO_Astro3_AL\" dataset. There is a particular diffusive event around frame 192 that I was testing it on. It is shown on slides above (slide 44)."
   ]
  },
  {
   "cell_type": "markdown",
   "metadata": {},
   "source": [
    "I start the program and it currently looks like the following screen shot... \n",
    "\n",
    "<img src=\"../media/hotspot_detection/gui.png\">"
   ]
  },
  {
   "cell_type": "markdown",
   "metadata": {},
   "source": [
    "The image on the left is where the practioner draws their paths. The plots on the right are only for testing purposes. Each plot corresponds to a different flow frame. They are as follows \n",
    "\n",
    "\n",
    "<list>\n",
    "<li>Plot1: 191->192</li>\n",
    "<li>Plot2: 192->193</li>\n",
    "<li>Plot3: 193->194</li>\n",
    "<li>Plot4: 194->195</li>\n",
    "<li>Plot5: 195->196</li>\n",
    "</list>\n",
    "\n",
    "Again this is only for testing, all of this will change when I develop the browser based gui. \n",
    "\n",
    "It can be difficult to draw the path on the current plot so we zoom into the region we are interested in and the screen then looks like... \n",
    "\n",
    "<img src=\"../media/hotspot_detection/zoom.png\">"
   ]
  },
  {
   "cell_type": "markdown",
   "metadata": {},
   "source": [
    "Lastly we just draw out path along the process and the results will be presented in the plots on the right as follows... \n",
    "\n",
    "<img src=\"../media/hotspot_detection/results.png\">"
   ]
  },
  {
   "cell_type": "markdown",
   "metadata": {},
   "source": [
    "As we see, the plots are what we would have expected them to be =). This is great news. The second plot down shows the flow from frame 192->193 which in slide 44 of the presentation shows the inward flow of calcium to the point, and the next frame is when the diffusive event takes place. This is clearly shown in the next plot which shows the flow from frame 193->194. The zero crossing in the plot is easy to detect and it predicts the hotspot to be located at the spatial coordinates (x=169.019034,y=128.333777). This is where we would have expected it to occur by visually inspecting the flow in slide 44 of the presentation. What remains is to add a statistical confidence of how likely the hotspot is to be significant. This will be based on how frequently it apprea"
   ]
  }
 ],
 "metadata": {
  "kernelspec": {
   "display_name": "Python 2",
   "language": "python",
   "name": "python2"
  },
  "language_info": {
   "codemirror_mode": {
    "name": "ipython",
    "version": 2
   },
   "file_extension": ".py",
   "mimetype": "text/x-python",
   "name": "python",
   "nbconvert_exporter": "python",
   "pygments_lexer": "ipython2",
   "version": "2.7.11"
  }
 },
 "nbformat": 4,
 "nbformat_minor": 0
}
