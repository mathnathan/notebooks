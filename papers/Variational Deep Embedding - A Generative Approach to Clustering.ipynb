{
 "cells": [
  {
   "cell_type": "markdown",
   "metadata": {},
   "source": [
    "According to the paper there are two primary approaches to clustering, Similarity-based clustering and Feature-based clustering. Similarity based methods operate on a distance matrix (NxN) that measures the distances between each pair of the N samples. Feature based methods operate on the original data (NxD) where D is the dimensionality of the input data. A popular similarity method is Spectral Clustering, while a classic feature based method is the k-means clustering."
   ]
  },
  {
   "cell_type": "code",
   "execution_count": null,
   "metadata": {
    "collapsed": true
   },
   "outputs": [],
   "source": []
  }
 ],
 "metadata": {
  "kernelspec": {
   "display_name": "Python 3",
   "language": "python",
   "name": "python3"
  },
  "language_info": {
   "codemirror_mode": {
    "name": "ipython",
    "version": 3
   },
   "file_extension": ".py",
   "mimetype": "text/x-python",
   "name": "python",
   "nbconvert_exporter": "python",
   "pygments_lexer": "ipython3",
   "version": "3.6.1"
  }
 },
 "nbformat": 4,
 "nbformat_minor": 2
}
