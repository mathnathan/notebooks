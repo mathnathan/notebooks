{
 "cells": [
  {
   "cell_type": "markdown",
   "metadata": {},
   "source": [
    "A random dynamical system (RDS) is defined as a triplet $(S,\\Gamma,Q)$.\n",
    "\n",
    "- $S$ is the state space\n",
    "- $\\Gamma$ is a family of maps such that $\\gamma: S \\mapsto S | \\gamma \\in \\Gamma$.\n",
    "- $Q$ is a probability distribution over a sigmafield of $\\Gamma$"
   ]
  }
 ],
 "metadata": {
  "kernelspec": {
   "display_name": "Python 3",
   "language": "python",
   "name": "python3"
  },
  "language_info": {
   "codemirror_mode": {
    "name": "ipython",
    "version": 3
   },
   "file_extension": ".py",
   "mimetype": "text/x-python",
   "name": "python",
   "nbconvert_exporter": "python",
   "pygments_lexer": "ipython3",
   "version": "3.7.4"
  }
 },
 "nbformat": 4,
 "nbformat_minor": 4
}
