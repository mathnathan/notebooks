{
 "cells": [
  {
   "cell_type": "markdown",
   "metadata": {},
   "source": [
    "## Scale Invariance"
   ]
  },
  {
   "cell_type": "markdown",
   "metadata": {},
   "source": [
    "Many systems exist where phenomena at diverse scales coexist. An example is the ocean. One has macro scale behavior such as global ocean currents, mseo scale behavior, such as eddies, or plankton blooms, and microscale behavior such as small oceanographic ecosystems on islands or reefs. Each of the can be studied with their own independent models. However there also exist what are called 'scale invariant' or 'scale free' models where the critical points along the contimum of scales are similar."
   ]
  },
  {
   "cell_type": "markdown",
   "metadata": {},
   "source": [
    "## Power Laws"
   ]
  },
  {
   "cell_type": "markdown",
   "metadata": {},
   "source": [
    "The commonly used statistical distribution to describe power-laws is the Pareto distribution\n",
    "\n",
    "$$P(x) = Ax^{-\\alpha}$$\n",
    "\n",
    "It is said to be scale free because the ratio  is independent of the scale $x$,\n",
    "\n",
    "$$\\frac{P(\\Lambda x)}{P(x)} = \\frac{\\Lambda^{-\\alpha}P(x)}{P(x)} = \\Lambda^{-\\alpha}$$"
   ]
  },
  {
   "cell_type": "markdown",
   "metadata": {},
   "source": [
    "## Criticality"
   ]
  },
  {
   "cell_type": "markdown",
   "metadata": {},
   "source": [
    "In the simplest sense, this describes a system at or near a dynamical critical point. "
   ]
  },
  {
   "cell_type": "code",
   "execution_count": null,
   "metadata": {},
   "outputs": [],
   "source": []
  }
 ],
 "metadata": {
  "kernelspec": {
   "display_name": "Python 3",
   "language": "python",
   "name": "python3"
  },
  "language_info": {
   "codemirror_mode": {
    "name": "ipython",
    "version": 3
   },
   "file_extension": ".py",
   "mimetype": "text/x-python",
   "name": "python",
   "nbconvert_exporter": "python",
   "pygments_lexer": "ipython3",
   "version": "3.7.4"
  }
 },
 "nbformat": 4,
 "nbformat_minor": 2
}
