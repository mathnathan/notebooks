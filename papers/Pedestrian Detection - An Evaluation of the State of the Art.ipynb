{
 "cells": [
  {
   "cell_type": "markdown",
   "metadata": {},
   "source": [
    "# Introduction\n",
    "\n",
    "## 1.1 Contributions\n",
    "\n",
    "Here they mention one dataset for training pedestrian detection. It is composed of 350,000 pedestrian **bounding boxes**. That means one method is to train a network to out put bounding boxes for the pedestrians it has found. But how many? How do you design a network to have variable sized outputs?\n",
    "\n"
   ]
  }
 ],
 "metadata": {
  "kernelspec": {
   "display_name": "Python 3",
   "language": "python",
   "name": "python3"
  },
  "language_info": {
   "codemirror_mode": {
    "name": "ipython",
    "version": 3
   },
   "file_extension": ".py",
   "mimetype": "text/x-python",
   "name": "python",
   "nbconvert_exporter": "python",
   "pygments_lexer": "ipython3",
   "version": "3.6.1"
  }
 },
 "nbformat": 4,
 "nbformat_minor": 2
}
